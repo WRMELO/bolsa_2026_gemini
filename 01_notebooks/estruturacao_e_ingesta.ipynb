{
 "cells": [
  {
   "cell_type": "markdown",
   "id": "2b66eb30",
   "metadata": {},
   "source": [
    "# Coleta limpa: 24 B3 (.SA) + 7 indicadores (2012-01-01 ↔ 2025-09-20)\n",
    "\n",
    "- Persistência: Parquets individuais por série em `00_data/01_bruto`.\n",
    "- Janela: do mais recente (2025-09-20) até o mais antigo, cortando em 2012-01-01.\n",
    "- Fontes:\n",
    "  - Ações B3: investpy (com fallback yfinance para listagens mais recentes)\n",
    "  - Indicadores/ETF/commodities: yfinance\n"
   ]
  },
  {
   "cell_type": "code",
   "execution_count": 1,
   "id": "728561a7",
   "metadata": {},
   "outputs": [
    {
     "name": "stderr",
     "output_type": "stream",
     "text": [
      "\n",
      "[notice] A new release of pip is available: 25.0.1 -> 25.2\n",
      "[notice] To update, run: python.exe -m pip install --upgrade pip\n"
     ]
    },
    {
     "name": "stdout",
     "output_type": "stream",
     "text": [
      "Note: you may need to restart the kernel to use updated packages.\n"
     ]
    },
    {
     "name": "stderr",
     "output_type": "stream",
     "text": [
      "g:\\Drives compartilhados\\BOLSA_2026\\a_bolsa2026_gemini\\.conda\\Lib\\site-packages\\investpy\\bonds.py:10: UserWarning: pkg_resources is deprecated as an API. See https://setuptools.pypa.io/en/latest/pkg_resources.html. The pkg_resources package is slated for removal as early as 2025-11-30. Refrain from using this package or pin to Setuptools<81.\n",
      "  import pkg_resources\n"
     ]
    },
    {
     "name": "stdout",
     "output_type": "stream",
     "text": [
      "OUT_DIR = G:\\Drives compartilhados\\BOLSA_2026\\a_bolsa2026_gemini\\00_data\\01_bruto\n"
     ]
    }
   ],
   "source": [
    "# 1) Instalação e imports essenciais\n",
    "%pip install --quiet investpy==1.0.8 yfinance==0.2.58 lxml==4.9.3 html5lib==1.1 tqdm>=4.66.0 pyarrow>=14.0.0\n",
    "\n",
    "import os, time\n",
    "from pathlib import Path\n",
    "from datetime import datetime, timedelta\n",
    "import pandas as pd\n",
    "from tqdm import tqdm\n",
    "from zoneinfo import ZoneInfo\n",
    "import investpy, yfinance as yf\n",
    "\n",
    "TZ_SP = ZoneInfo(\"America/Sao_Paulo\")\n",
    "CUT_MAX = datetime(2025, 9, 20, tzinfo=TZ_SP).date()   # mais recente\n",
    "CUT_MIN = datetime(2012, 1, 1, tzinfo=TZ_SP).date()    # mais antigo\n",
    "OUT_DIR = Path(r\"G:/Drives compartilhados/BOLSA_2026/a_bolsa2026_gemini/00_data/01_bruto\")\n",
    "OUT_DIR.mkdir(parents=True, exist_ok=True)\n",
    "print(\"OUT_DIR =\", OUT_DIR)\n"
   ]
  },
  {
   "cell_type": "code",
   "execution_count": 2,
   "id": "6416bd74",
   "metadata": {},
   "outputs": [
    {
     "name": "stdout",
     "output_type": "stream",
     "text": [
      "24 B3 + 7 indicadores\n"
     ]
    }
   ],
   "source": [
    "# 2) Lista dos 24 B3 (.SA) e 7 indicadores\n",
    "TICKERS_B3 = [\n",
    "    \"ABEV3.SA\", \"B3SA3.SA\", \"BBAS3.SA\", \"CSNA3.SA\", \"CPLE6.SA\", \"ELET3.SA\", \"GGBR4.SA\",\n",
    "    \"HAPV3.SA\", \"ITUB4.SA\", \"LREN3.SA\", \"PETR4.SA\", \"PRIO3.SA\", \"PSSA3.SA\", \"RAIL3.SA\",\n",
    "    \"RDOR3.SA\", \"SBSP3.SA\", \"SUZB3.SA\", \"TAEE11.SA\", \"TIMS3.SA\", \"UGPA3.SA\", \"VALE3.SA\",\n",
    "    \"VIVT3.SA\", \"WEGE3.SA\", \"TOTS3.SA\"\n",
    "]\n",
    "INDICATORS = {\n",
    "    \"^BVSP\": \"_bvsp\",\n",
    "    \"EWZ\": \"ewz\",\n",
    "    \"^GSPC\": \"_gspc\",\n",
    "    \"^VIX\": \"_vix\",\n",
    "    \"DX-Y.NYB\": \"dx-y.nyb\",\n",
    "    \"^TNX\": \"_tnx\",\n",
    "    \"BZ=F\": \"bz=f\",\n",
    "}\n",
    "print(len(TICKERS_B3), \"B3 +\", len(INDICATORS), \"indicadores\")"
   ]
  },
  {
   "cell_type": "code",
   "execution_count": 5,
   "id": "f0f0dbb6",
   "metadata": {},
   "outputs": [],
   "source": [
    "# 3) Utilitários de datas/normalização e coletores (investpy + yfinance)\n",
    "\n",
    "def sp_date(d: datetime | str):\n",
    "    if isinstance(d, str):\n",
    "        return datetime.fromisoformat(d).date()\n",
    "    return d.date() if isinstance(d, datetime) else d\n",
    "\n",
    "def clamp_window(min_str=\"2012-01-01\", max_str=\"2025-09-20\"):\n",
    "    dmin = datetime.fromisoformat(min_str).date()\n",
    "    dmax = datetime.fromisoformat(max_str).date()\n",
    "    return dmin, dmax\n",
    "\n",
    "CUT_MIN, CUT_MAX = clamp_window(\"2012-01-01\", \"2025-09-20\")\n",
    "\n",
    "def to_investing_symbol(b3_symbol: str) -> str:\n",
    "    return b3_symbol.upper().replace('.SA','')\n",
    "\n",
    "\n",
    "def _to_dtindex_sp(values) -> pd.DatetimeIndex:\n",
    "    idx = pd.DatetimeIndex(pd.to_datetime(values))\n",
    "    if idx.tz is None:\n",
    "        idx = idx.tz_localize(TZ_SP)\n",
    "    else:\n",
    "        idx = idx.tz_convert(TZ_SP)\n",
    "    return idx\n",
    "\n",
    "\n",
    "def normalize_df(df: pd.DataFrame, ticker_label: str) -> pd.DataFrame:\n",
    "    rename = {\"Date\":\"date\",\"Open\":\"open\",\"High\":\"high\",\"Low\":\"low\",\"Close\":\"close\",\"Adj Close\":\"adj_close\",\"Volume\":\"volume\"}\n",
    "    df = df.rename(columns=rename)\n",
    "    # construir datetime_sp em TZ_SP\n",
    "    if 'date' in df.columns:\n",
    "        dt_idx = _to_dtindex_sp(df['date'])\n",
    "    elif 'Date' in df.columns:\n",
    "        dt_idx = _to_dtindex_sp(df['Date'])\n",
    "    else:\n",
    "        dt_idx = _to_dtindex_sp(df.index)\n",
    "    out = df.reset_index(drop=True)\n",
    "    ts = pd.Series(dt_idx)\n",
    "    out['datetime_sp'] = ts.values\n",
    "    out['date'] = pd.to_datetime(ts).dt.date.astype(str)\n",
    "    out['ticker'] = ticker_label\n",
    "    # recorte da janela\n",
    "    out = out[(out['date'] >= CUT_MIN.strftime('%Y-%m-%d')) & (out['date'] <= CUT_MAX.strftime('%Y-%m-%d'))]\n",
    "    # garantir colunas essenciais\n",
    "    for c in [\"open\",\"high\",\"low\",\"close\",\"volume\"]:\n",
    "        if c not in out.columns:\n",
    "            out[c] = pd.NA\n",
    "    out = out[[\"ticker\",\"date\",\"open\",\"high\",\"low\",\"close\",\"volume\",\"datetime_sp\"]]\n",
    "    out.drop_duplicates(subset=[\"ticker\",\"date\"], inplace=True)\n",
    "    return out\n",
    "\n",
    "\n",
    "def fetch_b3(b3_symbol: str) -> pd.DataFrame:\n",
    "    \"\"\"Tenta investpy; se falhar, cai para yfinance (útil para TIMS3/RDOR3).\"\"\"\n",
    "    sym = to_investing_symbol(b3_symbol)\n",
    "    f_str = CUT_MIN.strftime('%d/%m/%Y'); t_str = CUT_MAX.strftime('%d/%m/%Y')\n",
    "    try:\n",
    "        # tenta via search_quotes\n",
    "        res = investpy.search_quotes(text=sym, products=['stocks'], countries=['brazil'])\n",
    "        qlist = res if isinstance(res, list) else ([res] if res else [])\n",
    "        if qlist:\n",
    "            pick = next((q for q in qlist if getattr(q,'symbol','').upper()==sym.upper()), qlist[0])\n",
    "            df = pick.retrieve_historical_data(from_date=f_str, to_date=t_str, as_json=False, order='descending')\n",
    "            if df is not None and not df.empty:\n",
    "                return normalize_df(df, b3_symbol.upper())\n",
    "        # fallback investpy direto\n",
    "        df = investpy.get_stock_historical_data(stock=sym, country='brazil', from_date=f_str, to_date=t_str, as_json=False, order='descending')\n",
    "        if df is not None and not df.empty:\n",
    "            return normalize_df(df, b3_symbol.upper())\n",
    "    except Exception:\n",
    "        pass\n",
    "    # yfinance fallback\n",
    "    tkr = yf.Ticker(b3_symbol)\n",
    "    df = tkr.history(start=CUT_MIN.strftime('%Y-%m-%d'), end=(CUT_MAX + timedelta(days=1)).strftime('%Y-%m-%d'), interval='1d', auto_adjust=False)\n",
    "    if df is None or df.empty:\n",
    "        raise RuntimeError(f\"Sem dados para {b3_symbol}\")\n",
    "    return normalize_df(df, b3_symbol.upper())\n",
    "\n",
    "\n",
    "def fetch_indicator(yf_symbol: str, db_symbol: str) -> pd.DataFrame:\n",
    "    tkr = yf.Ticker(yf_symbol)\n",
    "    df = tkr.history(start=CUT_MIN.strftime('%Y-%m-%d'), end=(CUT_MAX + timedelta(days=1)).strftime('%Y-%m-%d'), interval='1d', auto_adjust=False)\n",
    "    if df is None or df.empty:\n",
    "        raise RuntimeError(f\"Sem dados para {yf_symbol}\")\n",
    "    return normalize_df(df, db_symbol)\n",
    "\n",
    "\n",
    "def save_parquet(df: pd.DataFrame, out_path: Path):\n",
    "    if df is None or df.empty:\n",
    "        raise ValueError(\"DF vazio.\")\n",
    "    out_path.parent.mkdir(parents=True, exist_ok=True)\n",
    "    df.to_parquet(out_path, index=False)\n",
    "    return out_path"
   ]
  },
  {
   "cell_type": "code",
   "execution_count": 6,
   "id": "bee1eb37",
   "metadata": {},
   "outputs": [
    {
     "name": "stderr",
     "output_type": "stream",
     "text": [
      "B3 .SA: 100%|██████████| 24/24 [00:15<00:00,  1.56it/s]"
     ]
    },
    {
     "name": "stdout",
     "output_type": "stream",
     "text": [
      "B3 OK: 24 Falhas: 0\n"
     ]
    },
    {
     "name": "stderr",
     "output_type": "stream",
     "text": [
      "\n"
     ]
    },
    {
     "data": {
      "text/plain": [
       "([('ABEV3.SA',\n",
       "   3409,\n",
       "   'G:\\\\Drives compartilhados\\\\BOLSA_2026\\\\a_bolsa2026_gemini\\\\00_data\\\\01_bruto\\\\abev3_sa_1d.parquet'),\n",
       "  ('B3SA3.SA',\n",
       "   3409,\n",
       "   'G:\\\\Drives compartilhados\\\\BOLSA_2026\\\\a_bolsa2026_gemini\\\\00_data\\\\01_bruto\\\\b3sa3_sa_1d.parquet'),\n",
       "  ('BBAS3.SA',\n",
       "   3409,\n",
       "   'G:\\\\Drives compartilhados\\\\BOLSA_2026\\\\a_bolsa2026_gemini\\\\00_data\\\\01_bruto\\\\bbas3_sa_1d.parquet'),\n",
       "  ('CSNA3.SA',\n",
       "   3409,\n",
       "   'G:\\\\Drives compartilhados\\\\BOLSA_2026\\\\a_bolsa2026_gemini\\\\00_data\\\\01_bruto\\\\csna3_sa_1d.parquet'),\n",
       "  ('CPLE6.SA',\n",
       "   3408,\n",
       "   'G:\\\\Drives compartilhados\\\\BOLSA_2026\\\\a_bolsa2026_gemini\\\\00_data\\\\01_bruto\\\\cple6_sa_1d.parquet')],\n",
       " [])"
      ]
     },
     "execution_count": 6,
     "metadata": {},
     "output_type": "execute_result"
    }
   ],
   "source": [
    "# 4) Coleta B3 (24 .SA) — do mais recente (20/09/2025) ao mais antigo (>= 01/01/2012)\n",
    "results = []\n",
    "errors = []\n",
    "for tk in tqdm(TICKERS_B3, desc='B3 .SA'):\n",
    "    try:\n",
    "        df = fetch_b3(tk)\n",
    "        out = OUT_DIR / f\"{tk.replace('.','_').lower()}_1d.parquet\"\n",
    "        save_parquet(df, out)\n",
    "        results.append((tk, len(df), str(out)))\n",
    "    except Exception as e:\n",
    "        errors.append((tk, str(e)))\n",
    "        time.sleep(0.5)\n",
    "\n",
    "print('B3 OK:', len(results), 'Falhas:', len(errors))\n",
    "results[:5], errors[:5]"
   ]
  },
  {
   "cell_type": "code",
   "execution_count": 7,
   "id": "d0d4a892",
   "metadata": {},
   "outputs": [
    {
     "name": "stderr",
     "output_type": "stream",
     "text": [
      "Indicadores: 100%|██████████| 7/7 [00:03<00:00,  1.95it/s]"
     ]
    },
    {
     "name": "stdout",
     "output_type": "stream",
     "text": [
      "Indicadores OK: 7 Falhas: 0\n"
     ]
    },
    {
     "name": "stderr",
     "output_type": "stream",
     "text": [
      "\n"
     ]
    },
    {
     "data": {
      "text/plain": [
       "([('^BVSP',\n",
       "   '_bvsp',\n",
       "   3400,\n",
       "   'G:\\\\Drives compartilhados\\\\BOLSA_2026\\\\a_bolsa2026_gemini\\\\00_data\\\\01_bruto\\\\_bvsp_1d.parquet'),\n",
       "  ('EWZ',\n",
       "   'ewz',\n",
       "   3449,\n",
       "   'G:\\\\Drives compartilhados\\\\BOLSA_2026\\\\a_bolsa2026_gemini\\\\00_data\\\\01_bruto\\\\ewz_1d.parquet'),\n",
       "  ('^GSPC',\n",
       "   '_gspc',\n",
       "   3449,\n",
       "   'G:\\\\Drives compartilhados\\\\BOLSA_2026\\\\a_bolsa2026_gemini\\\\00_data\\\\01_bruto\\\\_gspc_1d.parquet'),\n",
       "  ('^VIX',\n",
       "   '_vix',\n",
       "   3449,\n",
       "   'G:\\\\Drives compartilhados\\\\BOLSA_2026\\\\a_bolsa2026_gemini\\\\00_data\\\\01_bruto\\\\_vix_1d.parquet'),\n",
       "  ('DX-Y.NYB',\n",
       "   'dx-y.nyb',\n",
       "   3450,\n",
       "   'G:\\\\Drives compartilhados\\\\BOLSA_2026\\\\a_bolsa2026_gemini\\\\00_data\\\\01_bruto\\\\dx-y_nyb_1d.parquet')],\n",
       " [])"
      ]
     },
     "execution_count": 7,
     "metadata": {},
     "output_type": "execute_result"
    }
   ],
   "source": [
    "# 5) Coleta indicadores/ETF/commodities (7) via yfinance\n",
    "res_i = []\n",
    "err_i = []\n",
    "for yf_sym, db_sym in tqdm(list(INDICATORS.items()), desc='Indicadores'):\n",
    "    try:\n",
    "        df = fetch_indicator(yf_sym, db_sym)\n",
    "        out = OUT_DIR / f\"{db_sym.replace('.','_').lower()}_1d.parquet\"\n",
    "        save_parquet(df, out)\n",
    "        res_i.append((yf_sym, db_sym, len(df), str(out)))\n",
    "    except Exception as e:\n",
    "        err_i.append((yf_sym, str(e)))\n",
    "        time.sleep(0.5)\n",
    "\n",
    "print('Indicadores OK:', len(res_i), 'Falhas:', len(err_i))\n",
    "res_i[:5], err_i[:5]"
   ]
  },
  {
   "cell_type": "code",
   "execution_count": 8,
   "id": "ff13e0f3",
   "metadata": {},
   "outputs": [
    {
     "name": "stdout",
     "output_type": "stream",
     "text": [
      "=== 01_bruto ===\n",
      "[01_bruto] abev3_sa_1d.parquet -> exists=True\n",
      " path: G:\\Drives compartilhados\\BOLSA_2026\\a_bolsa2026_gemini\\00_data\\01_bruto\\abev3_sa_1d.parquet\n",
      " rows: 3414 date: 2012-01-02 -> 2025-09-26\n",
      " tz(datetime_sp): None\n",
      " columns: ['ticker', 'date', 'open', 'high', 'low', 'close', 'volume', 'datetime_sp']\n",
      " dtypes: {'ticker': 'object', 'date': 'object', 'open': 'float64', 'high': 'float64', 'low': 'float64', 'close': 'float64', 'volume': 'int64', 'datetime_sp': 'datetime64[ns]'}\n"
     ]
    },
    {
     "data": {
      "application/vnd.microsoft.datawrangler.viewer.v0+json": {
       "columns": [
        {
         "name": "index",
         "rawType": "int64",
         "type": "integer"
        },
        {
         "name": "ticker",
         "rawType": "object",
         "type": "string"
        },
        {
         "name": "date",
         "rawType": "object",
         "type": "string"
        },
        {
         "name": "open",
         "rawType": "float64",
         "type": "float"
        },
        {
         "name": "high",
         "rawType": "float64",
         "type": "float"
        },
        {
         "name": "low",
         "rawType": "float64",
         "type": "float"
        },
        {
         "name": "close",
         "rawType": "float64",
         "type": "float"
        },
        {
         "name": "volume",
         "rawType": "int64",
         "type": "integer"
        },
        {
         "name": "datetime_sp",
         "rawType": "datetime64[ns]",
         "type": "datetime"
        }
       ],
       "ref": "a7168923-5b58-49b8-a433-11bb3c0c445c",
       "rows": [
        [
         "0",
         "ABEV3.SA",
         "2012-01-02",
         "10.890462875366211",
         "10.980400085449219",
         "10.746562004089355",
         "10.872474670410156",
         "119582",
         "2012-01-02 02:00:00"
        ],
        [
         "1",
         "ABEV3.SA",
         "2012-01-03",
         "10.892460823059082",
         "10.946423530578613",
         "10.65462589263916",
         "10.748560905456543",
         "2099952",
         "2012-01-03 02:00:00"
        ]
       ],
       "shape": {
        "columns": 8,
        "rows": 2
       }
      },
      "text/html": [
       "<div>\n",
       "<style scoped>\n",
       "    .dataframe tbody tr th:only-of-type {\n",
       "        vertical-align: middle;\n",
       "    }\n",
       "\n",
       "    .dataframe tbody tr th {\n",
       "        vertical-align: top;\n",
       "    }\n",
       "\n",
       "    .dataframe thead th {\n",
       "        text-align: right;\n",
       "    }\n",
       "</style>\n",
       "<table border=\"1\" class=\"dataframe\">\n",
       "  <thead>\n",
       "    <tr style=\"text-align: right;\">\n",
       "      <th></th>\n",
       "      <th>ticker</th>\n",
       "      <th>date</th>\n",
       "      <th>open</th>\n",
       "      <th>high</th>\n",
       "      <th>low</th>\n",
       "      <th>close</th>\n",
       "      <th>volume</th>\n",
       "      <th>datetime_sp</th>\n",
       "    </tr>\n",
       "  </thead>\n",
       "  <tbody>\n",
       "    <tr>\n",
       "      <th>0</th>\n",
       "      <td>ABEV3.SA</td>\n",
       "      <td>2012-01-02</td>\n",
       "      <td>10.890463</td>\n",
       "      <td>10.980400</td>\n",
       "      <td>10.746562</td>\n",
       "      <td>10.872475</td>\n",
       "      <td>119582</td>\n",
       "      <td>2012-01-02 02:00:00</td>\n",
       "    </tr>\n",
       "    <tr>\n",
       "      <th>1</th>\n",
       "      <td>ABEV3.SA</td>\n",
       "      <td>2012-01-03</td>\n",
       "      <td>10.892461</td>\n",
       "      <td>10.946424</td>\n",
       "      <td>10.654626</td>\n",
       "      <td>10.748561</td>\n",
       "      <td>2099952</td>\n",
       "      <td>2012-01-03 02:00:00</td>\n",
       "    </tr>\n",
       "  </tbody>\n",
       "</table>\n",
       "</div>"
      ],
      "text/plain": [
       "     ticker        date       open       high        low      close   volume  \\\n",
       "0  ABEV3.SA  2012-01-02  10.890463  10.980400  10.746562  10.872475   119582   \n",
       "1  ABEV3.SA  2012-01-03  10.892461  10.946424  10.654626  10.748561  2099952   \n",
       "\n",
       "          datetime_sp  \n",
       "0 2012-01-02 02:00:00  \n",
       "1 2012-01-03 02:00:00  "
      ]
     },
     "metadata": {},
     "output_type": "display_data"
    },
    {
     "name": "stdout",
     "output_type": "stream",
     "text": [
      "\n",
      "[01_bruto] itub4_sa_1d.parquet -> exists=True\n",
      " path: G:\\Drives compartilhados\\BOLSA_2026\\a_bolsa2026_gemini\\00_data\\01_bruto\\itub4_sa_1d.parquet\n",
      " rows: 3415 date: 2012-01-02 -> 2025-09-29\n",
      " tz(datetime_sp): None\n",
      " columns: ['ticker', 'date', 'open', 'high', 'low', 'close', 'volume', 'datetime_sp']\n",
      " dtypes: {'ticker': 'object', 'date': 'object', 'open': 'float64', 'high': 'float64', 'low': 'float64', 'close': 'float64', 'volume': 'int64', 'datetime_sp': 'datetime64[ns]'}\n"
     ]
    },
    {
     "data": {
      "application/vnd.microsoft.datawrangler.viewer.v0+json": {
       "columns": [
        {
         "name": "index",
         "rawType": "int64",
         "type": "integer"
        },
        {
         "name": "ticker",
         "rawType": "object",
         "type": "string"
        },
        {
         "name": "date",
         "rawType": "object",
         "type": "string"
        },
        {
         "name": "open",
         "rawType": "float64",
         "type": "float"
        },
        {
         "name": "high",
         "rawType": "float64",
         "type": "float"
        },
        {
         "name": "low",
         "rawType": "float64",
         "type": "float"
        },
        {
         "name": "close",
         "rawType": "float64",
         "type": "float"
        },
        {
         "name": "volume",
         "rawType": "int64",
         "type": "integer"
        },
        {
         "name": "datetime_sp",
         "rawType": "datetime64[ns]",
         "type": "datetime"
        }
       ],
       "ref": "6c973700-c773-4d14-b079-df9be66059d1",
       "rows": [
        [
         "0",
         "ITUB4.SA",
         "2012-01-02",
         "14.165285110473633",
         "14.177702903747559",
         "13.867241859436035",
         "14.086634635925293",
         "8201763",
         "2012-01-02 02:00:00"
        ],
        [
         "1",
         "ITUB4.SA",
         "2012-01-03",
         "14.107332229614258",
         "14.43848991394043",
         "14.107332229614258",
         "14.43848991394043",
         "15453407",
         "2012-01-03 02:00:00"
        ]
       ],
       "shape": {
        "columns": 8,
        "rows": 2
       }
      },
      "text/html": [
       "<div>\n",
       "<style scoped>\n",
       "    .dataframe tbody tr th:only-of-type {\n",
       "        vertical-align: middle;\n",
       "    }\n",
       "\n",
       "    .dataframe tbody tr th {\n",
       "        vertical-align: top;\n",
       "    }\n",
       "\n",
       "    .dataframe thead th {\n",
       "        text-align: right;\n",
       "    }\n",
       "</style>\n",
       "<table border=\"1\" class=\"dataframe\">\n",
       "  <thead>\n",
       "    <tr style=\"text-align: right;\">\n",
       "      <th></th>\n",
       "      <th>ticker</th>\n",
       "      <th>date</th>\n",
       "      <th>open</th>\n",
       "      <th>high</th>\n",
       "      <th>low</th>\n",
       "      <th>close</th>\n",
       "      <th>volume</th>\n",
       "      <th>datetime_sp</th>\n",
       "    </tr>\n",
       "  </thead>\n",
       "  <tbody>\n",
       "    <tr>\n",
       "      <th>0</th>\n",
       "      <td>ITUB4.SA</td>\n",
       "      <td>2012-01-02</td>\n",
       "      <td>14.165285</td>\n",
       "      <td>14.177703</td>\n",
       "      <td>13.867242</td>\n",
       "      <td>14.086635</td>\n",
       "      <td>8201763</td>\n",
       "      <td>2012-01-02 02:00:00</td>\n",
       "    </tr>\n",
       "    <tr>\n",
       "      <th>1</th>\n",
       "      <td>ITUB4.SA</td>\n",
       "      <td>2012-01-03</td>\n",
       "      <td>14.107332</td>\n",
       "      <td>14.438490</td>\n",
       "      <td>14.107332</td>\n",
       "      <td>14.438490</td>\n",
       "      <td>15453407</td>\n",
       "      <td>2012-01-03 02:00:00</td>\n",
       "    </tr>\n",
       "  </tbody>\n",
       "</table>\n",
       "</div>"
      ],
      "text/plain": [
       "     ticker        date       open       high        low      close    volume  \\\n",
       "0  ITUB4.SA  2012-01-02  14.165285  14.177703  13.867242  14.086635   8201763   \n",
       "1  ITUB4.SA  2012-01-03  14.107332  14.438490  14.107332  14.438490  15453407   \n",
       "\n",
       "          datetime_sp  \n",
       "0 2012-01-02 02:00:00  \n",
       "1 2012-01-03 02:00:00  "
      ]
     },
     "metadata": {},
     "output_type": "display_data"
    },
    {
     "name": "stdout",
     "output_type": "stream",
     "text": [
      "\n",
      "[01_bruto] petr4_sa_1d.parquet -> exists=True\n",
      " path: G:\\Drives compartilhados\\BOLSA_2026\\a_bolsa2026_gemini\\00_data\\01_bruto\\petr4_sa_1d.parquet\n",
      " rows: 3415 date: 2012-01-02 -> 2025-09-29\n",
      " tz(datetime_sp): None\n",
      " columns: ['ticker', 'date', 'open', 'high', 'low', 'close', 'volume', 'datetime_sp']\n",
      " dtypes: {'ticker': 'object', 'date': 'object', 'open': 'float64', 'high': 'float64', 'low': 'float64', 'close': 'float64', 'volume': 'int64', 'datetime_sp': 'datetime64[ns]'}\n"
     ]
    },
    {
     "data": {
      "application/vnd.microsoft.datawrangler.viewer.v0+json": {
       "columns": [
        {
         "name": "index",
         "rawType": "int64",
         "type": "integer"
        },
        {
         "name": "ticker",
         "rawType": "object",
         "type": "string"
        },
        {
         "name": "date",
         "rawType": "object",
         "type": "string"
        },
        {
         "name": "open",
         "rawType": "float64",
         "type": "float"
        },
        {
         "name": "high",
         "rawType": "float64",
         "type": "float"
        },
        {
         "name": "low",
         "rawType": "float64",
         "type": "float"
        },
        {
         "name": "close",
         "rawType": "float64",
         "type": "float"
        },
        {
         "name": "volume",
         "rawType": "int64",
         "type": "integer"
        },
        {
         "name": "datetime_sp",
         "rawType": "datetime64[ns]",
         "type": "datetime"
        }
       ],
       "ref": "8f25011d-f1db-49e7-8bc3-85967928da9c",
       "rows": [
        [
         "0",
         "PETR4.SA",
         "2012-01-02",
         "21.510000228881836",
         "22.1200008392334",
         "21.260000228881836",
         "21.729999542236328",
         "20391300",
         "2012-01-02 02:00:00"
        ],
        [
         "1",
         "PETR4.SA",
         "2012-01-03",
         "21.829999923706055",
         "22.40999984741211",
         "21.809999465942383",
         "22.40999984741211",
         "22940500",
         "2012-01-03 02:00:00"
        ]
       ],
       "shape": {
        "columns": 8,
        "rows": 2
       }
      },
      "text/html": [
       "<div>\n",
       "<style scoped>\n",
       "    .dataframe tbody tr th:only-of-type {\n",
       "        vertical-align: middle;\n",
       "    }\n",
       "\n",
       "    .dataframe tbody tr th {\n",
       "        vertical-align: top;\n",
       "    }\n",
       "\n",
       "    .dataframe thead th {\n",
       "        text-align: right;\n",
       "    }\n",
       "</style>\n",
       "<table border=\"1\" class=\"dataframe\">\n",
       "  <thead>\n",
       "    <tr style=\"text-align: right;\">\n",
       "      <th></th>\n",
       "      <th>ticker</th>\n",
       "      <th>date</th>\n",
       "      <th>open</th>\n",
       "      <th>high</th>\n",
       "      <th>low</th>\n",
       "      <th>close</th>\n",
       "      <th>volume</th>\n",
       "      <th>datetime_sp</th>\n",
       "    </tr>\n",
       "  </thead>\n",
       "  <tbody>\n",
       "    <tr>\n",
       "      <th>0</th>\n",
       "      <td>PETR4.SA</td>\n",
       "      <td>2012-01-02</td>\n",
       "      <td>21.51</td>\n",
       "      <td>22.120001</td>\n",
       "      <td>21.260000</td>\n",
       "      <td>21.73</td>\n",
       "      <td>20391300</td>\n",
       "      <td>2012-01-02 02:00:00</td>\n",
       "    </tr>\n",
       "    <tr>\n",
       "      <th>1</th>\n",
       "      <td>PETR4.SA</td>\n",
       "      <td>2012-01-03</td>\n",
       "      <td>21.83</td>\n",
       "      <td>22.410000</td>\n",
       "      <td>21.809999</td>\n",
       "      <td>22.41</td>\n",
       "      <td>22940500</td>\n",
       "      <td>2012-01-03 02:00:00</td>\n",
       "    </tr>\n",
       "  </tbody>\n",
       "</table>\n",
       "</div>"
      ],
      "text/plain": [
       "     ticker        date   open       high        low  close    volume  \\\n",
       "0  PETR4.SA  2012-01-02  21.51  22.120001  21.260000  21.73  20391300   \n",
       "1  PETR4.SA  2012-01-03  21.83  22.410000  21.809999  22.41  22940500   \n",
       "\n",
       "          datetime_sp  \n",
       "0 2012-01-02 02:00:00  \n",
       "1 2012-01-03 02:00:00  "
      ]
     },
     "metadata": {},
     "output_type": "display_data"
    },
    {
     "name": "stdout",
     "output_type": "stream",
     "text": [
      "\n",
      "[01_bruto] _bvsp_1d.parquet -> exists=True\n",
      " path: G:\\Drives compartilhados\\BOLSA_2026\\a_bolsa2026_gemini\\00_data\\01_bruto\\_bvsp_1d.parquet\n",
      " rows: 3407 date: 2012-01-03 -> 2025-09-30\n",
      " tz(datetime_sp): None\n",
      " columns: ['ticker', 'date', 'open', 'high', 'low', 'close', 'volume', 'datetime_sp']\n",
      " dtypes: {'ticker': 'object', 'date': 'object', 'open': 'float64', 'high': 'float64', 'low': 'float64', 'close': 'float64', 'volume': 'int64', 'datetime_sp': 'datetime64[ns]'}\n"
     ]
    },
    {
     "data": {
      "application/vnd.microsoft.datawrangler.viewer.v0+json": {
       "columns": [
        {
         "name": "index",
         "rawType": "int64",
         "type": "integer"
        },
        {
         "name": "ticker",
         "rawType": "object",
         "type": "string"
        },
        {
         "name": "date",
         "rawType": "object",
         "type": "string"
        },
        {
         "name": "open",
         "rawType": "float64",
         "type": "float"
        },
        {
         "name": "high",
         "rawType": "float64",
         "type": "float"
        },
        {
         "name": "low",
         "rawType": "float64",
         "type": "float"
        },
        {
         "name": "close",
         "rawType": "float64",
         "type": "float"
        },
        {
         "name": "volume",
         "rawType": "int64",
         "type": "integer"
        },
        {
         "name": "datetime_sp",
         "rawType": "datetime64[ns]",
         "type": "datetime"
        }
       ],
       "ref": "1037b902-5c63-4688-9f39-225ef9581908",
       "rows": [
        [
         "0",
         "_bvsp",
         "2012-01-03",
         "57836.0",
         "59288.0",
         "57836.0",
         "59265.0",
         "3083000",
         "2012-01-03 02:00:00"
        ],
        [
         "1",
         "_bvsp",
         "2012-01-04",
         "59263.0",
         "59519.0",
         "58558.0",
         "59365.0",
         "2252000",
         "2012-01-04 02:00:00"
        ]
       ],
       "shape": {
        "columns": 8,
        "rows": 2
       }
      },
      "text/html": [
       "<div>\n",
       "<style scoped>\n",
       "    .dataframe tbody tr th:only-of-type {\n",
       "        vertical-align: middle;\n",
       "    }\n",
       "\n",
       "    .dataframe tbody tr th {\n",
       "        vertical-align: top;\n",
       "    }\n",
       "\n",
       "    .dataframe thead th {\n",
       "        text-align: right;\n",
       "    }\n",
       "</style>\n",
       "<table border=\"1\" class=\"dataframe\">\n",
       "  <thead>\n",
       "    <tr style=\"text-align: right;\">\n",
       "      <th></th>\n",
       "      <th>ticker</th>\n",
       "      <th>date</th>\n",
       "      <th>open</th>\n",
       "      <th>high</th>\n",
       "      <th>low</th>\n",
       "      <th>close</th>\n",
       "      <th>volume</th>\n",
       "      <th>datetime_sp</th>\n",
       "    </tr>\n",
       "  </thead>\n",
       "  <tbody>\n",
       "    <tr>\n",
       "      <th>0</th>\n",
       "      <td>_bvsp</td>\n",
       "      <td>2012-01-03</td>\n",
       "      <td>57836.0</td>\n",
       "      <td>59288.0</td>\n",
       "      <td>57836.0</td>\n",
       "      <td>59265.0</td>\n",
       "      <td>3083000</td>\n",
       "      <td>2012-01-03 02:00:00</td>\n",
       "    </tr>\n",
       "    <tr>\n",
       "      <th>1</th>\n",
       "      <td>_bvsp</td>\n",
       "      <td>2012-01-04</td>\n",
       "      <td>59263.0</td>\n",
       "      <td>59519.0</td>\n",
       "      <td>58558.0</td>\n",
       "      <td>59365.0</td>\n",
       "      <td>2252000</td>\n",
       "      <td>2012-01-04 02:00:00</td>\n",
       "    </tr>\n",
       "  </tbody>\n",
       "</table>\n",
       "</div>"
      ],
      "text/plain": [
       "  ticker        date     open     high      low    close   volume  \\\n",
       "0  _bvsp  2012-01-03  57836.0  59288.0  57836.0  59265.0  3083000   \n",
       "1  _bvsp  2012-01-04  59263.0  59519.0  58558.0  59365.0  2252000   \n",
       "\n",
       "          datetime_sp  \n",
       "0 2012-01-03 02:00:00  \n",
       "1 2012-01-04 02:00:00  "
      ]
     },
     "metadata": {},
     "output_type": "display_data"
    },
    {
     "name": "stdout",
     "output_type": "stream",
     "text": [
      "\n",
      "[01_bruto] ewz_1d.parquet -> exists=True\n",
      " path: G:\\Drives compartilhados\\BOLSA_2026\\a_bolsa2026_gemini\\00_data\\01_bruto\\ewz_1d.parquet\n",
      " rows: 3456 date: 2012-01-03 -> 2025-09-30\n",
      " tz(datetime_sp): None\n",
      " columns: ['ticker', 'date', 'open', 'high', 'low', 'close', 'volume', 'datetime_sp']\n",
      " dtypes: {'ticker': 'object', 'date': 'object', 'open': 'float64', 'high': 'float64', 'low': 'float64', 'close': 'float64', 'volume': 'int64', 'datetime_sp': 'datetime64[ns]'}\n"
     ]
    },
    {
     "data": {
      "application/vnd.microsoft.datawrangler.viewer.v0+json": {
       "columns": [
        {
         "name": "index",
         "rawType": "int64",
         "type": "integer"
        },
        {
         "name": "ticker",
         "rawType": "object",
         "type": "string"
        },
        {
         "name": "date",
         "rawType": "object",
         "type": "string"
        },
        {
         "name": "open",
         "rawType": "float64",
         "type": "float"
        },
        {
         "name": "high",
         "rawType": "float64",
         "type": "float"
        },
        {
         "name": "low",
         "rawType": "float64",
         "type": "float"
        },
        {
         "name": "close",
         "rawType": "float64",
         "type": "float"
        },
        {
         "name": "volume",
         "rawType": "int64",
         "type": "integer"
        },
        {
         "name": "datetime_sp",
         "rawType": "datetime64[ns]",
         "type": "datetime"
        }
       ],
       "ref": "34428c3b-6821-499d-aef9-9fe10125a39b",
       "rows": [
        [
         "0",
         "ewz",
         "2012-01-03",
         "59.099998474121094",
         "60.11000061035156",
         "59.060001373291016",
         "59.70000076293945",
         "20052500",
         "2012-01-03 05:00:00"
        ],
        [
         "1",
         "ewz",
         "2012-01-04",
         "59.58000183105469",
         "60.470001220703125",
         "59.560001373291016",
         "59.91999816894531",
         "11113200",
         "2012-01-04 05:00:00"
        ]
       ],
       "shape": {
        "columns": 8,
        "rows": 2
       }
      },
      "text/html": [
       "<div>\n",
       "<style scoped>\n",
       "    .dataframe tbody tr th:only-of-type {\n",
       "        vertical-align: middle;\n",
       "    }\n",
       "\n",
       "    .dataframe tbody tr th {\n",
       "        vertical-align: top;\n",
       "    }\n",
       "\n",
       "    .dataframe thead th {\n",
       "        text-align: right;\n",
       "    }\n",
       "</style>\n",
       "<table border=\"1\" class=\"dataframe\">\n",
       "  <thead>\n",
       "    <tr style=\"text-align: right;\">\n",
       "      <th></th>\n",
       "      <th>ticker</th>\n",
       "      <th>date</th>\n",
       "      <th>open</th>\n",
       "      <th>high</th>\n",
       "      <th>low</th>\n",
       "      <th>close</th>\n",
       "      <th>volume</th>\n",
       "      <th>datetime_sp</th>\n",
       "    </tr>\n",
       "  </thead>\n",
       "  <tbody>\n",
       "    <tr>\n",
       "      <th>0</th>\n",
       "      <td>ewz</td>\n",
       "      <td>2012-01-03</td>\n",
       "      <td>59.099998</td>\n",
       "      <td>60.110001</td>\n",
       "      <td>59.060001</td>\n",
       "      <td>59.700001</td>\n",
       "      <td>20052500</td>\n",
       "      <td>2012-01-03 05:00:00</td>\n",
       "    </tr>\n",
       "    <tr>\n",
       "      <th>1</th>\n",
       "      <td>ewz</td>\n",
       "      <td>2012-01-04</td>\n",
       "      <td>59.580002</td>\n",
       "      <td>60.470001</td>\n",
       "      <td>59.560001</td>\n",
       "      <td>59.919998</td>\n",
       "      <td>11113200</td>\n",
       "      <td>2012-01-04 05:00:00</td>\n",
       "    </tr>\n",
       "  </tbody>\n",
       "</table>\n",
       "</div>"
      ],
      "text/plain": [
       "  ticker        date       open       high        low      close    volume  \\\n",
       "0    ewz  2012-01-03  59.099998  60.110001  59.060001  59.700001  20052500   \n",
       "1    ewz  2012-01-04  59.580002  60.470001  59.560001  59.919998  11113200   \n",
       "\n",
       "          datetime_sp  \n",
       "0 2012-01-03 05:00:00  \n",
       "1 2012-01-04 05:00:00  "
      ]
     },
     "metadata": {},
     "output_type": "display_data"
    },
    {
     "name": "stdout",
     "output_type": "stream",
     "text": [
      "\n",
      "[01_bruto] _gspc_1d.parquet -> exists=True\n",
      " path: G:\\Drives compartilhados\\BOLSA_2026\\a_bolsa2026_gemini\\00_data\\01_bruto\\_gspc_1d.parquet\n",
      " rows: 3456 date: 2012-01-03 -> 2025-09-30\n",
      " tz(datetime_sp): None\n",
      " columns: ['ticker', 'date', 'open', 'high', 'low', 'close', 'volume', 'datetime_sp']\n",
      " dtypes: {'ticker': 'object', 'date': 'object', 'open': 'float64', 'high': 'float64', 'low': 'float64', 'close': 'float64', 'volume': 'int64', 'datetime_sp': 'datetime64[ns]'}\n"
     ]
    },
    {
     "data": {
      "application/vnd.microsoft.datawrangler.viewer.v0+json": {
       "columns": [
        {
         "name": "index",
         "rawType": "int64",
         "type": "integer"
        },
        {
         "name": "ticker",
         "rawType": "object",
         "type": "string"
        },
        {
         "name": "date",
         "rawType": "object",
         "type": "string"
        },
        {
         "name": "open",
         "rawType": "float64",
         "type": "float"
        },
        {
         "name": "high",
         "rawType": "float64",
         "type": "float"
        },
        {
         "name": "low",
         "rawType": "float64",
         "type": "float"
        },
        {
         "name": "close",
         "rawType": "float64",
         "type": "float"
        },
        {
         "name": "volume",
         "rawType": "int64",
         "type": "integer"
        },
        {
         "name": "datetime_sp",
         "rawType": "datetime64[ns]",
         "type": "datetime"
        }
       ],
       "ref": "56f99730-45fe-4a5e-aa88-e540f9c77035",
       "rows": [
        [
         "0",
         "_gspc",
         "2012-01-03",
         "1258.8599853515625",
         "1284.6199951171875",
         "1258.8599853515625",
         "1277.06005859375",
         "3943710000",
         "2012-01-03 05:00:00"
        ],
        [
         "1",
         "_gspc",
         "2012-01-04",
         "1277.030029296875",
         "1278.72998046875",
         "1268.0999755859375",
         "1277.300048828125",
         "3592580000",
         "2012-01-04 05:00:00"
        ]
       ],
       "shape": {
        "columns": 8,
        "rows": 2
       }
      },
      "text/html": [
       "<div>\n",
       "<style scoped>\n",
       "    .dataframe tbody tr th:only-of-type {\n",
       "        vertical-align: middle;\n",
       "    }\n",
       "\n",
       "    .dataframe tbody tr th {\n",
       "        vertical-align: top;\n",
       "    }\n",
       "\n",
       "    .dataframe thead th {\n",
       "        text-align: right;\n",
       "    }\n",
       "</style>\n",
       "<table border=\"1\" class=\"dataframe\">\n",
       "  <thead>\n",
       "    <tr style=\"text-align: right;\">\n",
       "      <th></th>\n",
       "      <th>ticker</th>\n",
       "      <th>date</th>\n",
       "      <th>open</th>\n",
       "      <th>high</th>\n",
       "      <th>low</th>\n",
       "      <th>close</th>\n",
       "      <th>volume</th>\n",
       "      <th>datetime_sp</th>\n",
       "    </tr>\n",
       "  </thead>\n",
       "  <tbody>\n",
       "    <tr>\n",
       "      <th>0</th>\n",
       "      <td>_gspc</td>\n",
       "      <td>2012-01-03</td>\n",
       "      <td>1258.859985</td>\n",
       "      <td>1284.619995</td>\n",
       "      <td>1258.859985</td>\n",
       "      <td>1277.060059</td>\n",
       "      <td>3943710000</td>\n",
       "      <td>2012-01-03 05:00:00</td>\n",
       "    </tr>\n",
       "    <tr>\n",
       "      <th>1</th>\n",
       "      <td>_gspc</td>\n",
       "      <td>2012-01-04</td>\n",
       "      <td>1277.030029</td>\n",
       "      <td>1278.729980</td>\n",
       "      <td>1268.099976</td>\n",
       "      <td>1277.300049</td>\n",
       "      <td>3592580000</td>\n",
       "      <td>2012-01-04 05:00:00</td>\n",
       "    </tr>\n",
       "  </tbody>\n",
       "</table>\n",
       "</div>"
      ],
      "text/plain": [
       "  ticker        date         open         high          low        close  \\\n",
       "0  _gspc  2012-01-03  1258.859985  1284.619995  1258.859985  1277.060059   \n",
       "1  _gspc  2012-01-04  1277.030029  1278.729980  1268.099976  1277.300049   \n",
       "\n",
       "       volume         datetime_sp  \n",
       "0  3943710000 2012-01-03 05:00:00  \n",
       "1  3592580000 2012-01-04 05:00:00  "
      ]
     },
     "metadata": {},
     "output_type": "display_data"
    },
    {
     "name": "stdout",
     "output_type": "stream",
     "text": [
      "\n",
      "=== 02_adequado ===\n",
      "[02_adequado] abev3_sa_1d.parquet -> exists=True\n",
      " path: G:\\Drives compartilhados\\BOLSA_2026\\a_bolsa2026_gemini\\00_data\\02_adequado\\abev3_sa_1d.parquet\n",
      " rows: 3409 date: 2012-01-02 -> 2025-09-19\n",
      " tz(datetime_sp): None\n",
      " columns: ['ticker', 'date', 'open', 'high', 'low', 'close', 'volume', 'datetime_sp']\n",
      " dtypes: {'ticker': 'object', 'date': 'object', 'open': 'float64', 'high': 'float64', 'low': 'float64', 'close': 'float64', 'volume': 'int64', 'datetime_sp': 'datetime64[ns]'}\n"
     ]
    },
    {
     "data": {
      "application/vnd.microsoft.datawrangler.viewer.v0+json": {
       "columns": [
        {
         "name": "index",
         "rawType": "int64",
         "type": "integer"
        },
        {
         "name": "ticker",
         "rawType": "object",
         "type": "string"
        },
        {
         "name": "date",
         "rawType": "object",
         "type": "string"
        },
        {
         "name": "open",
         "rawType": "float64",
         "type": "float"
        },
        {
         "name": "high",
         "rawType": "float64",
         "type": "float"
        },
        {
         "name": "low",
         "rawType": "float64",
         "type": "float"
        },
        {
         "name": "close",
         "rawType": "float64",
         "type": "float"
        },
        {
         "name": "volume",
         "rawType": "int64",
         "type": "integer"
        },
        {
         "name": "datetime_sp",
         "rawType": "datetime64[ns]",
         "type": "datetime"
        }
       ],
       "ref": "fed0e913-8fed-4cef-ac63-745117030dd9",
       "rows": [
        [
         "0",
         "ABEV3.SA",
         "2012-01-02",
         "10.890462875366211",
         "10.980400085449219",
         "10.746562004089355",
         "10.872474670410156",
         "119582",
         "2012-01-02 04:00:00"
        ],
        [
         "1",
         "ABEV3.SA",
         "2012-01-03",
         "10.892460823059082",
         "10.946423530578613",
         "10.65462589263916",
         "10.748560905456543",
         "2099952",
         "2012-01-03 04:00:00"
        ]
       ],
       "shape": {
        "columns": 8,
        "rows": 2
       }
      },
      "text/html": [
       "<div>\n",
       "<style scoped>\n",
       "    .dataframe tbody tr th:only-of-type {\n",
       "        vertical-align: middle;\n",
       "    }\n",
       "\n",
       "    .dataframe tbody tr th {\n",
       "        vertical-align: top;\n",
       "    }\n",
       "\n",
       "    .dataframe thead th {\n",
       "        text-align: right;\n",
       "    }\n",
       "</style>\n",
       "<table border=\"1\" class=\"dataframe\">\n",
       "  <thead>\n",
       "    <tr style=\"text-align: right;\">\n",
       "      <th></th>\n",
       "      <th>ticker</th>\n",
       "      <th>date</th>\n",
       "      <th>open</th>\n",
       "      <th>high</th>\n",
       "      <th>low</th>\n",
       "      <th>close</th>\n",
       "      <th>volume</th>\n",
       "      <th>datetime_sp</th>\n",
       "    </tr>\n",
       "  </thead>\n",
       "  <tbody>\n",
       "    <tr>\n",
       "      <th>0</th>\n",
       "      <td>ABEV3.SA</td>\n",
       "      <td>2012-01-02</td>\n",
       "      <td>10.890463</td>\n",
       "      <td>10.980400</td>\n",
       "      <td>10.746562</td>\n",
       "      <td>10.872475</td>\n",
       "      <td>119582</td>\n",
       "      <td>2012-01-02 04:00:00</td>\n",
       "    </tr>\n",
       "    <tr>\n",
       "      <th>1</th>\n",
       "      <td>ABEV3.SA</td>\n",
       "      <td>2012-01-03</td>\n",
       "      <td>10.892461</td>\n",
       "      <td>10.946424</td>\n",
       "      <td>10.654626</td>\n",
       "      <td>10.748561</td>\n",
       "      <td>2099952</td>\n",
       "      <td>2012-01-03 04:00:00</td>\n",
       "    </tr>\n",
       "  </tbody>\n",
       "</table>\n",
       "</div>"
      ],
      "text/plain": [
       "     ticker        date       open       high        low      close   volume  \\\n",
       "0  ABEV3.SA  2012-01-02  10.890463  10.980400  10.746562  10.872475   119582   \n",
       "1  ABEV3.SA  2012-01-03  10.892461  10.946424  10.654626  10.748561  2099952   \n",
       "\n",
       "          datetime_sp  \n",
       "0 2012-01-02 04:00:00  \n",
       "1 2012-01-03 04:00:00  "
      ]
     },
     "metadata": {},
     "output_type": "display_data"
    },
    {
     "name": "stdout",
     "output_type": "stream",
     "text": [
      "\n",
      "[02_adequado] itub4_sa_1d.parquet -> exists=True\n",
      " path: G:\\Drives compartilhados\\BOLSA_2026\\a_bolsa2026_gemini\\00_data\\02_adequado\\itub4_sa_1d.parquet\n",
      " rows: 3409 date: 2012-01-02 -> 2025-09-19\n",
      " tz(datetime_sp): None\n",
      " columns: ['ticker', 'date', 'open', 'high', 'low', 'close', 'volume', 'datetime_sp']\n",
      " dtypes: {'ticker': 'object', 'date': 'object', 'open': 'float64', 'high': 'float64', 'low': 'float64', 'close': 'float64', 'volume': 'int64', 'datetime_sp': 'datetime64[ns]'}\n"
     ]
    },
    {
     "data": {
      "application/vnd.microsoft.datawrangler.viewer.v0+json": {
       "columns": [
        {
         "name": "index",
         "rawType": "int64",
         "type": "integer"
        },
        {
         "name": "ticker",
         "rawType": "object",
         "type": "string"
        },
        {
         "name": "date",
         "rawType": "object",
         "type": "string"
        },
        {
         "name": "open",
         "rawType": "float64",
         "type": "float"
        },
        {
         "name": "high",
         "rawType": "float64",
         "type": "float"
        },
        {
         "name": "low",
         "rawType": "float64",
         "type": "float"
        },
        {
         "name": "close",
         "rawType": "float64",
         "type": "float"
        },
        {
         "name": "volume",
         "rawType": "int64",
         "type": "integer"
        },
        {
         "name": "datetime_sp",
         "rawType": "datetime64[ns]",
         "type": "datetime"
        }
       ],
       "ref": "aea2176f-aee8-4427-b18a-9bc973a07a16",
       "rows": [
        [
         "0",
         "ITUB4.SA",
         "2012-01-02",
         "14.165285110473633",
         "14.177702903747559",
         "13.867241859436035",
         "14.086634635925293",
         "8201763",
         "2012-01-02 04:00:00"
        ],
        [
         "1",
         "ITUB4.SA",
         "2012-01-03",
         "14.107332229614258",
         "14.43848991394043",
         "14.107332229614258",
         "14.43848991394043",
         "15453407",
         "2012-01-03 04:00:00"
        ]
       ],
       "shape": {
        "columns": 8,
        "rows": 2
       }
      },
      "text/html": [
       "<div>\n",
       "<style scoped>\n",
       "    .dataframe tbody tr th:only-of-type {\n",
       "        vertical-align: middle;\n",
       "    }\n",
       "\n",
       "    .dataframe tbody tr th {\n",
       "        vertical-align: top;\n",
       "    }\n",
       "\n",
       "    .dataframe thead th {\n",
       "        text-align: right;\n",
       "    }\n",
       "</style>\n",
       "<table border=\"1\" class=\"dataframe\">\n",
       "  <thead>\n",
       "    <tr style=\"text-align: right;\">\n",
       "      <th></th>\n",
       "      <th>ticker</th>\n",
       "      <th>date</th>\n",
       "      <th>open</th>\n",
       "      <th>high</th>\n",
       "      <th>low</th>\n",
       "      <th>close</th>\n",
       "      <th>volume</th>\n",
       "      <th>datetime_sp</th>\n",
       "    </tr>\n",
       "  </thead>\n",
       "  <tbody>\n",
       "    <tr>\n",
       "      <th>0</th>\n",
       "      <td>ITUB4.SA</td>\n",
       "      <td>2012-01-02</td>\n",
       "      <td>14.165285</td>\n",
       "      <td>14.177703</td>\n",
       "      <td>13.867242</td>\n",
       "      <td>14.086635</td>\n",
       "      <td>8201763</td>\n",
       "      <td>2012-01-02 04:00:00</td>\n",
       "    </tr>\n",
       "    <tr>\n",
       "      <th>1</th>\n",
       "      <td>ITUB4.SA</td>\n",
       "      <td>2012-01-03</td>\n",
       "      <td>14.107332</td>\n",
       "      <td>14.438490</td>\n",
       "      <td>14.107332</td>\n",
       "      <td>14.438490</td>\n",
       "      <td>15453407</td>\n",
       "      <td>2012-01-03 04:00:00</td>\n",
       "    </tr>\n",
       "  </tbody>\n",
       "</table>\n",
       "</div>"
      ],
      "text/plain": [
       "     ticker        date       open       high        low      close    volume  \\\n",
       "0  ITUB4.SA  2012-01-02  14.165285  14.177703  13.867242  14.086635   8201763   \n",
       "1  ITUB4.SA  2012-01-03  14.107332  14.438490  14.107332  14.438490  15453407   \n",
       "\n",
       "          datetime_sp  \n",
       "0 2012-01-02 04:00:00  \n",
       "1 2012-01-03 04:00:00  "
      ]
     },
     "metadata": {},
     "output_type": "display_data"
    },
    {
     "name": "stdout",
     "output_type": "stream",
     "text": [
      "\n",
      "[02_adequado] petr4_sa_1d.parquet -> exists=True\n",
      " path: G:\\Drives compartilhados\\BOLSA_2026\\a_bolsa2026_gemini\\00_data\\02_adequado\\petr4_sa_1d.parquet\n",
      " rows: 3409 date: 2012-01-02 -> 2025-09-19\n",
      " tz(datetime_sp): None\n",
      " columns: ['ticker', 'date', 'open', 'high', 'low', 'close', 'volume', 'datetime_sp']\n",
      " dtypes: {'ticker': 'object', 'date': 'object', 'open': 'float64', 'high': 'float64', 'low': 'float64', 'close': 'float64', 'volume': 'int64', 'datetime_sp': 'datetime64[ns]'}\n"
     ]
    },
    {
     "data": {
      "application/vnd.microsoft.datawrangler.viewer.v0+json": {
       "columns": [
        {
         "name": "index",
         "rawType": "int64",
         "type": "integer"
        },
        {
         "name": "ticker",
         "rawType": "object",
         "type": "string"
        },
        {
         "name": "date",
         "rawType": "object",
         "type": "string"
        },
        {
         "name": "open",
         "rawType": "float64",
         "type": "float"
        },
        {
         "name": "high",
         "rawType": "float64",
         "type": "float"
        },
        {
         "name": "low",
         "rawType": "float64",
         "type": "float"
        },
        {
         "name": "close",
         "rawType": "float64",
         "type": "float"
        },
        {
         "name": "volume",
         "rawType": "int64",
         "type": "integer"
        },
        {
         "name": "datetime_sp",
         "rawType": "datetime64[ns]",
         "type": "datetime"
        }
       ],
       "ref": "8041d0fe-9ad9-4c54-acf1-8d6edb189815",
       "rows": [
        [
         "0",
         "PETR4.SA",
         "2012-01-02",
         "21.510000228881836",
         "22.1200008392334",
         "21.260000228881836",
         "21.729999542236328",
         "20391300",
         "2012-01-02 04:00:00"
        ],
        [
         "1",
         "PETR4.SA",
         "2012-01-03",
         "21.829999923706055",
         "22.40999984741211",
         "21.809999465942383",
         "22.40999984741211",
         "22940500",
         "2012-01-03 04:00:00"
        ]
       ],
       "shape": {
        "columns": 8,
        "rows": 2
       }
      },
      "text/html": [
       "<div>\n",
       "<style scoped>\n",
       "    .dataframe tbody tr th:only-of-type {\n",
       "        vertical-align: middle;\n",
       "    }\n",
       "\n",
       "    .dataframe tbody tr th {\n",
       "        vertical-align: top;\n",
       "    }\n",
       "\n",
       "    .dataframe thead th {\n",
       "        text-align: right;\n",
       "    }\n",
       "</style>\n",
       "<table border=\"1\" class=\"dataframe\">\n",
       "  <thead>\n",
       "    <tr style=\"text-align: right;\">\n",
       "      <th></th>\n",
       "      <th>ticker</th>\n",
       "      <th>date</th>\n",
       "      <th>open</th>\n",
       "      <th>high</th>\n",
       "      <th>low</th>\n",
       "      <th>close</th>\n",
       "      <th>volume</th>\n",
       "      <th>datetime_sp</th>\n",
       "    </tr>\n",
       "  </thead>\n",
       "  <tbody>\n",
       "    <tr>\n",
       "      <th>0</th>\n",
       "      <td>PETR4.SA</td>\n",
       "      <td>2012-01-02</td>\n",
       "      <td>21.51</td>\n",
       "      <td>22.120001</td>\n",
       "      <td>21.260000</td>\n",
       "      <td>21.73</td>\n",
       "      <td>20391300</td>\n",
       "      <td>2012-01-02 04:00:00</td>\n",
       "    </tr>\n",
       "    <tr>\n",
       "      <th>1</th>\n",
       "      <td>PETR4.SA</td>\n",
       "      <td>2012-01-03</td>\n",
       "      <td>21.83</td>\n",
       "      <td>22.410000</td>\n",
       "      <td>21.809999</td>\n",
       "      <td>22.41</td>\n",
       "      <td>22940500</td>\n",
       "      <td>2012-01-03 04:00:00</td>\n",
       "    </tr>\n",
       "  </tbody>\n",
       "</table>\n",
       "</div>"
      ],
      "text/plain": [
       "     ticker        date   open       high        low  close    volume  \\\n",
       "0  PETR4.SA  2012-01-02  21.51  22.120001  21.260000  21.73  20391300   \n",
       "1  PETR4.SA  2012-01-03  21.83  22.410000  21.809999  22.41  22940500   \n",
       "\n",
       "          datetime_sp  \n",
       "0 2012-01-02 04:00:00  \n",
       "1 2012-01-03 04:00:00  "
      ]
     },
     "metadata": {},
     "output_type": "display_data"
    },
    {
     "name": "stdout",
     "output_type": "stream",
     "text": [
      "\n",
      "[02_adequado] _bvsp_1d.parquet -> exists=True\n",
      " path: G:\\Drives compartilhados\\BOLSA_2026\\a_bolsa2026_gemini\\00_data\\02_adequado\\_bvsp_1d.parquet\n",
      " rows: 3400 date: 2012-01-03 -> 2025-09-19\n",
      " tz(datetime_sp): None\n",
      " columns: ['ticker', 'date', 'open', 'high', 'low', 'close', 'volume', 'datetime_sp']\n",
      " dtypes: {'ticker': 'object', 'date': 'object', 'open': 'float64', 'high': 'float64', 'low': 'float64', 'close': 'float64', 'volume': 'int64', 'datetime_sp': 'datetime64[ns]'}\n"
     ]
    },
    {
     "data": {
      "application/vnd.microsoft.datawrangler.viewer.v0+json": {
       "columns": [
        {
         "name": "index",
         "rawType": "int64",
         "type": "integer"
        },
        {
         "name": "ticker",
         "rawType": "object",
         "type": "string"
        },
        {
         "name": "date",
         "rawType": "object",
         "type": "string"
        },
        {
         "name": "open",
         "rawType": "float64",
         "type": "float"
        },
        {
         "name": "high",
         "rawType": "float64",
         "type": "float"
        },
        {
         "name": "low",
         "rawType": "float64",
         "type": "float"
        },
        {
         "name": "close",
         "rawType": "float64",
         "type": "float"
        },
        {
         "name": "volume",
         "rawType": "int64",
         "type": "integer"
        },
        {
         "name": "datetime_sp",
         "rawType": "datetime64[ns]",
         "type": "datetime"
        }
       ],
       "ref": "1b1964a0-847b-448f-98c7-0b45123221b8",
       "rows": [
        [
         "0",
         "_bvsp",
         "2012-01-03",
         "57836.0",
         "59288.0",
         "57836.0",
         "59265.0",
         "3083000",
         "2012-01-03 04:00:00"
        ],
        [
         "1",
         "_bvsp",
         "2012-01-04",
         "59263.0",
         "59519.0",
         "58558.0",
         "59365.0",
         "2252000",
         "2012-01-04 04:00:00"
        ]
       ],
       "shape": {
        "columns": 8,
        "rows": 2
       }
      },
      "text/html": [
       "<div>\n",
       "<style scoped>\n",
       "    .dataframe tbody tr th:only-of-type {\n",
       "        vertical-align: middle;\n",
       "    }\n",
       "\n",
       "    .dataframe tbody tr th {\n",
       "        vertical-align: top;\n",
       "    }\n",
       "\n",
       "    .dataframe thead th {\n",
       "        text-align: right;\n",
       "    }\n",
       "</style>\n",
       "<table border=\"1\" class=\"dataframe\">\n",
       "  <thead>\n",
       "    <tr style=\"text-align: right;\">\n",
       "      <th></th>\n",
       "      <th>ticker</th>\n",
       "      <th>date</th>\n",
       "      <th>open</th>\n",
       "      <th>high</th>\n",
       "      <th>low</th>\n",
       "      <th>close</th>\n",
       "      <th>volume</th>\n",
       "      <th>datetime_sp</th>\n",
       "    </tr>\n",
       "  </thead>\n",
       "  <tbody>\n",
       "    <tr>\n",
       "      <th>0</th>\n",
       "      <td>_bvsp</td>\n",
       "      <td>2012-01-03</td>\n",
       "      <td>57836.0</td>\n",
       "      <td>59288.0</td>\n",
       "      <td>57836.0</td>\n",
       "      <td>59265.0</td>\n",
       "      <td>3083000</td>\n",
       "      <td>2012-01-03 04:00:00</td>\n",
       "    </tr>\n",
       "    <tr>\n",
       "      <th>1</th>\n",
       "      <td>_bvsp</td>\n",
       "      <td>2012-01-04</td>\n",
       "      <td>59263.0</td>\n",
       "      <td>59519.0</td>\n",
       "      <td>58558.0</td>\n",
       "      <td>59365.0</td>\n",
       "      <td>2252000</td>\n",
       "      <td>2012-01-04 04:00:00</td>\n",
       "    </tr>\n",
       "  </tbody>\n",
       "</table>\n",
       "</div>"
      ],
      "text/plain": [
       "  ticker        date     open     high      low    close   volume  \\\n",
       "0  _bvsp  2012-01-03  57836.0  59288.0  57836.0  59265.0  3083000   \n",
       "1  _bvsp  2012-01-04  59263.0  59519.0  58558.0  59365.0  2252000   \n",
       "\n",
       "          datetime_sp  \n",
       "0 2012-01-03 04:00:00  \n",
       "1 2012-01-04 04:00:00  "
      ]
     },
     "metadata": {},
     "output_type": "display_data"
    },
    {
     "name": "stdout",
     "output_type": "stream",
     "text": [
      "\n",
      "[02_adequado] ewz_1d.parquet -> exists=True\n",
      " path: G:\\Drives compartilhados\\BOLSA_2026\\a_bolsa2026_gemini\\00_data\\02_adequado\\ewz_1d.parquet\n",
      " rows: 3449 date: 2012-01-03 -> 2025-09-19\n",
      " tz(datetime_sp): None\n",
      " columns: ['ticker', 'date', 'open', 'high', 'low', 'close', 'volume', 'datetime_sp']\n",
      " dtypes: {'ticker': 'object', 'date': 'object', 'open': 'float64', 'high': 'float64', 'low': 'float64', 'close': 'float64', 'volume': 'int64', 'datetime_sp': 'datetime64[ns]'}\n"
     ]
    },
    {
     "data": {
      "application/vnd.microsoft.datawrangler.viewer.v0+json": {
       "columns": [
        {
         "name": "index",
         "rawType": "int64",
         "type": "integer"
        },
        {
         "name": "ticker",
         "rawType": "object",
         "type": "string"
        },
        {
         "name": "date",
         "rawType": "object",
         "type": "string"
        },
        {
         "name": "open",
         "rawType": "float64",
         "type": "float"
        },
        {
         "name": "high",
         "rawType": "float64",
         "type": "float"
        },
        {
         "name": "low",
         "rawType": "float64",
         "type": "float"
        },
        {
         "name": "close",
         "rawType": "float64",
         "type": "float"
        },
        {
         "name": "volume",
         "rawType": "int64",
         "type": "integer"
        },
        {
         "name": "datetime_sp",
         "rawType": "datetime64[ns]",
         "type": "datetime"
        }
       ],
       "ref": "7849cf37-ff75-4c68-9987-c381a7e8d226",
       "rows": [
        [
         "0",
         "ewz",
         "2012-01-03",
         "59.099998474121094",
         "60.11000061035156",
         "59.060001373291016",
         "59.70000076293945",
         "20052500",
         "2012-01-03 07:00:00"
        ],
        [
         "1",
         "ewz",
         "2012-01-04",
         "59.58000183105469",
         "60.470001220703125",
         "59.560001373291016",
         "59.91999816894531",
         "11113200",
         "2012-01-04 07:00:00"
        ]
       ],
       "shape": {
        "columns": 8,
        "rows": 2
       }
      },
      "text/html": [
       "<div>\n",
       "<style scoped>\n",
       "    .dataframe tbody tr th:only-of-type {\n",
       "        vertical-align: middle;\n",
       "    }\n",
       "\n",
       "    .dataframe tbody tr th {\n",
       "        vertical-align: top;\n",
       "    }\n",
       "\n",
       "    .dataframe thead th {\n",
       "        text-align: right;\n",
       "    }\n",
       "</style>\n",
       "<table border=\"1\" class=\"dataframe\">\n",
       "  <thead>\n",
       "    <tr style=\"text-align: right;\">\n",
       "      <th></th>\n",
       "      <th>ticker</th>\n",
       "      <th>date</th>\n",
       "      <th>open</th>\n",
       "      <th>high</th>\n",
       "      <th>low</th>\n",
       "      <th>close</th>\n",
       "      <th>volume</th>\n",
       "      <th>datetime_sp</th>\n",
       "    </tr>\n",
       "  </thead>\n",
       "  <tbody>\n",
       "    <tr>\n",
       "      <th>0</th>\n",
       "      <td>ewz</td>\n",
       "      <td>2012-01-03</td>\n",
       "      <td>59.099998</td>\n",
       "      <td>60.110001</td>\n",
       "      <td>59.060001</td>\n",
       "      <td>59.700001</td>\n",
       "      <td>20052500</td>\n",
       "      <td>2012-01-03 07:00:00</td>\n",
       "    </tr>\n",
       "    <tr>\n",
       "      <th>1</th>\n",
       "      <td>ewz</td>\n",
       "      <td>2012-01-04</td>\n",
       "      <td>59.580002</td>\n",
       "      <td>60.470001</td>\n",
       "      <td>59.560001</td>\n",
       "      <td>59.919998</td>\n",
       "      <td>11113200</td>\n",
       "      <td>2012-01-04 07:00:00</td>\n",
       "    </tr>\n",
       "  </tbody>\n",
       "</table>\n",
       "</div>"
      ],
      "text/plain": [
       "  ticker        date       open       high        low      close    volume  \\\n",
       "0    ewz  2012-01-03  59.099998  60.110001  59.060001  59.700001  20052500   \n",
       "1    ewz  2012-01-04  59.580002  60.470001  59.560001  59.919998  11113200   \n",
       "\n",
       "          datetime_sp  \n",
       "0 2012-01-03 07:00:00  \n",
       "1 2012-01-04 07:00:00  "
      ]
     },
     "metadata": {},
     "output_type": "display_data"
    },
    {
     "name": "stdout",
     "output_type": "stream",
     "text": [
      "\n",
      "[02_adequado] _gspc_1d.parquet -> exists=True\n",
      " path: G:\\Drives compartilhados\\BOLSA_2026\\a_bolsa2026_gemini\\00_data\\02_adequado\\_gspc_1d.parquet\n",
      " rows: 3449 date: 2012-01-03 -> 2025-09-19\n",
      " tz(datetime_sp): None\n",
      " columns: ['ticker', 'date', 'open', 'high', 'low', 'close', 'volume', 'datetime_sp']\n",
      " dtypes: {'ticker': 'object', 'date': 'object', 'open': 'float64', 'high': 'float64', 'low': 'float64', 'close': 'float64', 'volume': 'int64', 'datetime_sp': 'datetime64[ns]'}\n"
     ]
    },
    {
     "data": {
      "application/vnd.microsoft.datawrangler.viewer.v0+json": {
       "columns": [
        {
         "name": "index",
         "rawType": "int64",
         "type": "integer"
        },
        {
         "name": "ticker",
         "rawType": "object",
         "type": "string"
        },
        {
         "name": "date",
         "rawType": "object",
         "type": "string"
        },
        {
         "name": "open",
         "rawType": "float64",
         "type": "float"
        },
        {
         "name": "high",
         "rawType": "float64",
         "type": "float"
        },
        {
         "name": "low",
         "rawType": "float64",
         "type": "float"
        },
        {
         "name": "close",
         "rawType": "float64",
         "type": "float"
        },
        {
         "name": "volume",
         "rawType": "int64",
         "type": "integer"
        },
        {
         "name": "datetime_sp",
         "rawType": "datetime64[ns]",
         "type": "datetime"
        }
       ],
       "ref": "d37655b2-c41a-4064-8731-34f8c3b7db69",
       "rows": [
        [
         "0",
         "_gspc",
         "2012-01-03",
         "1258.8599853515625",
         "1284.6199951171875",
         "1258.8599853515625",
         "1277.06005859375",
         "3943710000",
         "2012-01-03 07:00:00"
        ],
        [
         "1",
         "_gspc",
         "2012-01-04",
         "1277.030029296875",
         "1278.72998046875",
         "1268.0999755859375",
         "1277.300048828125",
         "3592580000",
         "2012-01-04 07:00:00"
        ]
       ],
       "shape": {
        "columns": 8,
        "rows": 2
       }
      },
      "text/html": [
       "<div>\n",
       "<style scoped>\n",
       "    .dataframe tbody tr th:only-of-type {\n",
       "        vertical-align: middle;\n",
       "    }\n",
       "\n",
       "    .dataframe tbody tr th {\n",
       "        vertical-align: top;\n",
       "    }\n",
       "\n",
       "    .dataframe thead th {\n",
       "        text-align: right;\n",
       "    }\n",
       "</style>\n",
       "<table border=\"1\" class=\"dataframe\">\n",
       "  <thead>\n",
       "    <tr style=\"text-align: right;\">\n",
       "      <th></th>\n",
       "      <th>ticker</th>\n",
       "      <th>date</th>\n",
       "      <th>open</th>\n",
       "      <th>high</th>\n",
       "      <th>low</th>\n",
       "      <th>close</th>\n",
       "      <th>volume</th>\n",
       "      <th>datetime_sp</th>\n",
       "    </tr>\n",
       "  </thead>\n",
       "  <tbody>\n",
       "    <tr>\n",
       "      <th>0</th>\n",
       "      <td>_gspc</td>\n",
       "      <td>2012-01-03</td>\n",
       "      <td>1258.859985</td>\n",
       "      <td>1284.619995</td>\n",
       "      <td>1258.859985</td>\n",
       "      <td>1277.060059</td>\n",
       "      <td>3943710000</td>\n",
       "      <td>2012-01-03 07:00:00</td>\n",
       "    </tr>\n",
       "    <tr>\n",
       "      <th>1</th>\n",
       "      <td>_gspc</td>\n",
       "      <td>2012-01-04</td>\n",
       "      <td>1277.030029</td>\n",
       "      <td>1278.729980</td>\n",
       "      <td>1268.099976</td>\n",
       "      <td>1277.300049</td>\n",
       "      <td>3592580000</td>\n",
       "      <td>2012-01-04 07:00:00</td>\n",
       "    </tr>\n",
       "  </tbody>\n",
       "</table>\n",
       "</div>"
      ],
      "text/plain": [
       "  ticker        date         open         high          low        close  \\\n",
       "0  _gspc  2012-01-03  1258.859985  1284.619995  1258.859985  1277.060059   \n",
       "1  _gspc  2012-01-04  1277.030029  1278.729980  1268.099976  1277.300049   \n",
       "\n",
       "       volume         datetime_sp  \n",
       "0  3943710000 2012-01-03 07:00:00  \n",
       "1  3592580000 2012-01-04 07:00:00  "
      ]
     },
     "metadata": {},
     "output_type": "display_data"
    },
    {
     "name": "stdout",
     "output_type": "stream",
     "text": [
      "\n"
     ]
    }
   ],
   "source": [
    "# 6) Inspeção de estrutura/detalhes em 01_bruto e 02_adequado (3 ações + 3 indicadores)\n",
    "from pathlib import Path\n",
    "import pandas as pd\n",
    "\n",
    "BASE = Path(r\"G:/Drives compartilhados/BOLSA_2026/a_bolsa2026_gemini/00_data\")\n",
    "SRC_FOLDERS = [\"01_bruto\", \"02_adequado\"]\n",
    "\n",
    "# escolha das séries para amostra\n",
    "STOCKS = [\"ABEV3.SA\", \"ITUB4.SA\", \"PETR4.SA\"]\n",
    "INDICS = [\"_bvsp\", \"ewz\", \"_gspc\"]\n",
    "\n",
    "def fname_for_stock(sym: str) -> str:\n",
    "    return f\"{sym.lower().replace('.', '_')}_1d.parquet\"\n",
    "\n",
    "def fname_for_indicator(db_label: str) -> str:\n",
    "    return f\"{db_label.replace('.', '_').lower()}_1d.parquet\"\n",
    "\n",
    "def summarize_parquet(folder: str, filename: str) -> dict:\n",
    "    p = BASE / folder / filename\n",
    "    if not p.exists():\n",
    "        return {\n",
    "            \"folder\": folder, \"file\": filename, \"exists\": False,\n",
    "            \"rows\": 0, \"date_min\": None, \"date_max\": None,\n",
    "            \"columns\": None, \"dtypes\": None, \"tz_datetime_sp\": None,\n",
    "            \"path\": str(p),\n",
    "        }\n",
    "    df = pd.read_parquet(p)\n",
    "    info = {\n",
    "        \"folder\": folder,\n",
    "        \"file\": filename,\n",
    "        \"exists\": True,\n",
    "        \"rows\": int(df.shape[0]),\n",
    "        \"columns\": list(df.columns),\n",
    "        \"dtypes\": {c: str(df[c].dtype) for c in df.columns},\n",
    "        \"date_min\": str(pd.to_datetime(df[\"date\"]).min().date()) if \"date\" in df.columns and not df.empty else None,\n",
    "        \"date_max\": str(pd.to_datetime(df[\"date\"]).max().date()) if \"date\" in df.columns and not df.empty else None,\n",
    "        \"tz_datetime_sp\": None,\n",
    "        \"path\": str(p),\n",
    "    }\n",
    "    if \"datetime_sp\" in df.columns and not df.empty:\n",
    "        try:\n",
    "            v = df[\"datetime_sp\"].iloc[0]\n",
    "            tz = getattr(getattr(v, \"tz\", None), \"key\", None) or str(getattr(v, \"tz\", None))\n",
    "            info[\"tz_datetime_sp\"] = tz\n",
    "        except Exception:\n",
    "            info[\"tz_datetime_sp\"] = None\n",
    "    return info\n",
    "\n",
    "def pretty_print(info: dict):\n",
    "    print(f\"[{info['folder']}] {info['file']} -> exists={info['exists']}\")\n",
    "    print(\" path:\", info[\"path\"])\n",
    "    if not info[\"exists\"]:\n",
    "        print()\n",
    "        return\n",
    "    print(\" rows:\", info[\"rows\"], \"date:\", info[\"date_min\"], \"->\", info[\"date_max\"])\n",
    "    print(\" tz(datetime_sp):\", info[\"tz_datetime_sp\"])\n",
    "    print(\" columns:\", info[\"columns\"])\n",
    "    print(\" dtypes:\", info[\"dtypes\"])\n",
    "    # amostra rápida\n",
    "    try:\n",
    "        df = pd.read_parquet(info[\"path\"])\n",
    "        display(df.head(2))\n",
    "    except Exception:\n",
    "        pass\n",
    "    print()\n",
    "\n",
    "targets = []\n",
    "for s in STOCKS:\n",
    "    targets.append(fname_for_stock(s))\n",
    "for i in INDICS:\n",
    "    targets.append(fname_for_indicator(i))\n",
    "\n",
    "for folder in SRC_FOLDERS:\n",
    "    print(\"===\", folder, \"===\")\n",
    "    for fn in targets:\n",
    "        pretty_print(summarize_parquet(folder, fn))"
   ]
  },
  {
   "cell_type": "markdown",
   "id": "62294834",
   "metadata": {},
   "source": [
    "## Etapa 1 — Setup de diretórios (pedir autorização antes de executar)\n",
    "\n",
    "> Objetivo: criar a árvore base do Silver (02_curado) e utilitários de paths.\n",
    "- Raiz do projeto: `G:\\Drives compartilhados\\BOLSA_2026\\a_bolsa2026_gemini`\n",
    "- Diretórios: `00_dados` (entrada/processados) e `02_curado` (camada Silver e metadados)\n",
    "- Subpastas de `02_curado`:\n",
    "  - `silver/ohlcv_1d/`\n",
    "  - `manifestos/`\n",
    "  - `catalogos/`\n",
    "  - `mappings/`\n",
    "  - `artifacts/`\n",
    "  - `minio_data/`\n",
    "  - `postgres/`\n",
    "\n",
    "> Após inserir a célula de código, peça autorização para executar."
   ]
  },
  {
   "cell_type": "code",
   "execution_count": 10,
   "id": "b6efba70",
   "metadata": {},
   "outputs": [
    {
     "name": "stdout",
     "output_type": "stream",
     "text": [
      "ROOT: G:\\Drives compartilhados\\BOLSA_2026\\a_bolsa2026_gemini\n",
      "DIR_DADOS: G:\\Drives compartilhados\\BOLSA_2026\\a_bolsa2026_gemini\\00_dados\n",
      "DIR_CURADO: G:\\Drives compartilhados\\BOLSA_2026\\a_bolsa2026_gemini\\02_curado\n",
      "Criados/validados:\n",
      " - G:\\Drives compartilhados\\BOLSA_2026\\a_bolsa2026_gemini\\02_curado\\silver\\ohlcv_1d\n",
      " - G:\\Drives compartilhados\\BOLSA_2026\\a_bolsa2026_gemini\\02_curado\\manifestos\n",
      " - G:\\Drives compartilhados\\BOLSA_2026\\a_bolsa2026_gemini\\02_curado\\catalogos\n",
      " - G:\\Drives compartilhados\\BOLSA_2026\\a_bolsa2026_gemini\\02_curado\\mappings\n",
      " - G:\\Drives compartilhados\\BOLSA_2026\\a_bolsa2026_gemini\\02_curado\\artifacts\n",
      " - G:\\Drives compartilhados\\BOLSA_2026\\a_bolsa2026_gemini\\02_curado\\minio_data\n",
      " - G:\\Drives compartilhados\\BOLSA_2026\\a_bolsa2026_gemini\\02_curado\\postgres\n",
      "Árvore parcial (até profundidade 3 ):\n",
      " - G:\\Drives compartilhados\\BOLSA_2026\\a_bolsa2026_gemini\\02_curado\\artifacts\n",
      " - G:\\Drives compartilhados\\BOLSA_2026\\a_bolsa2026_gemini\\02_curado\\catalogos\n",
      " - G:\\Drives compartilhados\\BOLSA_2026\\a_bolsa2026_gemini\\02_curado\\manifestos\n",
      " - G:\\Drives compartilhados\\BOLSA_2026\\a_bolsa2026_gemini\\02_curado\\mappings\n",
      " - G:\\Drives compartilhados\\BOLSA_2026\\a_bolsa2026_gemini\\02_curado\\minio_data\n",
      " - G:\\Drives compartilhados\\BOLSA_2026\\a_bolsa2026_gemini\\02_curado\\postgres\n",
      " - G:\\Drives compartilhados\\BOLSA_2026\\a_bolsa2026_gemini\\02_curado\\silver\n",
      " - G:\\Drives compartilhados\\BOLSA_2026\\a_bolsa2026_gemini\\02_curado\\silver\\ohlcv_1d\n",
      "\n",
      "[INFO] Etapa 1 pronta para execução. Autoriza rodar esta célula?\n"
     ]
    }
   ],
   "source": [
    "# Etapa 1 — Setup de diretórios\n",
    "from pathlib import Path\n",
    "from datetime import datetime\n",
    "from textwrap import indent\n",
    "import os\n",
    "\n",
    "# Constantes de paths (usar raw strings)\n",
    "ROOT = r\"G:\\Drives compartilhados\\BOLSA_2026\\a_bolsa2026_gemini\"\n",
    "DIR_DADOS = ROOT + r\"\\00_dados\"\n",
    "DIR_CURADO = ROOT + r\"\\02_curado\"\n",
    "\n",
    "SUBS = [\n",
    "    r\"silver\\ohlcv_1d\",\n",
    "    r\"manifestos\",\n",
    "    r\"catalogos\",\n",
    "    r\"mappings\",\n",
    "    r\"artifacts\",\n",
    "    r\"minio_data\",\n",
    "    r\"postgres\",\n",
    " ]\n",
    "\n",
    "def ensure_tree():\n",
    "    created = []\n",
    "    base = Path(DIR_CURADO)\n",
    "    base.mkdir(parents=True, exist_ok=True)\n",
    "    for sub in SUBS:\n",
    "        p = base / Path(sub)\n",
    "        p.mkdir(parents=True, exist_ok=True)\n",
    "        created.append(str(p))\n",
    "    return created\n",
    "\n",
    "def print_tree(root: str, max_depth: int = 3):\n",
    "    root_p = Path(root)\n",
    "    rows = []\n",
    "    for p in sorted(root_p.rglob('*')):\n",
    "        try:\n",
    "            depth = len(p.relative_to(root_p).parts)\n",
    "        except Exception:\n",
    "            continue\n",
    "        if depth <= max_depth:\n",
    "            rows.append(str(p))\n",
    "    print(\"Árvore parcial (até profundidade\", max_depth, \"):\")\n",
    "    for r in rows:\n",
    "        print(\" -\", r)\n",
    "\n",
    "print(\"ROOT:\", ROOT)\n",
    "print(\"DIR_DADOS:\", DIR_DADOS)\n",
    "print(\"DIR_CURADO:\", DIR_CURADO)\n",
    "created_paths = ensure_tree()\n",
    "print(\"Criados/validados:\")\n",
    "for c in created_paths:\n",
    "    print(\" -\", c)\n",
    "print_tree(DIR_CURADO, max_depth=3)\n",
    "print(\"\\n[INFO] Etapa 1 pronta para execução. Autoriza rodar esta célula?\")"
   ]
  },
  {
   "cell_type": "markdown",
   "id": "2bc9a683",
   "metadata": {},
   "source": [
    "## Etapa 2 — Inventário e validação mínima (pedir autorização antes de executar)\n",
    "\n",
    "> Objetivo: varrer os processados, padronizar checagens básicas (schema/tz/cutoff) e listar anomalias antes do staging Silver.\n",
    "- Diretório alvo principal: `00_dados\\\\02_processado` (ou `00_dados\\\\02_processed`)\n",
    "- Fallback: `00_data\\\\02_adequado` e `00_data\\\\01_bruto` se a pasta principal não existir/vazia\n",
    "- Validações:\n",
    "  - Colunas mínimas (case-insensitive): ticker, date, open, high, low, close, volume\n",
    "  - date coerente (sem tz) e <= cutoff (ontem SP); se houver datetime com tz, normalizar para SP e extrair date\n",
    "  - Duplicatas por (ticker, date)\n",
    "- Saídas:\n",
    "  - Tabela-resumo (top 20) com arquivo, ticker_inferido, provider_inferido, linhas, date_min, date_max, colunas\n",
    "  - Lista auditável de anomalias (faltas de colunas, datas futuras, duplicatas)\n",
    "\n",
    "> Após inserir a célula de código, peça autorização para executar."
   ]
  },
  {
   "cell_type": "code",
   "execution_count": 11,
   "id": "d4b66204",
   "metadata": {},
   "outputs": [
    {
     "name": "stdout",
     "output_type": "stream",
     "text": [
      "[WARN] Diretório principal vazio/ausente. Usando fallback: G:\\Drives compartilhados\\BOLSA_2026\\a_bolsa2026_gemini\\00_data\\02_adequado\n"
     ]
    },
    {
     "name": "stderr",
     "output_type": "stream",
     "text": [
      "Inventário: 100%|██████████| 31/31 [00:00<00:00, 66.64it/s]"
     ]
    },
    {
     "name": "stdout",
     "output_type": "stream",
     "text": [
      "Resumo:\n",
      " - Arquivos: 31\n",
      " - Linhas totais: 101298\n",
      " - Data global: 2012-01-02 -> 2025-09-19\n"
     ]
    },
    {
     "name": "stderr",
     "output_type": "stream",
     "text": [
      "\n"
     ]
    },
    {
     "data": {
      "application/vnd.microsoft.datawrangler.viewer.v0+json": {
       "columns": [
        {
         "name": "index",
         "rawType": "int64",
         "type": "integer"
        },
        {
         "name": "arquivo",
         "rawType": "object",
         "type": "string"
        },
        {
         "name": "path",
         "rawType": "object",
         "type": "string"
        },
        {
         "name": "ticker_inferido",
         "rawType": "object",
         "type": "string"
        },
        {
         "name": "provider_inferido",
         "rawType": "object",
         "type": "string"
        },
        {
         "name": "linhas",
         "rawType": "int64",
         "type": "integer"
        },
        {
         "name": "date_min",
         "rawType": "object",
         "type": "string"
        },
        {
         "name": "date_max",
         "rawType": "object",
         "type": "string"
        },
        {
         "name": "colunas",
         "rawType": "object",
         "type": "unknown"
        },
        {
         "name": "miss_cols",
         "rawType": "object",
         "type": "unknown"
        },
        {
         "name": "dup_count",
         "rawType": "int64",
         "type": "integer"
        },
        {
         "name": "had_future_dates",
         "rawType": "int64",
         "type": "integer"
        }
       ],
       "ref": "6880922b-5f1c-4d6c-a25b-8e5c7e1d63af",
       "rows": [
        [
         "0",
         "_bvsp_1d.parquet",
         "G:\\Drives compartilhados\\BOLSA_2026\\a_bolsa2026_gemini\\00_data\\02_adequado\\_bvsp_1d.parquet",
         "BVSP",
         "yahoo",
         "3400",
         "2012-01-03",
         "2025-09-19",
         "['ticker', 'date', 'open', 'high', 'low', 'close', 'volume', 'datetime_sp']",
         "[]",
         "0",
         "0"
        ],
        [
         "1",
         "_gspc_1d.parquet",
         "G:\\Drives compartilhados\\BOLSA_2026\\a_bolsa2026_gemini\\00_data\\02_adequado\\_gspc_1d.parquet",
         "GSPC",
         "yahoo",
         "3449",
         "2012-01-03",
         "2025-09-19",
         "['ticker', 'date', 'open', 'high', 'low', 'close', 'volume', 'datetime_sp']",
         "[]",
         "0",
         "0"
        ],
        [
         "2",
         "_tnx_1d.parquet",
         "G:\\Drives compartilhados\\BOLSA_2026\\a_bolsa2026_gemini\\00_data\\02_adequado\\_tnx_1d.parquet",
         "TNX",
         "yahoo",
         "3448",
         "2012-01-03",
         "2025-09-19",
         "['ticker', 'date', 'open', 'high', 'low', 'close', 'volume', 'datetime_sp']",
         "[]",
         "0",
         "0"
        ],
        [
         "3",
         "_vix_1d.parquet",
         "G:\\Drives compartilhados\\BOLSA_2026\\a_bolsa2026_gemini\\00_data\\02_adequado\\_vix_1d.parquet",
         "VIX",
         "yahoo",
         "3449",
         "2012-01-03",
         "2025-09-19",
         "['ticker', 'date', 'open', 'high', 'low', 'close', 'volume', 'datetime_sp']",
         "[]",
         "0",
         "0"
        ],
        [
         "4",
         "abev3_sa_1d.parquet",
         "G:\\Drives compartilhados\\BOLSA_2026\\a_bolsa2026_gemini\\00_data\\02_adequado\\abev3_sa_1d.parquet",
         "ABEV3",
         "investing",
         "3409",
         "2012-01-02",
         "2025-09-19",
         "['ticker', 'date', 'open', 'high', 'low', 'close', 'volume', 'datetime_sp']",
         "[]",
         "0",
         "0"
        ],
        [
         "5",
         "b3sa3_sa_1d.parquet",
         "G:\\Drives compartilhados\\BOLSA_2026\\a_bolsa2026_gemini\\00_data\\02_adequado\\b3sa3_sa_1d.parquet",
         "B3SA3",
         "investing",
         "3409",
         "2012-01-02",
         "2025-09-19",
         "['ticker', 'date', 'open', 'high', 'low', 'close', 'volume', 'datetime_sp']",
         "[]",
         "0",
         "0"
        ],
        [
         "6",
         "bbas3_sa_1d.parquet",
         "G:\\Drives compartilhados\\BOLSA_2026\\a_bolsa2026_gemini\\00_data\\02_adequado\\bbas3_sa_1d.parquet",
         "BBAS3",
         "investing",
         "3409",
         "2012-01-02",
         "2025-09-19",
         "['ticker', 'date', 'open', 'high', 'low', 'close', 'volume', 'datetime_sp']",
         "[]",
         "0",
         "0"
        ],
        [
         "7",
         "bz=f_1d.parquet",
         "G:\\Drives compartilhados\\BOLSA_2026\\a_bolsa2026_gemini\\00_data\\02_adequado\\bz=f_1d.parquet",
         "BZ=F",
         "yahoo",
         "3432",
         "2012-01-03",
         "2025-09-19",
         "['ticker', 'date', 'open', 'high', 'low', 'close', 'volume', 'datetime_sp']",
         "[]",
         "0",
         "0"
        ],
        [
         "8",
         "cple6_sa_1d.parquet",
         "G:\\Drives compartilhados\\BOLSA_2026\\a_bolsa2026_gemini\\00_data\\02_adequado\\cple6_sa_1d.parquet",
         "CPLE6",
         "investing",
         "3408",
         "2012-01-02",
         "2025-09-19",
         "['ticker', 'date', 'open', 'high', 'low', 'close', 'volume', 'datetime_sp']",
         "[]",
         "0",
         "0"
        ],
        [
         "9",
         "csna3_sa_1d.parquet",
         "G:\\Drives compartilhados\\BOLSA_2026\\a_bolsa2026_gemini\\00_data\\02_adequado\\csna3_sa_1d.parquet",
         "CSNA3",
         "investing",
         "3409",
         "2012-01-02",
         "2025-09-19",
         "['ticker', 'date', 'open', 'high', 'low', 'close', 'volume', 'datetime_sp']",
         "[]",
         "0",
         "0"
        ],
        [
         "10",
         "dx-y_nyb_1d.parquet",
         "G:\\Drives compartilhados\\BOLSA_2026\\a_bolsa2026_gemini\\00_data\\02_adequado\\dx-y_nyb_1d.parquet",
         "DX-YNYB",
         "yahoo",
         "3450",
         "2012-01-03",
         "2025-09-19",
         "['ticker', 'date', 'open', 'high', 'low', 'close', 'volume', 'datetime_sp']",
         "[]",
         "0",
         "0"
        ],
        [
         "11",
         "elet3_sa_1d.parquet",
         "G:\\Drives compartilhados\\BOLSA_2026\\a_bolsa2026_gemini\\00_data\\02_adequado\\elet3_sa_1d.parquet",
         "ELET3",
         "investing",
         "3409",
         "2012-01-02",
         "2025-09-19",
         "['ticker', 'date', 'open', 'high', 'low', 'close', 'volume', 'datetime_sp']",
         "[]",
         "0",
         "0"
        ],
        [
         "12",
         "ewz_1d.parquet",
         "G:\\Drives compartilhados\\BOLSA_2026\\a_bolsa2026_gemini\\00_data\\02_adequado\\ewz_1d.parquet",
         "EWZ",
         "yahoo",
         "3449",
         "2012-01-03",
         "2025-09-19",
         "['ticker', 'date', 'open', 'high', 'low', 'close', 'volume', 'datetime_sp']",
         "[]",
         "0",
         "0"
        ],
        [
         "13",
         "ggbr4_sa_1d.parquet",
         "G:\\Drives compartilhados\\BOLSA_2026\\a_bolsa2026_gemini\\00_data\\02_adequado\\ggbr4_sa_1d.parquet",
         "GGBR4",
         "investing",
         "3409",
         "2012-01-02",
         "2025-09-19",
         "['ticker', 'date', 'open', 'high', 'low', 'close', 'volume', 'datetime_sp']",
         "[]",
         "0",
         "0"
        ],
        [
         "14",
         "hapv3_sa_1d.parquet",
         "G:\\Drives compartilhados\\BOLSA_2026\\a_bolsa2026_gemini\\00_data\\02_adequado\\hapv3_sa_1d.parquet",
         "HAPV3",
         "investing",
         "1840",
         "2018-04-26",
         "2025-09-19",
         "['ticker', 'date', 'open', 'high', 'low', 'close', 'volume', 'datetime_sp']",
         "[]",
         "0",
         "0"
        ],
        [
         "15",
         "itub4_sa_1d.parquet",
         "G:\\Drives compartilhados\\BOLSA_2026\\a_bolsa2026_gemini\\00_data\\02_adequado\\itub4_sa_1d.parquet",
         "ITUB4",
         "investing",
         "3409",
         "2012-01-02",
         "2025-09-19",
         "['ticker', 'date', 'open', 'high', 'low', 'close', 'volume', 'datetime_sp']",
         "[]",
         "0",
         "0"
        ],
        [
         "16",
         "lren3_sa_1d.parquet",
         "G:\\Drives compartilhados\\BOLSA_2026\\a_bolsa2026_gemini\\00_data\\02_adequado\\lren3_sa_1d.parquet",
         "LREN3",
         "investing",
         "3409",
         "2012-01-02",
         "2025-09-19",
         "['ticker', 'date', 'open', 'high', 'low', 'close', 'volume', 'datetime_sp']",
         "[]",
         "0",
         "0"
        ],
        [
         "17",
         "petr4_sa_1d.parquet",
         "G:\\Drives compartilhados\\BOLSA_2026\\a_bolsa2026_gemini\\00_data\\02_adequado\\petr4_sa_1d.parquet",
         "PETR4",
         "investing",
         "3409",
         "2012-01-02",
         "2025-09-19",
         "['ticker', 'date', 'open', 'high', 'low', 'close', 'volume', 'datetime_sp']",
         "[]",
         "0",
         "0"
        ],
        [
         "18",
         "prio3_sa_1d.parquet",
         "G:\\Drives compartilhados\\BOLSA_2026\\a_bolsa2026_gemini\\00_data\\02_adequado\\prio3_sa_1d.parquet",
         "PRIO3",
         "investing",
         "3409",
         "2012-01-02",
         "2025-09-19",
         "['ticker', 'date', 'open', 'high', 'low', 'close', 'volume', 'datetime_sp']",
         "[]",
         "0",
         "0"
        ],
        [
         "19",
         "pssa3_sa_1d.parquet",
         "G:\\Drives compartilhados\\BOLSA_2026\\a_bolsa2026_gemini\\00_data\\02_adequado\\pssa3_sa_1d.parquet",
         "PSSA3",
         "investing",
         "3409",
         "2012-01-02",
         "2025-09-19",
         "['ticker', 'date', 'open', 'high', 'low', 'close', 'volume', 'datetime_sp']",
         "[]",
         "0",
         "0"
        ]
       ],
       "shape": {
        "columns": 11,
        "rows": 20
       }
      },
      "text/html": [
       "<div>\n",
       "<style scoped>\n",
       "    .dataframe tbody tr th:only-of-type {\n",
       "        vertical-align: middle;\n",
       "    }\n",
       "\n",
       "    .dataframe tbody tr th {\n",
       "        vertical-align: top;\n",
       "    }\n",
       "\n",
       "    .dataframe thead th {\n",
       "        text-align: right;\n",
       "    }\n",
       "</style>\n",
       "<table border=\"1\" class=\"dataframe\">\n",
       "  <thead>\n",
       "    <tr style=\"text-align: right;\">\n",
       "      <th></th>\n",
       "      <th>arquivo</th>\n",
       "      <th>path</th>\n",
       "      <th>ticker_inferido</th>\n",
       "      <th>provider_inferido</th>\n",
       "      <th>linhas</th>\n",
       "      <th>date_min</th>\n",
       "      <th>date_max</th>\n",
       "      <th>colunas</th>\n",
       "      <th>miss_cols</th>\n",
       "      <th>dup_count</th>\n",
       "      <th>had_future_dates</th>\n",
       "    </tr>\n",
       "  </thead>\n",
       "  <tbody>\n",
       "    <tr>\n",
       "      <th>0</th>\n",
       "      <td>_bvsp_1d.parquet</td>\n",
       "      <td>G:\\Drives compartilhados\\BOLSA_2026\\a_bolsa202...</td>\n",
       "      <td>BVSP</td>\n",
       "      <td>yahoo</td>\n",
       "      <td>3400</td>\n",
       "      <td>2012-01-03</td>\n",
       "      <td>2025-09-19</td>\n",
       "      <td>[ticker, date, open, high, low, close, volume,...</td>\n",
       "      <td>[]</td>\n",
       "      <td>0</td>\n",
       "      <td>0</td>\n",
       "    </tr>\n",
       "    <tr>\n",
       "      <th>1</th>\n",
       "      <td>_gspc_1d.parquet</td>\n",
       "      <td>G:\\Drives compartilhados\\BOLSA_2026\\a_bolsa202...</td>\n",
       "      <td>GSPC</td>\n",
       "      <td>yahoo</td>\n",
       "      <td>3449</td>\n",
       "      <td>2012-01-03</td>\n",
       "      <td>2025-09-19</td>\n",
       "      <td>[ticker, date, open, high, low, close, volume,...</td>\n",
       "      <td>[]</td>\n",
       "      <td>0</td>\n",
       "      <td>0</td>\n",
       "    </tr>\n",
       "    <tr>\n",
       "      <th>2</th>\n",
       "      <td>_tnx_1d.parquet</td>\n",
       "      <td>G:\\Drives compartilhados\\BOLSA_2026\\a_bolsa202...</td>\n",
       "      <td>TNX</td>\n",
       "      <td>yahoo</td>\n",
       "      <td>3448</td>\n",
       "      <td>2012-01-03</td>\n",
       "      <td>2025-09-19</td>\n",
       "      <td>[ticker, date, open, high, low, close, volume,...</td>\n",
       "      <td>[]</td>\n",
       "      <td>0</td>\n",
       "      <td>0</td>\n",
       "    </tr>\n",
       "    <tr>\n",
       "      <th>3</th>\n",
       "      <td>_vix_1d.parquet</td>\n",
       "      <td>G:\\Drives compartilhados\\BOLSA_2026\\a_bolsa202...</td>\n",
       "      <td>VIX</td>\n",
       "      <td>yahoo</td>\n",
       "      <td>3449</td>\n",
       "      <td>2012-01-03</td>\n",
       "      <td>2025-09-19</td>\n",
       "      <td>[ticker, date, open, high, low, close, volume,...</td>\n",
       "      <td>[]</td>\n",
       "      <td>0</td>\n",
       "      <td>0</td>\n",
       "    </tr>\n",
       "    <tr>\n",
       "      <th>4</th>\n",
       "      <td>abev3_sa_1d.parquet</td>\n",
       "      <td>G:\\Drives compartilhados\\BOLSA_2026\\a_bolsa202...</td>\n",
       "      <td>ABEV3</td>\n",
       "      <td>investing</td>\n",
       "      <td>3409</td>\n",
       "      <td>2012-01-02</td>\n",
       "      <td>2025-09-19</td>\n",
       "      <td>[ticker, date, open, high, low, close, volume,...</td>\n",
       "      <td>[]</td>\n",
       "      <td>0</td>\n",
       "      <td>0</td>\n",
       "    </tr>\n",
       "    <tr>\n",
       "      <th>5</th>\n",
       "      <td>b3sa3_sa_1d.parquet</td>\n",
       "      <td>G:\\Drives compartilhados\\BOLSA_2026\\a_bolsa202...</td>\n",
       "      <td>B3SA3</td>\n",
       "      <td>investing</td>\n",
       "      <td>3409</td>\n",
       "      <td>2012-01-02</td>\n",
       "      <td>2025-09-19</td>\n",
       "      <td>[ticker, date, open, high, low, close, volume,...</td>\n",
       "      <td>[]</td>\n",
       "      <td>0</td>\n",
       "      <td>0</td>\n",
       "    </tr>\n",
       "    <tr>\n",
       "      <th>6</th>\n",
       "      <td>bbas3_sa_1d.parquet</td>\n",
       "      <td>G:\\Drives compartilhados\\BOLSA_2026\\a_bolsa202...</td>\n",
       "      <td>BBAS3</td>\n",
       "      <td>investing</td>\n",
       "      <td>3409</td>\n",
       "      <td>2012-01-02</td>\n",
       "      <td>2025-09-19</td>\n",
       "      <td>[ticker, date, open, high, low, close, volume,...</td>\n",
       "      <td>[]</td>\n",
       "      <td>0</td>\n",
       "      <td>0</td>\n",
       "    </tr>\n",
       "    <tr>\n",
       "      <th>7</th>\n",
       "      <td>bz=f_1d.parquet</td>\n",
       "      <td>G:\\Drives compartilhados\\BOLSA_2026\\a_bolsa202...</td>\n",
       "      <td>BZ=F</td>\n",
       "      <td>yahoo</td>\n",
       "      <td>3432</td>\n",
       "      <td>2012-01-03</td>\n",
       "      <td>2025-09-19</td>\n",
       "      <td>[ticker, date, open, high, low, close, volume,...</td>\n",
       "      <td>[]</td>\n",
       "      <td>0</td>\n",
       "      <td>0</td>\n",
       "    </tr>\n",
       "    <tr>\n",
       "      <th>8</th>\n",
       "      <td>cple6_sa_1d.parquet</td>\n",
       "      <td>G:\\Drives compartilhados\\BOLSA_2026\\a_bolsa202...</td>\n",
       "      <td>CPLE6</td>\n",
       "      <td>investing</td>\n",
       "      <td>3408</td>\n",
       "      <td>2012-01-02</td>\n",
       "      <td>2025-09-19</td>\n",
       "      <td>[ticker, date, open, high, low, close, volume,...</td>\n",
       "      <td>[]</td>\n",
       "      <td>0</td>\n",
       "      <td>0</td>\n",
       "    </tr>\n",
       "    <tr>\n",
       "      <th>9</th>\n",
       "      <td>csna3_sa_1d.parquet</td>\n",
       "      <td>G:\\Drives compartilhados\\BOLSA_2026\\a_bolsa202...</td>\n",
       "      <td>CSNA3</td>\n",
       "      <td>investing</td>\n",
       "      <td>3409</td>\n",
       "      <td>2012-01-02</td>\n",
       "      <td>2025-09-19</td>\n",
       "      <td>[ticker, date, open, high, low, close, volume,...</td>\n",
       "      <td>[]</td>\n",
       "      <td>0</td>\n",
       "      <td>0</td>\n",
       "    </tr>\n",
       "    <tr>\n",
       "      <th>10</th>\n",
       "      <td>dx-y_nyb_1d.parquet</td>\n",
       "      <td>G:\\Drives compartilhados\\BOLSA_2026\\a_bolsa202...</td>\n",
       "      <td>DX-YNYB</td>\n",
       "      <td>yahoo</td>\n",
       "      <td>3450</td>\n",
       "      <td>2012-01-03</td>\n",
       "      <td>2025-09-19</td>\n",
       "      <td>[ticker, date, open, high, low, close, volume,...</td>\n",
       "      <td>[]</td>\n",
       "      <td>0</td>\n",
       "      <td>0</td>\n",
       "    </tr>\n",
       "    <tr>\n",
       "      <th>11</th>\n",
       "      <td>elet3_sa_1d.parquet</td>\n",
       "      <td>G:\\Drives compartilhados\\BOLSA_2026\\a_bolsa202...</td>\n",
       "      <td>ELET3</td>\n",
       "      <td>investing</td>\n",
       "      <td>3409</td>\n",
       "      <td>2012-01-02</td>\n",
       "      <td>2025-09-19</td>\n",
       "      <td>[ticker, date, open, high, low, close, volume,...</td>\n",
       "      <td>[]</td>\n",
       "      <td>0</td>\n",
       "      <td>0</td>\n",
       "    </tr>\n",
       "    <tr>\n",
       "      <th>12</th>\n",
       "      <td>ewz_1d.parquet</td>\n",
       "      <td>G:\\Drives compartilhados\\BOLSA_2026\\a_bolsa202...</td>\n",
       "      <td>EWZ</td>\n",
       "      <td>yahoo</td>\n",
       "      <td>3449</td>\n",
       "      <td>2012-01-03</td>\n",
       "      <td>2025-09-19</td>\n",
       "      <td>[ticker, date, open, high, low, close, volume,...</td>\n",
       "      <td>[]</td>\n",
       "      <td>0</td>\n",
       "      <td>0</td>\n",
       "    </tr>\n",
       "    <tr>\n",
       "      <th>13</th>\n",
       "      <td>ggbr4_sa_1d.parquet</td>\n",
       "      <td>G:\\Drives compartilhados\\BOLSA_2026\\a_bolsa202...</td>\n",
       "      <td>GGBR4</td>\n",
       "      <td>investing</td>\n",
       "      <td>3409</td>\n",
       "      <td>2012-01-02</td>\n",
       "      <td>2025-09-19</td>\n",
       "      <td>[ticker, date, open, high, low, close, volume,...</td>\n",
       "      <td>[]</td>\n",
       "      <td>0</td>\n",
       "      <td>0</td>\n",
       "    </tr>\n",
       "    <tr>\n",
       "      <th>14</th>\n",
       "      <td>hapv3_sa_1d.parquet</td>\n",
       "      <td>G:\\Drives compartilhados\\BOLSA_2026\\a_bolsa202...</td>\n",
       "      <td>HAPV3</td>\n",
       "      <td>investing</td>\n",
       "      <td>1840</td>\n",
       "      <td>2018-04-26</td>\n",
       "      <td>2025-09-19</td>\n",
       "      <td>[ticker, date, open, high, low, close, volume,...</td>\n",
       "      <td>[]</td>\n",
       "      <td>0</td>\n",
       "      <td>0</td>\n",
       "    </tr>\n",
       "    <tr>\n",
       "      <th>15</th>\n",
       "      <td>itub4_sa_1d.parquet</td>\n",
       "      <td>G:\\Drives compartilhados\\BOLSA_2026\\a_bolsa202...</td>\n",
       "      <td>ITUB4</td>\n",
       "      <td>investing</td>\n",
       "      <td>3409</td>\n",
       "      <td>2012-01-02</td>\n",
       "      <td>2025-09-19</td>\n",
       "      <td>[ticker, date, open, high, low, close, volume,...</td>\n",
       "      <td>[]</td>\n",
       "      <td>0</td>\n",
       "      <td>0</td>\n",
       "    </tr>\n",
       "    <tr>\n",
       "      <th>16</th>\n",
       "      <td>lren3_sa_1d.parquet</td>\n",
       "      <td>G:\\Drives compartilhados\\BOLSA_2026\\a_bolsa202...</td>\n",
       "      <td>LREN3</td>\n",
       "      <td>investing</td>\n",
       "      <td>3409</td>\n",
       "      <td>2012-01-02</td>\n",
       "      <td>2025-09-19</td>\n",
       "      <td>[ticker, date, open, high, low, close, volume,...</td>\n",
       "      <td>[]</td>\n",
       "      <td>0</td>\n",
       "      <td>0</td>\n",
       "    </tr>\n",
       "    <tr>\n",
       "      <th>17</th>\n",
       "      <td>petr4_sa_1d.parquet</td>\n",
       "      <td>G:\\Drives compartilhados\\BOLSA_2026\\a_bolsa202...</td>\n",
       "      <td>PETR4</td>\n",
       "      <td>investing</td>\n",
       "      <td>3409</td>\n",
       "      <td>2012-01-02</td>\n",
       "      <td>2025-09-19</td>\n",
       "      <td>[ticker, date, open, high, low, close, volume,...</td>\n",
       "      <td>[]</td>\n",
       "      <td>0</td>\n",
       "      <td>0</td>\n",
       "    </tr>\n",
       "    <tr>\n",
       "      <th>18</th>\n",
       "      <td>prio3_sa_1d.parquet</td>\n",
       "      <td>G:\\Drives compartilhados\\BOLSA_2026\\a_bolsa202...</td>\n",
       "      <td>PRIO3</td>\n",
       "      <td>investing</td>\n",
       "      <td>3409</td>\n",
       "      <td>2012-01-02</td>\n",
       "      <td>2025-09-19</td>\n",
       "      <td>[ticker, date, open, high, low, close, volume,...</td>\n",
       "      <td>[]</td>\n",
       "      <td>0</td>\n",
       "      <td>0</td>\n",
       "    </tr>\n",
       "    <tr>\n",
       "      <th>19</th>\n",
       "      <td>pssa3_sa_1d.parquet</td>\n",
       "      <td>G:\\Drives compartilhados\\BOLSA_2026\\a_bolsa202...</td>\n",
       "      <td>PSSA3</td>\n",
       "      <td>investing</td>\n",
       "      <td>3409</td>\n",
       "      <td>2012-01-02</td>\n",
       "      <td>2025-09-19</td>\n",
       "      <td>[ticker, date, open, high, low, close, volume,...</td>\n",
       "      <td>[]</td>\n",
       "      <td>0</td>\n",
       "      <td>0</td>\n",
       "    </tr>\n",
       "  </tbody>\n",
       "</table>\n",
       "</div>"
      ],
      "text/plain": [
       "                arquivo                                               path  \\\n",
       "0      _bvsp_1d.parquet  G:\\Drives compartilhados\\BOLSA_2026\\a_bolsa202...   \n",
       "1      _gspc_1d.parquet  G:\\Drives compartilhados\\BOLSA_2026\\a_bolsa202...   \n",
       "2       _tnx_1d.parquet  G:\\Drives compartilhados\\BOLSA_2026\\a_bolsa202...   \n",
       "3       _vix_1d.parquet  G:\\Drives compartilhados\\BOLSA_2026\\a_bolsa202...   \n",
       "4   abev3_sa_1d.parquet  G:\\Drives compartilhados\\BOLSA_2026\\a_bolsa202...   \n",
       "5   b3sa3_sa_1d.parquet  G:\\Drives compartilhados\\BOLSA_2026\\a_bolsa202...   \n",
       "6   bbas3_sa_1d.parquet  G:\\Drives compartilhados\\BOLSA_2026\\a_bolsa202...   \n",
       "7       bz=f_1d.parquet  G:\\Drives compartilhados\\BOLSA_2026\\a_bolsa202...   \n",
       "8   cple6_sa_1d.parquet  G:\\Drives compartilhados\\BOLSA_2026\\a_bolsa202...   \n",
       "9   csna3_sa_1d.parquet  G:\\Drives compartilhados\\BOLSA_2026\\a_bolsa202...   \n",
       "10  dx-y_nyb_1d.parquet  G:\\Drives compartilhados\\BOLSA_2026\\a_bolsa202...   \n",
       "11  elet3_sa_1d.parquet  G:\\Drives compartilhados\\BOLSA_2026\\a_bolsa202...   \n",
       "12       ewz_1d.parquet  G:\\Drives compartilhados\\BOLSA_2026\\a_bolsa202...   \n",
       "13  ggbr4_sa_1d.parquet  G:\\Drives compartilhados\\BOLSA_2026\\a_bolsa202...   \n",
       "14  hapv3_sa_1d.parquet  G:\\Drives compartilhados\\BOLSA_2026\\a_bolsa202...   \n",
       "15  itub4_sa_1d.parquet  G:\\Drives compartilhados\\BOLSA_2026\\a_bolsa202...   \n",
       "16  lren3_sa_1d.parquet  G:\\Drives compartilhados\\BOLSA_2026\\a_bolsa202...   \n",
       "17  petr4_sa_1d.parquet  G:\\Drives compartilhados\\BOLSA_2026\\a_bolsa202...   \n",
       "18  prio3_sa_1d.parquet  G:\\Drives compartilhados\\BOLSA_2026\\a_bolsa202...   \n",
       "19  pssa3_sa_1d.parquet  G:\\Drives compartilhados\\BOLSA_2026\\a_bolsa202...   \n",
       "\n",
       "   ticker_inferido provider_inferido  linhas    date_min    date_max  \\\n",
       "0             BVSP             yahoo    3400  2012-01-03  2025-09-19   \n",
       "1             GSPC             yahoo    3449  2012-01-03  2025-09-19   \n",
       "2              TNX             yahoo    3448  2012-01-03  2025-09-19   \n",
       "3              VIX             yahoo    3449  2012-01-03  2025-09-19   \n",
       "4            ABEV3         investing    3409  2012-01-02  2025-09-19   \n",
       "5            B3SA3         investing    3409  2012-01-02  2025-09-19   \n",
       "6            BBAS3         investing    3409  2012-01-02  2025-09-19   \n",
       "7             BZ=F             yahoo    3432  2012-01-03  2025-09-19   \n",
       "8            CPLE6         investing    3408  2012-01-02  2025-09-19   \n",
       "9            CSNA3         investing    3409  2012-01-02  2025-09-19   \n",
       "10         DX-YNYB             yahoo    3450  2012-01-03  2025-09-19   \n",
       "11           ELET3         investing    3409  2012-01-02  2025-09-19   \n",
       "12             EWZ             yahoo    3449  2012-01-03  2025-09-19   \n",
       "13           GGBR4         investing    3409  2012-01-02  2025-09-19   \n",
       "14           HAPV3         investing    1840  2018-04-26  2025-09-19   \n",
       "15           ITUB4         investing    3409  2012-01-02  2025-09-19   \n",
       "16           LREN3         investing    3409  2012-01-02  2025-09-19   \n",
       "17           PETR4         investing    3409  2012-01-02  2025-09-19   \n",
       "18           PRIO3         investing    3409  2012-01-02  2025-09-19   \n",
       "19           PSSA3         investing    3409  2012-01-02  2025-09-19   \n",
       "\n",
       "                                              colunas miss_cols  dup_count  \\\n",
       "0   [ticker, date, open, high, low, close, volume,...        []          0   \n",
       "1   [ticker, date, open, high, low, close, volume,...        []          0   \n",
       "2   [ticker, date, open, high, low, close, volume,...        []          0   \n",
       "3   [ticker, date, open, high, low, close, volume,...        []          0   \n",
       "4   [ticker, date, open, high, low, close, volume,...        []          0   \n",
       "5   [ticker, date, open, high, low, close, volume,...        []          0   \n",
       "6   [ticker, date, open, high, low, close, volume,...        []          0   \n",
       "7   [ticker, date, open, high, low, close, volume,...        []          0   \n",
       "8   [ticker, date, open, high, low, close, volume,...        []          0   \n",
       "9   [ticker, date, open, high, low, close, volume,...        []          0   \n",
       "10  [ticker, date, open, high, low, close, volume,...        []          0   \n",
       "11  [ticker, date, open, high, low, close, volume,...        []          0   \n",
       "12  [ticker, date, open, high, low, close, volume,...        []          0   \n",
       "13  [ticker, date, open, high, low, close, volume,...        []          0   \n",
       "14  [ticker, date, open, high, low, close, volume,...        []          0   \n",
       "15  [ticker, date, open, high, low, close, volume,...        []          0   \n",
       "16  [ticker, date, open, high, low, close, volume,...        []          0   \n",
       "17  [ticker, date, open, high, low, close, volume,...        []          0   \n",
       "18  [ticker, date, open, high, low, close, volume,...        []          0   \n",
       "19  [ticker, date, open, high, low, close, volume,...        []          0   \n",
       "\n",
       "    had_future_dates  \n",
       "0                  0  \n",
       "1                  0  \n",
       "2                  0  \n",
       "3                  0  \n",
       "4                  0  \n",
       "5                  0  \n",
       "6                  0  \n",
       "7                  0  \n",
       "8                  0  \n",
       "9                  0  \n",
       "10                 0  \n",
       "11                 0  \n",
       "12                 0  \n",
       "13                 0  \n",
       "14                 0  \n",
       "15                 0  \n",
       "16                 0  \n",
       "17                 0  \n",
       "18                 0  \n",
       "19                 0  "
      ]
     },
     "metadata": {},
     "output_type": "display_data"
    },
    {
     "name": "stdout",
     "output_type": "stream",
     "text": [
      "Sem anomalias encontradas.\n",
      "\n",
      "[INFO] Etapa 2 pronta. Posso executar agora?\n"
     ]
    }
   ],
   "source": [
    "# Etapa 2 — Inventário e validação mínima\n",
    "from pathlib import Path\n",
    "from datetime import datetime, timedelta\n",
    "import pandas as pd\n",
    "from zoneinfo import ZoneInfo\n",
    "from tqdm import tqdm\n",
    "\n",
    "TZ_SP = ZoneInfo(\"America/Sao_Paulo\")\n",
    "CUTOFF_SP = (datetime.now(TZ_SP).date() - timedelta(days=1))\n",
    "ROOT = r\"G:\\Drives compartilhados\\BOLSA_2026\\a_bolsa2026_gemini\"\n",
    "DIR_DADOS = ROOT + r\"\\00_dados\"\n",
    "DIR_PRIMARY_1 = DIR_DADOS + r\"\\02_processado\"\n",
    "DIR_PRIMARY_2 = DIR_DADOS + r\"\\02_processed\"\n",
    "FALLBACKS = [\n",
    "    r\"G:\\Drives compartilhados\\BOLSA_2026\\a_bolsa2026_gemini\\00_data\\02_adequado\",\n",
    "    r\"G:\\Drives compartilhados\\BOLSA_2026\\a_bolsa2026_gemini\\00_data\\01_bruto\",\n",
    " ]\n",
    "\n",
    "def list_parquets(base_dir: str) -> list[Path]:\n",
    "    p = Path(base_dir)\n",
    "    if not p.exists():\n",
    "        return []\n",
    "    return sorted(p.rglob(\"*.parquet\"))\n",
    "\n",
    "def pick_sources() -> list[Path]:\n",
    "    found = list_parquets(DIR_PRIMARY_1) or list_parquets(DIR_PRIMARY_2)\n",
    "    if found:\n",
    "        print(\"[INFO] Usando diretório principal de processados.\")\n",
    "        return found\n",
    "    for fb in FALLBACKS:\n",
    "        f = list_parquets(fb)\n",
    "        if f:\n",
    "            print(f\"[WARN] Diretório principal vazio/ausente. Usando fallback: {fb}\")\n",
    "            return f\n",
    "    print(\"[ERRO] Nenhum arquivo parquet encontrado em fontes conhecidas.\")\n",
    "    return []\n",
    "\n",
    "def infer_ticker_from_name(name: str) -> str | None:\n",
    "    nm = name.lower()\n",
    "    if nm.endswith(\"_1d.parquet\"):\n",
    "        base = nm[:-len(\"_1d.parquet\")]\n",
    "        return base.replace('_sa','').replace('_','').upper()  # heurística simples\n",
    "    return None\n",
    "\n",
    "def infer_provider_from_name(name: str) -> str | None:\n",
    "    nm = name.lower()\n",
    "    if any(k in nm for k in [\"_bvsp\",\"_gspc\",\"_vix\",\"dx-y\",\"_tnx\",\"bz=f\",\"ewz\"]):\n",
    "        return \"yahoo\"\n",
    "    return \"investing\"\n",
    "\n",
    "REQ_COLS = [\"ticker\",\"date\",\"open\",\"high\",\"low\",\"close\",\"volume\"]\n",
    "\n",
    "def normalize_basic(df: pd.DataFrame) -> pd.DataFrame:\n",
    "    # renomear padrões conhecidos\n",
    "    ren = {\"Date\":\"date\",\"Open\":\"open\",\"High\":\"high\",\"Low\":\"low\",\"Close\":\"close\",\"Adj Close\":\"adj_close\",\"Volume\":\"volume\"}\n",
    "    df = df.rename(columns=ren)\n",
    "    # garantir date como string YYYY-MM-DD sem tz (extraída de datetime_sp se existir)\n",
    "    if \"date\" not in df.columns and \"datetime_sp\" in df.columns:\n",
    "        s = pd.to_datetime(df[\"datetime_sp\"])\n",
    "        df[\"date\"] = s.dt.tz_convert(TZ_SP).dt.date.astype(str) if s.dt.tz is not None else s.dt.date.astype(str)\n",
    "    elif \"date\" in df.columns:\n",
    "        s = pd.to_datetime(df[\"date\"], errors=\"coerce\")\n",
    "        if getattr(s.dtype, \"tz\", None) is not None:\n",
    "            s = s.dt.tz_convert(TZ_SP)\n",
    "        df[\"date\"] = s.dt.date.astype(str)\n",
    "    # colunas mínimas\n",
    "    for c in REQ_COLS:\n",
    "        if c not in df.columns:\n",
    "            df[c] = pd.NA\n",
    "    # tipos numéricos\n",
    "    for c in [\"open\",\"high\",\"low\",\"close\"]:\n",
    "        df[c] = pd.to_numeric(df[c], errors=\"coerce\")\n",
    "    df[\"volume\"] = pd.to_numeric(df[\"volume\"], errors=\"coerce\")\n",
    "    # cutoff\n",
    "    df = df[df[\"date\"] <= CUTOFF_SP.strftime('%Y-%m-%d')]\n",
    "    return df\n",
    "\n",
    "def scan_and_validate(paths: list[Path]) -> tuple[pd.DataFrame, list[str]]:\n",
    "    rows = []\n",
    "    anoms: list[str] = []\n",
    "    for p in tqdm(paths, desc=\"Inventário\"):\n",
    "        try:\n",
    "            df = pd.read_parquet(p)\n",
    "            dfn = normalize_basic(df.copy())\n",
    "            cols = list(dfn.columns)\n",
    "            miss = [c for c in REQ_COLS if c not in dfn.columns]\n",
    "            # duplicatas\n",
    "            dups = pd.DataFrame()\n",
    "            if all(c in dfn.columns for c in [\"ticker\",\"date\"]):\n",
    "                dups = dfn.duplicated(subset=[\"ticker\",\"date\"], keep=False)\n",
    "            dup_count = int(dups.sum()) if hasattr(dups, 'sum') else 0\n",
    "            # datas futuras (após cutoff) já removidas; relatar se havia\n",
    "            fut_count = int((pd.to_datetime(df.get(\"date\", []), errors='coerce').dt.date > CUTOFF_SP).sum()) if \"date\" in df.columns else 0\n",
    "            rows.append({\n",
    "                \"arquivo\": p.name,\n",
    "                \"path\": str(p),\n",
    "                \"ticker_inferido\": infer_ticker_from_name(p.name),\n",
    "                \"provider_inferido\": infer_provider_from_name(p.name),\n",
    "                \"linhas\": int(dfn.shape[0]),\n",
    "                \"date_min\": str(pd.to_datetime(dfn[\"date\"]).min().date()) if not dfn.empty else None,\n",
    "                \"date_max\": str(pd.to_datetime(dfn[\"date\"]).max().date()) if not dfn.empty else None,\n",
    "                \"colunas\": cols,\n",
    "                \"miss_cols\": miss,\n",
    "                \"dup_count\": dup_count,\n",
    "                \"had_future_dates\": fut_count,\n",
    "            })\n",
    "            if miss:\n",
    "                anoms.append(f\"[MISS] {p.name} faltando {miss}\")\n",
    "            if dup_count > 0:\n",
    "                anoms.append(f\"[DUP] {p.name} duplicatas={dup_count}\")\n",
    "            if fut_count > 0:\n",
    "                anoms.append(f\"[FUTURE] {p.name} datas_futuras={fut_count}\")\n",
    "        except Exception as e:\n",
    "            anoms.append(f\"[ERRO] {p.name}: {e}\")\n",
    "    inv = pd.DataFrame(rows)\n",
    "    return inv, anoms\n",
    "\n",
    "paths = pick_sources()\n",
    "if not paths:\n",
    "    print(\"Nenhum arquivo para inventariar.\")\n",
    "else:\n",
    "    inv, anoms = scan_and_validate(paths)\n",
    "    print(\"Resumo:\")\n",
    "    print(\" - Arquivos:\", len(inv))\n",
    "    print(\" - Linhas totais:\", int(inv[\"linhas\"].sum()) if not inv.empty else 0)\n",
    "    print(\" - Data global:\", inv[\"date_min\"].min(), \"->\", inv[\"date_max\"].max())\n",
    "    display(inv.head(20))\n",
    "    if anoms:\n",
    "        print(\"Anomalias:\")\n",
    "        for a in anoms[:200]:\n",
    "            print(\" \", a)\n",
    "    else:\n",
    "        print(\"Sem anomalias encontradas.\")\n",
    "print(\"\\n[INFO] Etapa 2 pronta. Posso executar agora?\")"
   ]
  },
  {
   "cell_type": "markdown",
   "id": "e68fa0d4",
   "metadata": {},
   "source": [
    "## Etapa 3 — Dimensões e mapeamentos (pedir autorização antes de executar)\n",
    "\n",
    "> Objetivo: derivar catálogos a partir do inventário (Etapa 2).\n",
    "- dim_asset: uma linha por série com atributos: ticker, provider, asset_class (B3_EQUITY, US_INDEX, ETF, DOLLAR, OIL, RATE, VOL), exchange (B3, US), source_file\n",
    "- mappings/YAHOO_TO_INVESTING.json: mapeamento de símbolos equivalentes (e.g., \"ABEV3.SA\" ↔ \"ABEV3\"), usado em reconciliação.\n",
    "- Saídas:\n",
    "  - `02_curado/catalogos/dim_asset.csv`\n",
    "  - `02_curado/mappings/YAHOO_TO_INVESTING.json`\n",
    "\n",
    "> Após inserir a célula de código, peça autorização para executar."
   ]
  },
  {
   "cell_type": "code",
   "execution_count": 12,
   "id": "2b8abb42",
   "metadata": {},
   "outputs": [
    {
     "name": "stdout",
     "output_type": "stream",
     "text": [
      "dim_asset salvo em: G:\\Drives compartilhados\\BOLSA_2026\\a_bolsa2026_gemini\\02_curado\\catalogos\\dim_asset.csv\n",
      "linhas: 31\n",
      "Mapping salvo em: G:\\Drives compartilhados\\BOLSA_2026\\a_bolsa2026_gemini\\02_curado\\mappings\\YAHOO_TO_INVESTING.json\n",
      "pares: 0\n",
      "\n",
      "[INFO] Etapa 3 pronta para execução. Autoriza rodar esta célula?\n"
     ]
    }
   ],
   "source": [
    "# Etapa 3 — Geração de dim_asset e mappings\n",
    "from pathlib import Path\n",
    "import pandas as pd\n",
    "import json\n",
    "\n",
    "ROOT = r\"G:\\Drives compartilhados\\BOLSA_2026\\a_bolsa2026_gemini\"\n",
    "DIR_CURADO = ROOT + r\"\\02_curado\"\n",
    "CAT_DIR = Path(DIR_CURADO) / \"catalogos\"\n",
    "MAP_DIR = Path(DIR_CURADO) / \"mappings\"\n",
    "CAT_DIR.mkdir(parents=True, exist_ok=True)\n",
    "MAP_DIR.mkdir(parents=True, exist_ok=True)\n",
    "\n",
    "# Pré-requisito: variável 'inv' na memória a partir da Etapa 2 (tabela-resumo).\n",
    "if 'inv' not in globals() or inv is None or inv.empty:\n",
    "    raise RuntimeError(\"Inventário (Etapa 2) não encontrado em memória. Execute a Etapa 2 antes.\")\n",
    "\n",
    "def classify(row: pd.Series) -> tuple[str, str]:\n",
    "    name = (row.get('arquivo') or '').lower()\n",
    "    tk = (row.get('ticker_inferido') or '').upper()\n",
    "    # Heurísticas simples por padrão de nome\n",
    "    if any(k in name for k in ['_bvsp','_gspc']):\n",
    "        return 'US_INDEX', 'US'\n",
    "    if 'ewz' in name:\n",
    "        return 'ETF', 'US'\n",
    "    if 'dx-y' in name:\n",
    "        return 'DOLLAR', 'US'\n",
    "    if 'bz=f' in name:\n",
    "        return 'OIL', 'US'\n",
    "    if '_tnx' in name:\n",
    "        return 'RATE', 'US'\n",
    "    if '_vix' in name:\n",
    "        return 'VOL', 'US'\n",
    "    # default: ações B3\n",
    "    return 'B3_EQUITY', 'B3'\n",
    "\n",
    "def to_investing(yahoo_ticker: str) -> str | None:\n",
    "    if not yahoo_ticker:\n",
    "        return None\n",
    "    s = yahoo_ticker.upper()\n",
    "    if s.endswith('.SA'):\n",
    "        return s.replace('.SA','')\n",
    "    return None\n",
    "\n",
    "df_dim = inv[['arquivo','path','ticker_inferido','provider_inferido','date_min','date_max','linhas']].copy()\n",
    "df_dim['asset_class'], df_dim['exchange'] = zip(*df_dim.apply(classify, axis=1))\n",
    "df_dim.rename(columns={'ticker_inferido':'ticker','provider_inferido':'provider','arquivo':'source_file'}, inplace=True)\n",
    "df_dim.sort_values(['exchange','asset_class','ticker'], inplace=True, na_position='last')\n",
    "\n",
    "out_dim = CAT_DIR / 'dim_asset.csv'\n",
    "df_dim.to_csv(out_dim, index=False)\n",
    "print('dim_asset salvo em:', out_dim)\n",
    "print('linhas:', len(df_dim))\n",
    "\n",
    "# Mapeamento Yahoo -> Investing (somente B3 equities com sufixo .SA)\n",
    "yahoo_b3 = df_dim[df_dim['exchange']=='B3']['ticker'].dropna().unique().tolist()\n",
    "mapping = {k: to_investing(k) for k in yahoo_b3}\n",
    "mapping = {k:v for k,v in mapping.items() if v}\n",
    "out_map = MAP_DIR / 'YAHOO_TO_INVESTING.json'\n",
    "with open(out_map, 'w', encoding='utf-8') as f:\n",
    "    json.dump(mapping, f, ensure_ascii=False, indent=2)\n",
    "print('Mapping salvo em:', out_map)\n",
    "print('pares:', len(mapping))\n",
    "\n",
    "print(\"\\n[INFO] Etapa 3 pronta para execução. Autoriza rodar esta célula?\")"
   ]
  },
  {
   "cell_type": "markdown",
   "id": "0b84e02e",
   "metadata": {},
   "source": [
    "## Etapa 4 — Calendário por exchange (pedir autorização antes de executar)\n",
    "\n",
    "> Objetivo: gerar calendários mínimos (business days) por exchange para validação e backfill.\n",
    "- Exchanges: B3 (America/Sao_Paulo), US (America/New_York)\n",
    "- Campos: exchange, date\n",
    "- Saída:\n",
    "  - `02_curado/catalogos/dim_calendar_b3.csv`\n",
    "  - `02_curado/catalogos/dim_calendar_us.csv`\n",
    "\n",
    "> Observação: versão inicial sem feriados; após validação, podemos incorporar feriados oficiais.\n",
    "\n",
    "> Após inserir a célula de código, peça autorização para executar."
   ]
  },
  {
   "cell_type": "code",
   "execution_count": 13,
   "id": "e4efe1dd",
   "metadata": {},
   "outputs": [
    {
     "name": "stdout",
     "output_type": "stream",
     "text": [
      "Calendários salvos:\n",
      " - G:\\Drives compartilhados\\BOLSA_2026\\a_bolsa2026_gemini\\02_curado\\catalogos\\dim_calendar_b3.csv\n",
      " - G:\\Drives compartilhados\\BOLSA_2026\\a_bolsa2026_gemini\\02_curado\\catalogos\\dim_calendar_us.csv\n",
      "\n",
      "[INFO] Etapa 4 pronta para execução. Autoriza rodar esta célula?\n"
     ]
    }
   ],
   "source": [
    "# Etapa 4 — Geração de calendários mínimos (BD)\n",
    "from pathlib import Path\n",
    "import pandas as pd\n",
    "from datetime import datetime\n",
    "from zoneinfo import ZoneInfo\n",
    "\n",
    "ROOT = r\"G:\\Drives compartilhados\\BOLSA_2026\\a_bolsa2026_gemini\"\n",
    "DIR_CURADO = ROOT + r\"\\02_curado\"\n",
    "CAT_DIR = Path(DIR_CURADO) / \"catalogos\"\n",
    "CAT_DIR.mkdir(parents=True, exist_ok=True)\n",
    "\n",
    "# Usar os limites globais do inventário da Etapa 2 (ou defaults)\n",
    "if 'inv' in globals() and not inv.empty:\n",
    "    dmin = pd.to_datetime(inv['date_min']).min()\n",
    "    dmax = pd.to_datetime(inv['date_max']).max()\n",
    "else:\n",
    "    dmin = pd.Timestamp('2012-01-01')\n",
    "    dmax = pd.Timestamp(datetime.now().date())\n",
    "\n",
    "def business_days(start: pd.Timestamp, end: pd.Timestamp) -> pd.DatetimeIndex:\n",
    "    # Úteis simples (segunda a sexta) sem feriados por enquanto\n",
    "    return pd.bdate_range(start=start, end=end, freq='C')\n",
    "\n",
    "cal_b3 = pd.DataFrame({'exchange':'B3','date': business_days(dmin, dmax).date})\n",
    "cal_us = pd.DataFrame({'exchange':'US','date': business_days(dmin, dmax).date})\n",
    "\n",
    "p_b3 = CAT_DIR / 'dim_calendar_b3.csv'\n",
    "p_us = CAT_DIR / 'dim_calendar_us.csv'\n",
    "cal_b3.to_csv(p_b3, index=False)\n",
    "cal_us.to_csv(p_us, index=False)\n",
    "print('Calendários salvos:')\n",
    "print(' -', p_b3)\n",
    "print(' -', p_us)\n",
    "\n",
    "print(\"\\n[INFO] Etapa 4 pronta para execução. Autoriza rodar esta célula?\")"
   ]
  },
  {
   "cell_type": "markdown",
   "id": "14443815",
   "metadata": {},
   "source": [
    "## Etapa 5 — Staging + DQ (pedir autorização antes de executar)\n",
    "\n",
    "> Objetivo: consolidar dados limpos para staging, aplicar schema fix + cutoff + dedupe, validar contra calendário (B3/US) e persistir um staging único.\n",
    "- Entrada: inventário (Etapa 2), catálogos (Etapas 3 e 4)\n",
    "- Regras:\n",
    "  - Colunas: ticker, date, open, high, low, close, volume, datetime_sp\n",
    "  - Cutoff: ontem (São Paulo)\n",
    "  - Unicidade: (ticker, date, interval='1d')\n",
    "  - Calendário: descartar datas fora do calendário da exchange\n",
    "- Saída:\n",
    "  - `02_curado/artifacts/staging_ohlcv_1d.parquet` (PyArrow, Snappy)\n",
    "\n",
    "> Após inserir a célula de código, peça autorização para executar."
   ]
  },
  {
   "cell_type": "code",
   "execution_count": 14,
   "id": "dde0ca8a",
   "metadata": {},
   "outputs": [
    {
     "name": "stdout",
     "output_type": "stream",
     "text": [
      "Staging salvo em: G:\\Drives compartilhados\\BOLSA_2026\\a_bolsa2026_gemini\\02_curado\\artifacts\\staging_ohlcv_1d.parquet\n",
      "linhas: 101298 tickers: 31\n",
      "\n",
      "[INFO] Etapa 5 pronta para execução. Autoriza rodar esta célula?\n"
     ]
    }
   ],
   "source": [
    "# Etapa 5 — Staging + DQ (gera staging_ohlcv_1d.parquet)\n",
    "from pathlib import Path\n",
    "from datetime import datetime, timedelta\n",
    "import pandas as pd\n",
    "import pyarrow as pa\n",
    "import pyarrow.parquet as pq\n",
    "from zoneinfo import ZoneInfo\n",
    "\n",
    "ROOT = r\"G:\\Drives compartilhados\\BOLSA_2026\\a_bolsa2026_gemini\"\n",
    "DIR_CURADO = ROOT + r\"\\02_curado\"\n",
    "ART_DIR = Path(DIR_CURADO) / \"artifacts\"\n",
    "CAT_DIR = Path(DIR_CURADO) / \"catalogos\"\n",
    "ART_DIR.mkdir(parents=True, exist_ok=True)\n",
    "\n",
    "TZ_SP = ZoneInfo(\"America/Sao_Paulo\")\n",
    "CUTOFF_SP = (datetime.now(TZ_SP).date() - timedelta(days=1))\n",
    "REQ_COLS = [\"ticker\",\"date\",\"open\",\"high\",\"low\",\"close\",\"volume\",\"datetime_sp\"]\n",
    "\n",
    "# Pré-requisitos: inv (Etapa 2), dim_asset (Etapa 3), calendars (Etapa 4)\n",
    "if 'inv' not in globals() or inv is None or inv.empty:\n",
    "    raise RuntimeError(\"Inventário (Etapa 2) ausente. Execute a Etapa 2.\")\n",
    "\n",
    "dim_asset = pd.read_csv(CAT_DIR / 'dim_asset.csv')\n",
    "cal_b3 = pd.read_csv(CAT_DIR / 'dim_calendar_b3.csv') if (CAT_DIR / 'dim_calendar_b3.csv').exists() else pd.DataFrame()\n",
    "cal_us = pd.read_csv(CAT_DIR / 'dim_calendar_us.csv') if (CAT_DIR / 'dim_calendar_us.csv').exists() else pd.DataFrame()\n",
    "\n",
    "# Monta set de datas válidas por exchange\n",
    "val_b3 = set(pd.to_datetime(cal_b3['date']).dt.date) if not cal_b3.empty else None\n",
    "val_us = set(pd.to_datetime(cal_us['date']).dt.date) if not cal_us.empty else None\n",
    "\n",
    "def normalize_file(path: str) -> pd.DataFrame:\n",
    "    df = pd.read_parquet(path)\n",
    "    # renomear padrões\n",
    "    ren = {\"Date\":\"date\",\"Open\":\"open\",\"High\":\"high\",\"Low\":\"low\",\"Close\":\"close\",\"Adj Close\":\"adj_close\",\"Volume\":\"volume\"}\n",
    "    df = df.rename(columns=ren)\n",
    "    # datetime_sp\n",
    "    if 'datetime_sp' in df.columns:\n",
    "        s = pd.to_datetime(df['datetime_sp'], errors='coerce')\n",
    "        if getattr(s.dtype, 'tz', None) is None:\n",
    "            s = s.dt.tz_localize(TZ_SP)\n",
    "        else:\n",
    "            s = s.dt.tz_convert(TZ_SP)\n",
    "    else:\n",
    "        # derive from 'date' or index\n",
    "        s0 = pd.to_datetime(df.get('date', df.index), errors='coerce')\n",
    "        s = s0.dt.tz_localize(TZ_SP) if getattr(s0.dtype, 'tz', None) is None else s0.dt.tz_convert(TZ_SP)\n",
    "    df['datetime_sp'] = s\n",
    "    # date como string\n",
    "    df['date'] = pd.to_datetime(df.get('date', s), errors='coerce')\n",
    "    if getattr(df['date'].dtype, 'tz', None) is not None:\n",
    "        df['date'] = df['date'].dt.tz_convert(TZ_SP)\n",
    "    df['date'] = df['date'].dt.date.astype(str)\n",
    "    # completar colunas mínimas\n",
    "    for c in REQ_COLS:\n",
    "        if c not in df.columns:\n",
    "            df[c] = pd.NA\n",
    "    # numéricos\n",
    "    for c in [\"open\",\"high\",\"low\",\"close\",\"volume\"]:\n",
    "        df[c] = pd.to_numeric(df[c], errors='coerce')\n",
    "    # cutoff\n",
    "    df = df[df['date'] <= CUTOFF_SP.strftime('%Y-%m-%d')]\n",
    "    return df[REQ_COLS]\n",
    "\n",
    "# Carrega e empilha todos os arquivos do inventário\n",
    "dfs = []\n",
    "for _, row in inv.iterrows():\n",
    "    p = row['path']\n",
    "    try:\n",
    "        d = normalize_file(p)\n",
    "        # ticker do arquivo se ausente\n",
    "        if d['ticker'].isna().any() or (d['ticker'] == '').any():\n",
    "            tkinf = row.get('ticker_inferido')\n",
    "            if tkinf:\n",
    "                d['ticker'] = tkinf\n",
    "        dfs.append(d)\n",
    "    except Exception as e:\n",
    "        print('[WARN] Falha ao normalizar', p, '-', e)\n",
    "\n",
    "stg = pd.concat(dfs, ignore_index=True) if dfs else pd.DataFrame(columns=REQ_COLS)\n",
    "\n",
    "# Anexa exchange via dim_asset\n",
    "stg['ticker'] = stg['ticker'].astype(str)\n",
    "dim_sel = dim_asset[['ticker','exchange']].drop_duplicates()\n",
    "stg = stg.merge(dim_sel, on='ticker', how='left')\n",
    "\n",
    "# Filtra por calendário (se disponível)\n",
    "def in_cal(row) -> bool:\n",
    "    d = pd.to_datetime(row['date']).date()\n",
    "    ex = row.get('exchange') or 'B3'\n",
    "    if ex == 'B3' and val_b3 is not None:\n",
    "        return d in val_b3\n",
    "    if ex == 'US' and val_us is not None:\n",
    "        return d in val_us\n",
    "    return True\n",
    "\n",
    "stg = stg[stg.apply(in_cal, axis=1)]\n",
    "\n",
    "# Unicidade\n",
    "stg.drop_duplicates(subset=['ticker','date'], inplace=True)\n",
    "stg.sort_values(['ticker','date'], inplace=True)\n",
    "\n",
    "# Persistir staging parquet\n",
    "out_path = ART_DIR / 'staging_ohlcv_1d.parquet'\n",
    "table = pa.Table.from_pandas(stg)\n",
    "pq.write_table(table, out_path, compression='snappy')\n",
    "print('Staging salvo em:', out_path)\n",
    "print('linhas:', len(stg), 'tickers:', stg['ticker'].nunique())\n",
    "\n",
    "print(\"\\n[INFO] Etapa 5 pronta para execução. Autoriza rodar esta célula?\")"
   ]
  },
  {
   "cell_type": "markdown",
   "id": "67f87356",
   "metadata": {},
   "source": [
    "## Etapa 6 — Write Silver particionado + MinIO (pedir autorização antes de executar)\n",
    "\n",
    "> Objetivo: materializar a camada Silver em Parquet particionado por asset_class/ticker/ano com compressão Snappy e, opcionalmente, sincronizar para MinIO.\n",
    "- Entrada: `artifacts/staging_ohlcv_1d.parquet` + `dim_asset.csv`\n",
    "- Layout local: `02_curado/silver/ohlcv_1d/asset_class=<...>/ticker=<...>/year=<YYYY>/part-*.parquet`\n",
    "- Sincronização MinIO (opcional nesta etapa): copiar a mesma árvore sob um bucket (ex.: `silver`) em `02_curado/minio_data` como staging para upload.\n",
    "\n",
    "> Após inserir a célula de código, peça autorização para executar."
   ]
  },
  {
   "cell_type": "code",
   "execution_count": null,
   "id": "093e97ea",
   "metadata": {},
   "outputs": [
    {
     "name": "stdout",
     "output_type": "stream",
     "text": [
      "Silver escrito em G:\\Drives compartilhados\\BOLSA_2026\\a_bolsa2026_gemini\\02_curado\\silver\\ohlcv_1d\n",
      "linhas gravadas: 0\n",
      "Cópia para MinIO staging concluída em G:\\Drives compartilhados\\BOLSA_2026\\a_bolsa2026_gemini\\02_curado\\minio_data\\silver\\ohlcv_1d\n",
      "\n",
      "[INFO] Etapa 6 pronta para execução. Autoriza rodar esta célula?\n"
     ]
    }
   ],
   "source": [
    "# Etapa 6 — Materialização Silver particionada e cópia para MinIO staging\n",
    "from pathlib import Path\n",
    "import pandas as pd\n",
    "import pyarrow as pa\n",
    "import pyarrow.parquet as pq\n",
    "import shutil\n",
    "\n",
    "ROOT = r\"G:\\Drives compartilhados\\BOLSA_2026\\a_bolsa2026_gemini\"\n",
    "DIR_CURADO = ROOT + r\"\\02_curado\"\n",
    "SILVER_DIR = Path(DIR_CURADO) / \"silver\" / \"ohlcv_1d\"\n",
    "MINIO_STAGE = Path(DIR_CURADO) / \"minio_data\" / \"silver\" / \"ohlcv_1d\"\n",
    "ART_DIR = Path(DIR_CURADO) / \"artifacts\"\n",
    "CAT_DIR = Path(DIR_CURADO) / \"catalogos\"\n",
    "SILVER_DIR.mkdir(parents=True, exist_ok=True)\n",
    "MINIO_STAGE.mkdir(parents=True, exist_ok=True)\n",
    "\n",
    "stg_path = ART_DIR / 'staging_ohlcv_1d.parquet'\n",
    "if not stg_path.exists():\n",
    "    raise FileNotFoundError(\"Staging não encontrado. Execute a Etapa 5.\")\n",
    "stg = pd.read_parquet(stg_path)\n",
    "dim_asset = pd.read_csv(CAT_DIR / 'dim_asset.csv')\n",
    "\n",
    "# Harmonização de ticker para merge confiável com dim_asset\n",
    "def canon(t: str) -> str:\n",
    "    if t is None or (isinstance(t, float) and pd.isna(t)):\n",
    "        return ''\n",
    "    s = str(t).upper()\n",
    "    # Remover sufixo .SA (B3)\n",
    "    if s.endswith('.SA'):\n",
    "        s = s[:-3]\n",
    "    # Remover caracteres não alfanuméricos\n",
    "    s = ''.join(ch for ch in s if ch.isalnum())\n",
    "    return s\n",
    "\n",
    "stg['ticker_canon'] = stg['ticker'].apply(canon)\n",
    "dim_asset2 = dim_asset.copy()\n",
    "dim_asset2['ticker_canon'] = dim_asset2['ticker'].apply(canon)\n",
    "dim_sel = dim_asset2[['ticker_canon','asset_class']].drop_duplicates()\n",
    "stg = stg.merge(dim_sel, on='ticker_canon', how='left')\n",
    "\n",
    "# Se ainda faltar classe, inferir minimamente para B3 por sufixo .SA\n",
    "stg['asset_class'] = stg['asset_class'].mask(stg['asset_class'].isna() & stg['ticker'].str.upper().str.endswith('.SA'), 'B3_EQUITY')\n",
    "\n",
    "stg['year'] = pd.to_datetime(stg['date']).dt.year\n",
    "\n",
    "# Gravação particionada por asset_class/ticker/year\n",
    "n_written = 0\n",
    "parts = 0\n",
    "for (ac, tk, yr), dfp in stg.groupby(['asset_class','ticker','year']):\n",
    "    if pd.isna(ac) or pd.isna(tk) or pd.isna(yr):\n",
    "        continue\n",
    "    out_dir = SILVER_DIR / f\"asset_class={ac}\" / f\"ticker={tk}\" / f\"year={int(yr)}\"\n",
    "    out_dir.mkdir(parents=True, exist_ok=True)\n",
    "    part_path = out_dir / f\"part-{int(yr)}.parquet\"\n",
    "    table = pa.Table.from_pandas(dfp, preserve_index=False)\n",
    "    pq.write_table(table, part_path, compression='snappy')\n",
    "    n_written += len(dfp)\n",
    "    parts += 1\n",
    "\n",
    "print('Silver escrito em', SILVER_DIR)\n",
    "print('partições:', parts, 'linhas gravadas:', n_written)\n",
    "\n",
    "# Copiar para árvore de staging do MinIO (opcionalmente usado por cliente/minio-client)\n",
    "def copy_tree(src_root: Path, dst_root: Path):\n",
    "    for src in src_root.rglob('*'):\n",
    "        rel = src.relative_to(src_root)\n",
    "        dst = dst_root / rel\n",
    "        if src.is_dir():\n",
    "            dst.mkdir(parents=True, exist_ok=True)\n",
    "        else:\n",
    "            dst.parent.mkdir(parents=True, exist_ok=True)\n",
    "            shutil.copy2(src, dst)\n",
    "\n",
    "copy_tree(SILVER_DIR, MINIO_STAGE)\n",
    "print('Cópia para MinIO staging concluída em', MINIO_STAGE)\n",
    "\n",
    "print(\"\\n[INFO] Etapa 6 pronta para execução. Autoriza rodar esta célula?\")"
   ]
  }
 ],
 "metadata": {
  "kernelspec": {
   "display_name": ".conda",
   "language": "python",
   "name": "python3"
  },
  "language_info": {
   "codemirror_mode": {
    "name": "ipython",
    "version": 3
   },
   "file_extension": ".py",
   "mimetype": "text/x-python",
   "name": "python",
   "nbconvert_exporter": "python",
   "pygments_lexer": "ipython3",
   "version": "3.11.13"
  }
 },
 "nbformat": 4,
 "nbformat_minor": 5
}
