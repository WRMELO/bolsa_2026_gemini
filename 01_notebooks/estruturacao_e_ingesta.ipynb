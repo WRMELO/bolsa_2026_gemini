{
 "cells": [
  {
   "cell_type": "markdown",
   "id": "2b66eb30",
   "metadata": {},
   "source": [
    "# Coleta limpa: 24 B3 (.SA) + 7 indicadores (2012-01-01 ↔ 2025-09-20)\n",
    "\n",
    "- Persistência: Parquets individuais por série em `00_data/01_bruto`.\n",
    "- Janela: do mais recente (2025-09-20) até o mais antigo, cortando em 2012-01-01.\n",
    "- Fontes:\n",
    "  - Ações B3: investpy (com fallback yfinance para listagens mais recentes)\n",
    "  - Indicadores/ETF/commodities: yfinance\n"
   ]
  },
  {
   "cell_type": "code",
   "execution_count": 1,
   "id": "728561a7",
   "metadata": {},
   "outputs": [
    {
     "name": "stderr",
     "output_type": "stream",
     "text": [
      "\n",
      "[notice] A new release of pip is available: 25.0.1 -> 25.2\n",
      "[notice] To update, run: python.exe -m pip install --upgrade pip\n"
     ]
    },
    {
     "name": "stdout",
     "output_type": "stream",
     "text": [
      "Note: you may need to restart the kernel to use updated packages.\n"
     ]
    },
    {
     "name": "stderr",
     "output_type": "stream",
     "text": [
      "g:\\Drives compartilhados\\BOLSA_2026\\a_bolsa2026_gemini\\.conda\\Lib\\site-packages\\investpy\\bonds.py:10: UserWarning: pkg_resources is deprecated as an API. See https://setuptools.pypa.io/en/latest/pkg_resources.html. The pkg_resources package is slated for removal as early as 2025-11-30. Refrain from using this package or pin to Setuptools<81.\n",
      "  import pkg_resources\n"
     ]
    },
    {
     "name": "stdout",
     "output_type": "stream",
     "text": [
      "OUT_DIR = G:\\Drives compartilhados\\BOLSA_2026\\a_bolsa2026_gemini\\00_data\\01_bruto\n"
     ]
    }
   ],
   "source": [
    "# 1) Instalação e imports essenciais\n",
    "%pip install --quiet investpy==1.0.8 yfinance==0.2.58 lxml==4.9.3 html5lib==1.1 tqdm>=4.66.0 pyarrow>=14.0.0\n",
    "\n",
    "import os, time\n",
    "from pathlib import Path\n",
    "from datetime import datetime, timedelta\n",
    "import pandas as pd\n",
    "from tqdm import tqdm\n",
    "from zoneinfo import ZoneInfo\n",
    "import investpy, yfinance as yf\n",
    "\n",
    "TZ_SP = ZoneInfo(\"America/Sao_Paulo\")\n",
    "CUT_MAX = datetime(2025, 9, 20, tzinfo=TZ_SP).date()   # mais recente\n",
    "CUT_MIN = datetime(2012, 1, 1, tzinfo=TZ_SP).date()    # mais antigo\n",
    "OUT_DIR = Path(r\"G:/Drives compartilhados/BOLSA_2026/a_bolsa2026_gemini/00_data/01_bruto\")\n",
    "OUT_DIR.mkdir(parents=True, exist_ok=True)\n",
    "print(\"OUT_DIR =\", OUT_DIR)\n"
   ]
  },
  {
   "cell_type": "code",
   "execution_count": 2,
   "id": "6416bd74",
   "metadata": {},
   "outputs": [
    {
     "name": "stdout",
     "output_type": "stream",
     "text": [
      "24 B3 + 7 indicadores\n"
     ]
    }
   ],
   "source": [
    "# 2) Lista dos 24 B3 (.SA) e 7 indicadores\n",
    "TICKERS_B3 = [\n",
    "    \"ABEV3.SA\", \"B3SA3.SA\", \"BBAS3.SA\", \"CSNA3.SA\", \"CPLE6.SA\", \"ELET3.SA\", \"GGBR4.SA\",\n",
    "    \"HAPV3.SA\", \"ITUB4.SA\", \"LREN3.SA\", \"PETR4.SA\", \"PRIO3.SA\", \"PSSA3.SA\", \"RAIL3.SA\",\n",
    "    \"RDOR3.SA\", \"SBSP3.SA\", \"SUZB3.SA\", \"TAEE11.SA\", \"TIMS3.SA\", \"UGPA3.SA\", \"VALE3.SA\",\n",
    "    \"VIVT3.SA\", \"WEGE3.SA\", \"TOTS3.SA\"\n",
    "]\n",
    "INDICATORS = {\n",
    "    \"^BVSP\": \"_bvsp\",\n",
    "    \"EWZ\": \"ewz\",\n",
    "    \"^GSPC\": \"_gspc\",\n",
    "    \"^VIX\": \"_vix\",\n",
    "    \"DX-Y.NYB\": \"dx-y.nyb\",\n",
    "    \"^TNX\": \"_tnx\",\n",
    "    \"BZ=F\": \"bz=f\",\n",
    "}\n",
    "print(len(TICKERS_B3), \"B3 +\", len(INDICATORS), \"indicadores\")"
   ]
  },
  {
   "cell_type": "code",
   "execution_count": 5,
   "id": "f0f0dbb6",
   "metadata": {},
   "outputs": [],
   "source": [
    "# 3) Utilitários de datas/normalização e coletores (investpy + yfinance)\n",
    "\n",
    "def sp_date(d: datetime | str):\n",
    "    if isinstance(d, str):\n",
    "        return datetime.fromisoformat(d).date()\n",
    "    return d.date() if isinstance(d, datetime) else d\n",
    "\n",
    "def clamp_window(min_str=\"2012-01-01\", max_str=\"2025-09-20\"):\n",
    "    dmin = datetime.fromisoformat(min_str).date()\n",
    "    dmax = datetime.fromisoformat(max_str).date()\n",
    "    return dmin, dmax\n",
    "\n",
    "CUT_MIN, CUT_MAX = clamp_window(\"2012-01-01\", \"2025-09-20\")\n",
    "\n",
    "def to_investing_symbol(b3_symbol: str) -> str:\n",
    "    return b3_symbol.upper().replace('.SA','')\n",
    "\n",
    "\n",
    "def _to_dtindex_sp(values) -> pd.DatetimeIndex:\n",
    "    idx = pd.DatetimeIndex(pd.to_datetime(values))\n",
    "    if idx.tz is None:\n",
    "        idx = idx.tz_localize(TZ_SP)\n",
    "    else:\n",
    "        idx = idx.tz_convert(TZ_SP)\n",
    "    return idx\n",
    "\n",
    "\n",
    "def normalize_df(df: pd.DataFrame, ticker_label: str) -> pd.DataFrame:\n",
    "    rename = {\"Date\":\"date\",\"Open\":\"open\",\"High\":\"high\",\"Low\":\"low\",\"Close\":\"close\",\"Adj Close\":\"adj_close\",\"Volume\":\"volume\"}\n",
    "    df = df.rename(columns=rename)\n",
    "    # construir datetime_sp em TZ_SP\n",
    "    if 'date' in df.columns:\n",
    "        dt_idx = _to_dtindex_sp(df['date'])\n",
    "    elif 'Date' in df.columns:\n",
    "        dt_idx = _to_dtindex_sp(df['Date'])\n",
    "    else:\n",
    "        dt_idx = _to_dtindex_sp(df.index)\n",
    "    out = df.reset_index(drop=True)\n",
    "    ts = pd.Series(dt_idx)\n",
    "    out['datetime_sp'] = ts.values\n",
    "    out['date'] = pd.to_datetime(ts).dt.date.astype(str)\n",
    "    out['ticker'] = ticker_label\n",
    "    # recorte da janela\n",
    "    out = out[(out['date'] >= CUT_MIN.strftime('%Y-%m-%d')) & (out['date'] <= CUT_MAX.strftime('%Y-%m-%d'))]\n",
    "    # garantir colunas essenciais\n",
    "    for c in [\"open\",\"high\",\"low\",\"close\",\"volume\"]:\n",
    "        if c not in out.columns:\n",
    "            out[c] = pd.NA\n",
    "    out = out[[\"ticker\",\"date\",\"open\",\"high\",\"low\",\"close\",\"volume\",\"datetime_sp\"]]\n",
    "    out.drop_duplicates(subset=[\"ticker\",\"date\"], inplace=True)\n",
    "    return out\n",
    "\n",
    "\n",
    "def fetch_b3(b3_symbol: str) -> pd.DataFrame:\n",
    "    \"\"\"Tenta investpy; se falhar, cai para yfinance (útil para TIMS3/RDOR3).\"\"\"\n",
    "    sym = to_investing_symbol(b3_symbol)\n",
    "    f_str = CUT_MIN.strftime('%d/%m/%Y'); t_str = CUT_MAX.strftime('%d/%m/%Y')\n",
    "    try:\n",
    "        # tenta via search_quotes\n",
    "        res = investpy.search_quotes(text=sym, products=['stocks'], countries=['brazil'])\n",
    "        qlist = res if isinstance(res, list) else ([res] if res else [])\n",
    "        if qlist:\n",
    "            pick = next((q for q in qlist if getattr(q,'symbol','').upper()==sym.upper()), qlist[0])\n",
    "            df = pick.retrieve_historical_data(from_date=f_str, to_date=t_str, as_json=False, order='descending')\n",
    "            if df is not None and not df.empty:\n",
    "                return normalize_df(df, b3_symbol.upper())\n",
    "        # fallback investpy direto\n",
    "        df = investpy.get_stock_historical_data(stock=sym, country='brazil', from_date=f_str, to_date=t_str, as_json=False, order='descending')\n",
    "        if df is not None and not df.empty:\n",
    "            return normalize_df(df, b3_symbol.upper())\n",
    "    except Exception:\n",
    "        pass\n",
    "    # yfinance fallback\n",
    "    tkr = yf.Ticker(b3_symbol)\n",
    "    df = tkr.history(start=CUT_MIN.strftime('%Y-%m-%d'), end=(CUT_MAX + timedelta(days=1)).strftime('%Y-%m-%d'), interval='1d', auto_adjust=False)\n",
    "    if df is None or df.empty:\n",
    "        raise RuntimeError(f\"Sem dados para {b3_symbol}\")\n",
    "    return normalize_df(df, b3_symbol.upper())\n",
    "\n",
    "\n",
    "def fetch_indicator(yf_symbol: str, db_symbol: str) -> pd.DataFrame:\n",
    "    tkr = yf.Ticker(yf_symbol)\n",
    "    df = tkr.history(start=CUT_MIN.strftime('%Y-%m-%d'), end=(CUT_MAX + timedelta(days=1)).strftime('%Y-%m-%d'), interval='1d', auto_adjust=False)\n",
    "    if df is None or df.empty:\n",
    "        raise RuntimeError(f\"Sem dados para {yf_symbol}\")\n",
    "    return normalize_df(df, db_symbol)\n",
    "\n",
    "\n",
    "def save_parquet(df: pd.DataFrame, out_path: Path):\n",
    "    if df is None or df.empty:\n",
    "        raise ValueError(\"DF vazio.\")\n",
    "    out_path.parent.mkdir(parents=True, exist_ok=True)\n",
    "    df.to_parquet(out_path, index=False)\n",
    "    return out_path"
   ]
  },
  {
   "cell_type": "code",
   "execution_count": 6,
   "id": "bee1eb37",
   "metadata": {},
   "outputs": [
    {
     "name": "stderr",
     "output_type": "stream",
     "text": [
      "B3 .SA: 100%|██████████| 24/24 [00:15<00:00,  1.56it/s]"
     ]
    },
    {
     "name": "stdout",
     "output_type": "stream",
     "text": [
      "B3 OK: 24 Falhas: 0\n"
     ]
    },
    {
     "name": "stderr",
     "output_type": "stream",
     "text": [
      "\n"
     ]
    },
    {
     "data": {
      "text/plain": [
       "([('ABEV3.SA',\n",
       "   3409,\n",
       "   'G:\\\\Drives compartilhados\\\\BOLSA_2026\\\\a_bolsa2026_gemini\\\\00_data\\\\01_bruto\\\\abev3_sa_1d.parquet'),\n",
       "  ('B3SA3.SA',\n",
       "   3409,\n",
       "   'G:\\\\Drives compartilhados\\\\BOLSA_2026\\\\a_bolsa2026_gemini\\\\00_data\\\\01_bruto\\\\b3sa3_sa_1d.parquet'),\n",
       "  ('BBAS3.SA',\n",
       "   3409,\n",
       "   'G:\\\\Drives compartilhados\\\\BOLSA_2026\\\\a_bolsa2026_gemini\\\\00_data\\\\01_bruto\\\\bbas3_sa_1d.parquet'),\n",
       "  ('CSNA3.SA',\n",
       "   3409,\n",
       "   'G:\\\\Drives compartilhados\\\\BOLSA_2026\\\\a_bolsa2026_gemini\\\\00_data\\\\01_bruto\\\\csna3_sa_1d.parquet'),\n",
       "  ('CPLE6.SA',\n",
       "   3408,\n",
       "   'G:\\\\Drives compartilhados\\\\BOLSA_2026\\\\a_bolsa2026_gemini\\\\00_data\\\\01_bruto\\\\cple6_sa_1d.parquet')],\n",
       " [])"
      ]
     },
     "execution_count": 6,
     "metadata": {},
     "output_type": "execute_result"
    }
   ],
   "source": [
    "# 4) Coleta B3 (24 .SA) — do mais recente (20/09/2025) ao mais antigo (>= 01/01/2012)\n",
    "results = []\n",
    "errors = []\n",
    "for tk in tqdm(TICKERS_B3, desc='B3 .SA'):\n",
    "    try:\n",
    "        df = fetch_b3(tk)\n",
    "        out = OUT_DIR / f\"{tk.replace('.','_').lower()}_1d.parquet\"\n",
    "        save_parquet(df, out)\n",
    "        results.append((tk, len(df), str(out)))\n",
    "    except Exception as e:\n",
    "        errors.append((tk, str(e)))\n",
    "        time.sleep(0.5)\n",
    "\n",
    "print('B3 OK:', len(results), 'Falhas:', len(errors))\n",
    "results[:5], errors[:5]"
   ]
  },
  {
   "cell_type": "code",
   "execution_count": 7,
   "id": "d0d4a892",
   "metadata": {},
   "outputs": [
    {
     "name": "stderr",
     "output_type": "stream",
     "text": [
      "Indicadores: 100%|██████████| 7/7 [00:03<00:00,  1.95it/s]"
     ]
    },
    {
     "name": "stdout",
     "output_type": "stream",
     "text": [
      "Indicadores OK: 7 Falhas: 0\n"
     ]
    },
    {
     "name": "stderr",
     "output_type": "stream",
     "text": [
      "\n"
     ]
    },
    {
     "data": {
      "text/plain": [
       "([('^BVSP',\n",
       "   '_bvsp',\n",
       "   3400,\n",
       "   'G:\\\\Drives compartilhados\\\\BOLSA_2026\\\\a_bolsa2026_gemini\\\\00_data\\\\01_bruto\\\\_bvsp_1d.parquet'),\n",
       "  ('EWZ',\n",
       "   'ewz',\n",
       "   3449,\n",
       "   'G:\\\\Drives compartilhados\\\\BOLSA_2026\\\\a_bolsa2026_gemini\\\\00_data\\\\01_bruto\\\\ewz_1d.parquet'),\n",
       "  ('^GSPC',\n",
       "   '_gspc',\n",
       "   3449,\n",
       "   'G:\\\\Drives compartilhados\\\\BOLSA_2026\\\\a_bolsa2026_gemini\\\\00_data\\\\01_bruto\\\\_gspc_1d.parquet'),\n",
       "  ('^VIX',\n",
       "   '_vix',\n",
       "   3449,\n",
       "   'G:\\\\Drives compartilhados\\\\BOLSA_2026\\\\a_bolsa2026_gemini\\\\00_data\\\\01_bruto\\\\_vix_1d.parquet'),\n",
       "  ('DX-Y.NYB',\n",
       "   'dx-y.nyb',\n",
       "   3450,\n",
       "   'G:\\\\Drives compartilhados\\\\BOLSA_2026\\\\a_bolsa2026_gemini\\\\00_data\\\\01_bruto\\\\dx-y_nyb_1d.parquet')],\n",
       " [])"
      ]
     },
     "execution_count": 7,
     "metadata": {},
     "output_type": "execute_result"
    }
   ],
   "source": [
    "# 5) Coleta indicadores/ETF/commodities (7) via yfinance\n",
    "res_i = []\n",
    "err_i = []\n",
    "for yf_sym, db_sym in tqdm(list(INDICATORS.items()), desc='Indicadores'):\n",
    "    try:\n",
    "        df = fetch_indicator(yf_sym, db_sym)\n",
    "        out = OUT_DIR / f\"{db_sym.replace('.','_').lower()}_1d.parquet\"\n",
    "        save_parquet(df, out)\n",
    "        res_i.append((yf_sym, db_sym, len(df), str(out)))\n",
    "    except Exception as e:\n",
    "        err_i.append((yf_sym, str(e)))\n",
    "        time.sleep(0.5)\n",
    "\n",
    "print('Indicadores OK:', len(res_i), 'Falhas:', len(err_i))\n",
    "res_i[:5], err_i[:5]"
   ]
  },
  {
   "cell_type": "code",
   "execution_count": 8,
   "id": "ff13e0f3",
   "metadata": {},
   "outputs": [
    {
     "name": "stdout",
     "output_type": "stream",
     "text": [
      "=== 01_bruto ===\n",
      "[01_bruto] abev3_sa_1d.parquet -> exists=True\n",
      " path: G:\\Drives compartilhados\\BOLSA_2026\\a_bolsa2026_gemini\\00_data\\01_bruto\\abev3_sa_1d.parquet\n",
      " rows: 3414 date: 2012-01-02 -> 2025-09-26\n",
      " tz(datetime_sp): None\n",
      " columns: ['ticker', 'date', 'open', 'high', 'low', 'close', 'volume', 'datetime_sp']\n",
      " dtypes: {'ticker': 'object', 'date': 'object', 'open': 'float64', 'high': 'float64', 'low': 'float64', 'close': 'float64', 'volume': 'int64', 'datetime_sp': 'datetime64[ns]'}\n"
     ]
    },
    {
     "data": {
      "application/vnd.microsoft.datawrangler.viewer.v0+json": {
       "columns": [
        {
         "name": "index",
         "rawType": "int64",
         "type": "integer"
        },
        {
         "name": "ticker",
         "rawType": "object",
         "type": "string"
        },
        {
         "name": "date",
         "rawType": "object",
         "type": "string"
        },
        {
         "name": "open",
         "rawType": "float64",
         "type": "float"
        },
        {
         "name": "high",
         "rawType": "float64",
         "type": "float"
        },
        {
         "name": "low",
         "rawType": "float64",
         "type": "float"
        },
        {
         "name": "close",
         "rawType": "float64",
         "type": "float"
        },
        {
         "name": "volume",
         "rawType": "int64",
         "type": "integer"
        },
        {
         "name": "datetime_sp",
         "rawType": "datetime64[ns]",
         "type": "datetime"
        }
       ],
       "ref": "a7168923-5b58-49b8-a433-11bb3c0c445c",
       "rows": [
        [
         "0",
         "ABEV3.SA",
         "2012-01-02",
         "10.890462875366211",
         "10.980400085449219",
         "10.746562004089355",
         "10.872474670410156",
         "119582",
         "2012-01-02 02:00:00"
        ],
        [
         "1",
         "ABEV3.SA",
         "2012-01-03",
         "10.892460823059082",
         "10.946423530578613",
         "10.65462589263916",
         "10.748560905456543",
         "2099952",
         "2012-01-03 02:00:00"
        ]
       ],
       "shape": {
        "columns": 8,
        "rows": 2
       }
      },
      "text/html": [
       "<div>\n",
       "<style scoped>\n",
       "    .dataframe tbody tr th:only-of-type {\n",
       "        vertical-align: middle;\n",
       "    }\n",
       "\n",
       "    .dataframe tbody tr th {\n",
       "        vertical-align: top;\n",
       "    }\n",
       "\n",
       "    .dataframe thead th {\n",
       "        text-align: right;\n",
       "    }\n",
       "</style>\n",
       "<table border=\"1\" class=\"dataframe\">\n",
       "  <thead>\n",
       "    <tr style=\"text-align: right;\">\n",
       "      <th></th>\n",
       "      <th>ticker</th>\n",
       "      <th>date</th>\n",
       "      <th>open</th>\n",
       "      <th>high</th>\n",
       "      <th>low</th>\n",
       "      <th>close</th>\n",
       "      <th>volume</th>\n",
       "      <th>datetime_sp</th>\n",
       "    </tr>\n",
       "  </thead>\n",
       "  <tbody>\n",
       "    <tr>\n",
       "      <th>0</th>\n",
       "      <td>ABEV3.SA</td>\n",
       "      <td>2012-01-02</td>\n",
       "      <td>10.890463</td>\n",
       "      <td>10.980400</td>\n",
       "      <td>10.746562</td>\n",
       "      <td>10.872475</td>\n",
       "      <td>119582</td>\n",
       "      <td>2012-01-02 02:00:00</td>\n",
       "    </tr>\n",
       "    <tr>\n",
       "      <th>1</th>\n",
       "      <td>ABEV3.SA</td>\n",
       "      <td>2012-01-03</td>\n",
       "      <td>10.892461</td>\n",
       "      <td>10.946424</td>\n",
       "      <td>10.654626</td>\n",
       "      <td>10.748561</td>\n",
       "      <td>2099952</td>\n",
       "      <td>2012-01-03 02:00:00</td>\n",
       "    </tr>\n",
       "  </tbody>\n",
       "</table>\n",
       "</div>"
      ],
      "text/plain": [
       "     ticker        date       open       high        low      close   volume  \\\n",
       "0  ABEV3.SA  2012-01-02  10.890463  10.980400  10.746562  10.872475   119582   \n",
       "1  ABEV3.SA  2012-01-03  10.892461  10.946424  10.654626  10.748561  2099952   \n",
       "\n",
       "          datetime_sp  \n",
       "0 2012-01-02 02:00:00  \n",
       "1 2012-01-03 02:00:00  "
      ]
     },
     "metadata": {},
     "output_type": "display_data"
    },
    {
     "name": "stdout",
     "output_type": "stream",
     "text": [
      "\n",
      "[01_bruto] itub4_sa_1d.parquet -> exists=True\n",
      " path: G:\\Drives compartilhados\\BOLSA_2026\\a_bolsa2026_gemini\\00_data\\01_bruto\\itub4_sa_1d.parquet\n",
      " rows: 3415 date: 2012-01-02 -> 2025-09-29\n",
      " tz(datetime_sp): None\n",
      " columns: ['ticker', 'date', 'open', 'high', 'low', 'close', 'volume', 'datetime_sp']\n",
      " dtypes: {'ticker': 'object', 'date': 'object', 'open': 'float64', 'high': 'float64', 'low': 'float64', 'close': 'float64', 'volume': 'int64', 'datetime_sp': 'datetime64[ns]'}\n"
     ]
    },
    {
     "data": {
      "application/vnd.microsoft.datawrangler.viewer.v0+json": {
       "columns": [
        {
         "name": "index",
         "rawType": "int64",
         "type": "integer"
        },
        {
         "name": "ticker",
         "rawType": "object",
         "type": "string"
        },
        {
         "name": "date",
         "rawType": "object",
         "type": "string"
        },
        {
         "name": "open",
         "rawType": "float64",
         "type": "float"
        },
        {
         "name": "high",
         "rawType": "float64",
         "type": "float"
        },
        {
         "name": "low",
         "rawType": "float64",
         "type": "float"
        },
        {
         "name": "close",
         "rawType": "float64",
         "type": "float"
        },
        {
         "name": "volume",
         "rawType": "int64",
         "type": "integer"
        },
        {
         "name": "datetime_sp",
         "rawType": "datetime64[ns]",
         "type": "datetime"
        }
       ],
       "ref": "6c973700-c773-4d14-b079-df9be66059d1",
       "rows": [
        [
         "0",
         "ITUB4.SA",
         "2012-01-02",
         "14.165285110473633",
         "14.177702903747559",
         "13.867241859436035",
         "14.086634635925293",
         "8201763",
         "2012-01-02 02:00:00"
        ],
        [
         "1",
         "ITUB4.SA",
         "2012-01-03",
         "14.107332229614258",
         "14.43848991394043",
         "14.107332229614258",
         "14.43848991394043",
         "15453407",
         "2012-01-03 02:00:00"
        ]
       ],
       "shape": {
        "columns": 8,
        "rows": 2
       }
      },
      "text/html": [
       "<div>\n",
       "<style scoped>\n",
       "    .dataframe tbody tr th:only-of-type {\n",
       "        vertical-align: middle;\n",
       "    }\n",
       "\n",
       "    .dataframe tbody tr th {\n",
       "        vertical-align: top;\n",
       "    }\n",
       "\n",
       "    .dataframe thead th {\n",
       "        text-align: right;\n",
       "    }\n",
       "</style>\n",
       "<table border=\"1\" class=\"dataframe\">\n",
       "  <thead>\n",
       "    <tr style=\"text-align: right;\">\n",
       "      <th></th>\n",
       "      <th>ticker</th>\n",
       "      <th>date</th>\n",
       "      <th>open</th>\n",
       "      <th>high</th>\n",
       "      <th>low</th>\n",
       "      <th>close</th>\n",
       "      <th>volume</th>\n",
       "      <th>datetime_sp</th>\n",
       "    </tr>\n",
       "  </thead>\n",
       "  <tbody>\n",
       "    <tr>\n",
       "      <th>0</th>\n",
       "      <td>ITUB4.SA</td>\n",
       "      <td>2012-01-02</td>\n",
       "      <td>14.165285</td>\n",
       "      <td>14.177703</td>\n",
       "      <td>13.867242</td>\n",
       "      <td>14.086635</td>\n",
       "      <td>8201763</td>\n",
       "      <td>2012-01-02 02:00:00</td>\n",
       "    </tr>\n",
       "    <tr>\n",
       "      <th>1</th>\n",
       "      <td>ITUB4.SA</td>\n",
       "      <td>2012-01-03</td>\n",
       "      <td>14.107332</td>\n",
       "      <td>14.438490</td>\n",
       "      <td>14.107332</td>\n",
       "      <td>14.438490</td>\n",
       "      <td>15453407</td>\n",
       "      <td>2012-01-03 02:00:00</td>\n",
       "    </tr>\n",
       "  </tbody>\n",
       "</table>\n",
       "</div>"
      ],
      "text/plain": [
       "     ticker        date       open       high        low      close    volume  \\\n",
       "0  ITUB4.SA  2012-01-02  14.165285  14.177703  13.867242  14.086635   8201763   \n",
       "1  ITUB4.SA  2012-01-03  14.107332  14.438490  14.107332  14.438490  15453407   \n",
       "\n",
       "          datetime_sp  \n",
       "0 2012-01-02 02:00:00  \n",
       "1 2012-01-03 02:00:00  "
      ]
     },
     "metadata": {},
     "output_type": "display_data"
    },
    {
     "name": "stdout",
     "output_type": "stream",
     "text": [
      "\n",
      "[01_bruto] petr4_sa_1d.parquet -> exists=True\n",
      " path: G:\\Drives compartilhados\\BOLSA_2026\\a_bolsa2026_gemini\\00_data\\01_bruto\\petr4_sa_1d.parquet\n",
      " rows: 3415 date: 2012-01-02 -> 2025-09-29\n",
      " tz(datetime_sp): None\n",
      " columns: ['ticker', 'date', 'open', 'high', 'low', 'close', 'volume', 'datetime_sp']\n",
      " dtypes: {'ticker': 'object', 'date': 'object', 'open': 'float64', 'high': 'float64', 'low': 'float64', 'close': 'float64', 'volume': 'int64', 'datetime_sp': 'datetime64[ns]'}\n"
     ]
    },
    {
     "data": {
      "application/vnd.microsoft.datawrangler.viewer.v0+json": {
       "columns": [
        {
         "name": "index",
         "rawType": "int64",
         "type": "integer"
        },
        {
         "name": "ticker",
         "rawType": "object",
         "type": "string"
        },
        {
         "name": "date",
         "rawType": "object",
         "type": "string"
        },
        {
         "name": "open",
         "rawType": "float64",
         "type": "float"
        },
        {
         "name": "high",
         "rawType": "float64",
         "type": "float"
        },
        {
         "name": "low",
         "rawType": "float64",
         "type": "float"
        },
        {
         "name": "close",
         "rawType": "float64",
         "type": "float"
        },
        {
         "name": "volume",
         "rawType": "int64",
         "type": "integer"
        },
        {
         "name": "datetime_sp",
         "rawType": "datetime64[ns]",
         "type": "datetime"
        }
       ],
       "ref": "8f25011d-f1db-49e7-8bc3-85967928da9c",
       "rows": [
        [
         "0",
         "PETR4.SA",
         "2012-01-02",
         "21.510000228881836",
         "22.1200008392334",
         "21.260000228881836",
         "21.729999542236328",
         "20391300",
         "2012-01-02 02:00:00"
        ],
        [
         "1",
         "PETR4.SA",
         "2012-01-03",
         "21.829999923706055",
         "22.40999984741211",
         "21.809999465942383",
         "22.40999984741211",
         "22940500",
         "2012-01-03 02:00:00"
        ]
       ],
       "shape": {
        "columns": 8,
        "rows": 2
       }
      },
      "text/html": [
       "<div>\n",
       "<style scoped>\n",
       "    .dataframe tbody tr th:only-of-type {\n",
       "        vertical-align: middle;\n",
       "    }\n",
       "\n",
       "    .dataframe tbody tr th {\n",
       "        vertical-align: top;\n",
       "    }\n",
       "\n",
       "    .dataframe thead th {\n",
       "        text-align: right;\n",
       "    }\n",
       "</style>\n",
       "<table border=\"1\" class=\"dataframe\">\n",
       "  <thead>\n",
       "    <tr style=\"text-align: right;\">\n",
       "      <th></th>\n",
       "      <th>ticker</th>\n",
       "      <th>date</th>\n",
       "      <th>open</th>\n",
       "      <th>high</th>\n",
       "      <th>low</th>\n",
       "      <th>close</th>\n",
       "      <th>volume</th>\n",
       "      <th>datetime_sp</th>\n",
       "    </tr>\n",
       "  </thead>\n",
       "  <tbody>\n",
       "    <tr>\n",
       "      <th>0</th>\n",
       "      <td>PETR4.SA</td>\n",
       "      <td>2012-01-02</td>\n",
       "      <td>21.51</td>\n",
       "      <td>22.120001</td>\n",
       "      <td>21.260000</td>\n",
       "      <td>21.73</td>\n",
       "      <td>20391300</td>\n",
       "      <td>2012-01-02 02:00:00</td>\n",
       "    </tr>\n",
       "    <tr>\n",
       "      <th>1</th>\n",
       "      <td>PETR4.SA</td>\n",
       "      <td>2012-01-03</td>\n",
       "      <td>21.83</td>\n",
       "      <td>22.410000</td>\n",
       "      <td>21.809999</td>\n",
       "      <td>22.41</td>\n",
       "      <td>22940500</td>\n",
       "      <td>2012-01-03 02:00:00</td>\n",
       "    </tr>\n",
       "  </tbody>\n",
       "</table>\n",
       "</div>"
      ],
      "text/plain": [
       "     ticker        date   open       high        low  close    volume  \\\n",
       "0  PETR4.SA  2012-01-02  21.51  22.120001  21.260000  21.73  20391300   \n",
       "1  PETR4.SA  2012-01-03  21.83  22.410000  21.809999  22.41  22940500   \n",
       "\n",
       "          datetime_sp  \n",
       "0 2012-01-02 02:00:00  \n",
       "1 2012-01-03 02:00:00  "
      ]
     },
     "metadata": {},
     "output_type": "display_data"
    },
    {
     "name": "stdout",
     "output_type": "stream",
     "text": [
      "\n",
      "[01_bruto] _bvsp_1d.parquet -> exists=True\n",
      " path: G:\\Drives compartilhados\\BOLSA_2026\\a_bolsa2026_gemini\\00_data\\01_bruto\\_bvsp_1d.parquet\n",
      " rows: 3407 date: 2012-01-03 -> 2025-09-30\n",
      " tz(datetime_sp): None\n",
      " columns: ['ticker', 'date', 'open', 'high', 'low', 'close', 'volume', 'datetime_sp']\n",
      " dtypes: {'ticker': 'object', 'date': 'object', 'open': 'float64', 'high': 'float64', 'low': 'float64', 'close': 'float64', 'volume': 'int64', 'datetime_sp': 'datetime64[ns]'}\n"
     ]
    },
    {
     "data": {
      "application/vnd.microsoft.datawrangler.viewer.v0+json": {
       "columns": [
        {
         "name": "index",
         "rawType": "int64",
         "type": "integer"
        },
        {
         "name": "ticker",
         "rawType": "object",
         "type": "string"
        },
        {
         "name": "date",
         "rawType": "object",
         "type": "string"
        },
        {
         "name": "open",
         "rawType": "float64",
         "type": "float"
        },
        {
         "name": "high",
         "rawType": "float64",
         "type": "float"
        },
        {
         "name": "low",
         "rawType": "float64",
         "type": "float"
        },
        {
         "name": "close",
         "rawType": "float64",
         "type": "float"
        },
        {
         "name": "volume",
         "rawType": "int64",
         "type": "integer"
        },
        {
         "name": "datetime_sp",
         "rawType": "datetime64[ns]",
         "type": "datetime"
        }
       ],
       "ref": "1037b902-5c63-4688-9f39-225ef9581908",
       "rows": [
        [
         "0",
         "_bvsp",
         "2012-01-03",
         "57836.0",
         "59288.0",
         "57836.0",
         "59265.0",
         "3083000",
         "2012-01-03 02:00:00"
        ],
        [
         "1",
         "_bvsp",
         "2012-01-04",
         "59263.0",
         "59519.0",
         "58558.0",
         "59365.0",
         "2252000",
         "2012-01-04 02:00:00"
        ]
       ],
       "shape": {
        "columns": 8,
        "rows": 2
       }
      },
      "text/html": [
       "<div>\n",
       "<style scoped>\n",
       "    .dataframe tbody tr th:only-of-type {\n",
       "        vertical-align: middle;\n",
       "    }\n",
       "\n",
       "    .dataframe tbody tr th {\n",
       "        vertical-align: top;\n",
       "    }\n",
       "\n",
       "    .dataframe thead th {\n",
       "        text-align: right;\n",
       "    }\n",
       "</style>\n",
       "<table border=\"1\" class=\"dataframe\">\n",
       "  <thead>\n",
       "    <tr style=\"text-align: right;\">\n",
       "      <th></th>\n",
       "      <th>ticker</th>\n",
       "      <th>date</th>\n",
       "      <th>open</th>\n",
       "      <th>high</th>\n",
       "      <th>low</th>\n",
       "      <th>close</th>\n",
       "      <th>volume</th>\n",
       "      <th>datetime_sp</th>\n",
       "    </tr>\n",
       "  </thead>\n",
       "  <tbody>\n",
       "    <tr>\n",
       "      <th>0</th>\n",
       "      <td>_bvsp</td>\n",
       "      <td>2012-01-03</td>\n",
       "      <td>57836.0</td>\n",
       "      <td>59288.0</td>\n",
       "      <td>57836.0</td>\n",
       "      <td>59265.0</td>\n",
       "      <td>3083000</td>\n",
       "      <td>2012-01-03 02:00:00</td>\n",
       "    </tr>\n",
       "    <tr>\n",
       "      <th>1</th>\n",
       "      <td>_bvsp</td>\n",
       "      <td>2012-01-04</td>\n",
       "      <td>59263.0</td>\n",
       "      <td>59519.0</td>\n",
       "      <td>58558.0</td>\n",
       "      <td>59365.0</td>\n",
       "      <td>2252000</td>\n",
       "      <td>2012-01-04 02:00:00</td>\n",
       "    </tr>\n",
       "  </tbody>\n",
       "</table>\n",
       "</div>"
      ],
      "text/plain": [
       "  ticker        date     open     high      low    close   volume  \\\n",
       "0  _bvsp  2012-01-03  57836.0  59288.0  57836.0  59265.0  3083000   \n",
       "1  _bvsp  2012-01-04  59263.0  59519.0  58558.0  59365.0  2252000   \n",
       "\n",
       "          datetime_sp  \n",
       "0 2012-01-03 02:00:00  \n",
       "1 2012-01-04 02:00:00  "
      ]
     },
     "metadata": {},
     "output_type": "display_data"
    },
    {
     "name": "stdout",
     "output_type": "stream",
     "text": [
      "\n",
      "[01_bruto] ewz_1d.parquet -> exists=True\n",
      " path: G:\\Drives compartilhados\\BOLSA_2026\\a_bolsa2026_gemini\\00_data\\01_bruto\\ewz_1d.parquet\n",
      " rows: 3456 date: 2012-01-03 -> 2025-09-30\n",
      " tz(datetime_sp): None\n",
      " columns: ['ticker', 'date', 'open', 'high', 'low', 'close', 'volume', 'datetime_sp']\n",
      " dtypes: {'ticker': 'object', 'date': 'object', 'open': 'float64', 'high': 'float64', 'low': 'float64', 'close': 'float64', 'volume': 'int64', 'datetime_sp': 'datetime64[ns]'}\n"
     ]
    },
    {
     "data": {
      "application/vnd.microsoft.datawrangler.viewer.v0+json": {
       "columns": [
        {
         "name": "index",
         "rawType": "int64",
         "type": "integer"
        },
        {
         "name": "ticker",
         "rawType": "object",
         "type": "string"
        },
        {
         "name": "date",
         "rawType": "object",
         "type": "string"
        },
        {
         "name": "open",
         "rawType": "float64",
         "type": "float"
        },
        {
         "name": "high",
         "rawType": "float64",
         "type": "float"
        },
        {
         "name": "low",
         "rawType": "float64",
         "type": "float"
        },
        {
         "name": "close",
         "rawType": "float64",
         "type": "float"
        },
        {
         "name": "volume",
         "rawType": "int64",
         "type": "integer"
        },
        {
         "name": "datetime_sp",
         "rawType": "datetime64[ns]",
         "type": "datetime"
        }
       ],
       "ref": "34428c3b-6821-499d-aef9-9fe10125a39b",
       "rows": [
        [
         "0",
         "ewz",
         "2012-01-03",
         "59.099998474121094",
         "60.11000061035156",
         "59.060001373291016",
         "59.70000076293945",
         "20052500",
         "2012-01-03 05:00:00"
        ],
        [
         "1",
         "ewz",
         "2012-01-04",
         "59.58000183105469",
         "60.470001220703125",
         "59.560001373291016",
         "59.91999816894531",
         "11113200",
         "2012-01-04 05:00:00"
        ]
       ],
       "shape": {
        "columns": 8,
        "rows": 2
       }
      },
      "text/html": [
       "<div>\n",
       "<style scoped>\n",
       "    .dataframe tbody tr th:only-of-type {\n",
       "        vertical-align: middle;\n",
       "    }\n",
       "\n",
       "    .dataframe tbody tr th {\n",
       "        vertical-align: top;\n",
       "    }\n",
       "\n",
       "    .dataframe thead th {\n",
       "        text-align: right;\n",
       "    }\n",
       "</style>\n",
       "<table border=\"1\" class=\"dataframe\">\n",
       "  <thead>\n",
       "    <tr style=\"text-align: right;\">\n",
       "      <th></th>\n",
       "      <th>ticker</th>\n",
       "      <th>date</th>\n",
       "      <th>open</th>\n",
       "      <th>high</th>\n",
       "      <th>low</th>\n",
       "      <th>close</th>\n",
       "      <th>volume</th>\n",
       "      <th>datetime_sp</th>\n",
       "    </tr>\n",
       "  </thead>\n",
       "  <tbody>\n",
       "    <tr>\n",
       "      <th>0</th>\n",
       "      <td>ewz</td>\n",
       "      <td>2012-01-03</td>\n",
       "      <td>59.099998</td>\n",
       "      <td>60.110001</td>\n",
       "      <td>59.060001</td>\n",
       "      <td>59.700001</td>\n",
       "      <td>20052500</td>\n",
       "      <td>2012-01-03 05:00:00</td>\n",
       "    </tr>\n",
       "    <tr>\n",
       "      <th>1</th>\n",
       "      <td>ewz</td>\n",
       "      <td>2012-01-04</td>\n",
       "      <td>59.580002</td>\n",
       "      <td>60.470001</td>\n",
       "      <td>59.560001</td>\n",
       "      <td>59.919998</td>\n",
       "      <td>11113200</td>\n",
       "      <td>2012-01-04 05:00:00</td>\n",
       "    </tr>\n",
       "  </tbody>\n",
       "</table>\n",
       "</div>"
      ],
      "text/plain": [
       "  ticker        date       open       high        low      close    volume  \\\n",
       "0    ewz  2012-01-03  59.099998  60.110001  59.060001  59.700001  20052500   \n",
       "1    ewz  2012-01-04  59.580002  60.470001  59.560001  59.919998  11113200   \n",
       "\n",
       "          datetime_sp  \n",
       "0 2012-01-03 05:00:00  \n",
       "1 2012-01-04 05:00:00  "
      ]
     },
     "metadata": {},
     "output_type": "display_data"
    },
    {
     "name": "stdout",
     "output_type": "stream",
     "text": [
      "\n",
      "[01_bruto] _gspc_1d.parquet -> exists=True\n",
      " path: G:\\Drives compartilhados\\BOLSA_2026\\a_bolsa2026_gemini\\00_data\\01_bruto\\_gspc_1d.parquet\n",
      " rows: 3456 date: 2012-01-03 -> 2025-09-30\n",
      " tz(datetime_sp): None\n",
      " columns: ['ticker', 'date', 'open', 'high', 'low', 'close', 'volume', 'datetime_sp']\n",
      " dtypes: {'ticker': 'object', 'date': 'object', 'open': 'float64', 'high': 'float64', 'low': 'float64', 'close': 'float64', 'volume': 'int64', 'datetime_sp': 'datetime64[ns]'}\n"
     ]
    },
    {
     "data": {
      "application/vnd.microsoft.datawrangler.viewer.v0+json": {
       "columns": [
        {
         "name": "index",
         "rawType": "int64",
         "type": "integer"
        },
        {
         "name": "ticker",
         "rawType": "object",
         "type": "string"
        },
        {
         "name": "date",
         "rawType": "object",
         "type": "string"
        },
        {
         "name": "open",
         "rawType": "float64",
         "type": "float"
        },
        {
         "name": "high",
         "rawType": "float64",
         "type": "float"
        },
        {
         "name": "low",
         "rawType": "float64",
         "type": "float"
        },
        {
         "name": "close",
         "rawType": "float64",
         "type": "float"
        },
        {
         "name": "volume",
         "rawType": "int64",
         "type": "integer"
        },
        {
         "name": "datetime_sp",
         "rawType": "datetime64[ns]",
         "type": "datetime"
        }
       ],
       "ref": "56f99730-45fe-4a5e-aa88-e540f9c77035",
       "rows": [
        [
         "0",
         "_gspc",
         "2012-01-03",
         "1258.8599853515625",
         "1284.6199951171875",
         "1258.8599853515625",
         "1277.06005859375",
         "3943710000",
         "2012-01-03 05:00:00"
        ],
        [
         "1",
         "_gspc",
         "2012-01-04",
         "1277.030029296875",
         "1278.72998046875",
         "1268.0999755859375",
         "1277.300048828125",
         "3592580000",
         "2012-01-04 05:00:00"
        ]
       ],
       "shape": {
        "columns": 8,
        "rows": 2
       }
      },
      "text/html": [
       "<div>\n",
       "<style scoped>\n",
       "    .dataframe tbody tr th:only-of-type {\n",
       "        vertical-align: middle;\n",
       "    }\n",
       "\n",
       "    .dataframe tbody tr th {\n",
       "        vertical-align: top;\n",
       "    }\n",
       "\n",
       "    .dataframe thead th {\n",
       "        text-align: right;\n",
       "    }\n",
       "</style>\n",
       "<table border=\"1\" class=\"dataframe\">\n",
       "  <thead>\n",
       "    <tr style=\"text-align: right;\">\n",
       "      <th></th>\n",
       "      <th>ticker</th>\n",
       "      <th>date</th>\n",
       "      <th>open</th>\n",
       "      <th>high</th>\n",
       "      <th>low</th>\n",
       "      <th>close</th>\n",
       "      <th>volume</th>\n",
       "      <th>datetime_sp</th>\n",
       "    </tr>\n",
       "  </thead>\n",
       "  <tbody>\n",
       "    <tr>\n",
       "      <th>0</th>\n",
       "      <td>_gspc</td>\n",
       "      <td>2012-01-03</td>\n",
       "      <td>1258.859985</td>\n",
       "      <td>1284.619995</td>\n",
       "      <td>1258.859985</td>\n",
       "      <td>1277.060059</td>\n",
       "      <td>3943710000</td>\n",
       "      <td>2012-01-03 05:00:00</td>\n",
       "    </tr>\n",
       "    <tr>\n",
       "      <th>1</th>\n",
       "      <td>_gspc</td>\n",
       "      <td>2012-01-04</td>\n",
       "      <td>1277.030029</td>\n",
       "      <td>1278.729980</td>\n",
       "      <td>1268.099976</td>\n",
       "      <td>1277.300049</td>\n",
       "      <td>3592580000</td>\n",
       "      <td>2012-01-04 05:00:00</td>\n",
       "    </tr>\n",
       "  </tbody>\n",
       "</table>\n",
       "</div>"
      ],
      "text/plain": [
       "  ticker        date         open         high          low        close  \\\n",
       "0  _gspc  2012-01-03  1258.859985  1284.619995  1258.859985  1277.060059   \n",
       "1  _gspc  2012-01-04  1277.030029  1278.729980  1268.099976  1277.300049   \n",
       "\n",
       "       volume         datetime_sp  \n",
       "0  3943710000 2012-01-03 05:00:00  \n",
       "1  3592580000 2012-01-04 05:00:00  "
      ]
     },
     "metadata": {},
     "output_type": "display_data"
    },
    {
     "name": "stdout",
     "output_type": "stream",
     "text": [
      "\n",
      "=== 02_adequado ===\n",
      "[02_adequado] abev3_sa_1d.parquet -> exists=True\n",
      " path: G:\\Drives compartilhados\\BOLSA_2026\\a_bolsa2026_gemini\\00_data\\02_adequado\\abev3_sa_1d.parquet\n",
      " rows: 3409 date: 2012-01-02 -> 2025-09-19\n",
      " tz(datetime_sp): None\n",
      " columns: ['ticker', 'date', 'open', 'high', 'low', 'close', 'volume', 'datetime_sp']\n",
      " dtypes: {'ticker': 'object', 'date': 'object', 'open': 'float64', 'high': 'float64', 'low': 'float64', 'close': 'float64', 'volume': 'int64', 'datetime_sp': 'datetime64[ns]'}\n"
     ]
    },
    {
     "data": {
      "application/vnd.microsoft.datawrangler.viewer.v0+json": {
       "columns": [
        {
         "name": "index",
         "rawType": "int64",
         "type": "integer"
        },
        {
         "name": "ticker",
         "rawType": "object",
         "type": "string"
        },
        {
         "name": "date",
         "rawType": "object",
         "type": "string"
        },
        {
         "name": "open",
         "rawType": "float64",
         "type": "float"
        },
        {
         "name": "high",
         "rawType": "float64",
         "type": "float"
        },
        {
         "name": "low",
         "rawType": "float64",
         "type": "float"
        },
        {
         "name": "close",
         "rawType": "float64",
         "type": "float"
        },
        {
         "name": "volume",
         "rawType": "int64",
         "type": "integer"
        },
        {
         "name": "datetime_sp",
         "rawType": "datetime64[ns]",
         "type": "datetime"
        }
       ],
       "ref": "fed0e913-8fed-4cef-ac63-745117030dd9",
       "rows": [
        [
         "0",
         "ABEV3.SA",
         "2012-01-02",
         "10.890462875366211",
         "10.980400085449219",
         "10.746562004089355",
         "10.872474670410156",
         "119582",
         "2012-01-02 04:00:00"
        ],
        [
         "1",
         "ABEV3.SA",
         "2012-01-03",
         "10.892460823059082",
         "10.946423530578613",
         "10.65462589263916",
         "10.748560905456543",
         "2099952",
         "2012-01-03 04:00:00"
        ]
       ],
       "shape": {
        "columns": 8,
        "rows": 2
       }
      },
      "text/html": [
       "<div>\n",
       "<style scoped>\n",
       "    .dataframe tbody tr th:only-of-type {\n",
       "        vertical-align: middle;\n",
       "    }\n",
       "\n",
       "    .dataframe tbody tr th {\n",
       "        vertical-align: top;\n",
       "    }\n",
       "\n",
       "    .dataframe thead th {\n",
       "        text-align: right;\n",
       "    }\n",
       "</style>\n",
       "<table border=\"1\" class=\"dataframe\">\n",
       "  <thead>\n",
       "    <tr style=\"text-align: right;\">\n",
       "      <th></th>\n",
       "      <th>ticker</th>\n",
       "      <th>date</th>\n",
       "      <th>open</th>\n",
       "      <th>high</th>\n",
       "      <th>low</th>\n",
       "      <th>close</th>\n",
       "      <th>volume</th>\n",
       "      <th>datetime_sp</th>\n",
       "    </tr>\n",
       "  </thead>\n",
       "  <tbody>\n",
       "    <tr>\n",
       "      <th>0</th>\n",
       "      <td>ABEV3.SA</td>\n",
       "      <td>2012-01-02</td>\n",
       "      <td>10.890463</td>\n",
       "      <td>10.980400</td>\n",
       "      <td>10.746562</td>\n",
       "      <td>10.872475</td>\n",
       "      <td>119582</td>\n",
       "      <td>2012-01-02 04:00:00</td>\n",
       "    </tr>\n",
       "    <tr>\n",
       "      <th>1</th>\n",
       "      <td>ABEV3.SA</td>\n",
       "      <td>2012-01-03</td>\n",
       "      <td>10.892461</td>\n",
       "      <td>10.946424</td>\n",
       "      <td>10.654626</td>\n",
       "      <td>10.748561</td>\n",
       "      <td>2099952</td>\n",
       "      <td>2012-01-03 04:00:00</td>\n",
       "    </tr>\n",
       "  </tbody>\n",
       "</table>\n",
       "</div>"
      ],
      "text/plain": [
       "     ticker        date       open       high        low      close   volume  \\\n",
       "0  ABEV3.SA  2012-01-02  10.890463  10.980400  10.746562  10.872475   119582   \n",
       "1  ABEV3.SA  2012-01-03  10.892461  10.946424  10.654626  10.748561  2099952   \n",
       "\n",
       "          datetime_sp  \n",
       "0 2012-01-02 04:00:00  \n",
       "1 2012-01-03 04:00:00  "
      ]
     },
     "metadata": {},
     "output_type": "display_data"
    },
    {
     "name": "stdout",
     "output_type": "stream",
     "text": [
      "\n",
      "[02_adequado] itub4_sa_1d.parquet -> exists=True\n",
      " path: G:\\Drives compartilhados\\BOLSA_2026\\a_bolsa2026_gemini\\00_data\\02_adequado\\itub4_sa_1d.parquet\n",
      " rows: 3409 date: 2012-01-02 -> 2025-09-19\n",
      " tz(datetime_sp): None\n",
      " columns: ['ticker', 'date', 'open', 'high', 'low', 'close', 'volume', 'datetime_sp']\n",
      " dtypes: {'ticker': 'object', 'date': 'object', 'open': 'float64', 'high': 'float64', 'low': 'float64', 'close': 'float64', 'volume': 'int64', 'datetime_sp': 'datetime64[ns]'}\n"
     ]
    },
    {
     "data": {
      "application/vnd.microsoft.datawrangler.viewer.v0+json": {
       "columns": [
        {
         "name": "index",
         "rawType": "int64",
         "type": "integer"
        },
        {
         "name": "ticker",
         "rawType": "object",
         "type": "string"
        },
        {
         "name": "date",
         "rawType": "object",
         "type": "string"
        },
        {
         "name": "open",
         "rawType": "float64",
         "type": "float"
        },
        {
         "name": "high",
         "rawType": "float64",
         "type": "float"
        },
        {
         "name": "low",
         "rawType": "float64",
         "type": "float"
        },
        {
         "name": "close",
         "rawType": "float64",
         "type": "float"
        },
        {
         "name": "volume",
         "rawType": "int64",
         "type": "integer"
        },
        {
         "name": "datetime_sp",
         "rawType": "datetime64[ns]",
         "type": "datetime"
        }
       ],
       "ref": "aea2176f-aee8-4427-b18a-9bc973a07a16",
       "rows": [
        [
         "0",
         "ITUB4.SA",
         "2012-01-02",
         "14.165285110473633",
         "14.177702903747559",
         "13.867241859436035",
         "14.086634635925293",
         "8201763",
         "2012-01-02 04:00:00"
        ],
        [
         "1",
         "ITUB4.SA",
         "2012-01-03",
         "14.107332229614258",
         "14.43848991394043",
         "14.107332229614258",
         "14.43848991394043",
         "15453407",
         "2012-01-03 04:00:00"
        ]
       ],
       "shape": {
        "columns": 8,
        "rows": 2
       }
      },
      "text/html": [
       "<div>\n",
       "<style scoped>\n",
       "    .dataframe tbody tr th:only-of-type {\n",
       "        vertical-align: middle;\n",
       "    }\n",
       "\n",
       "    .dataframe tbody tr th {\n",
       "        vertical-align: top;\n",
       "    }\n",
       "\n",
       "    .dataframe thead th {\n",
       "        text-align: right;\n",
       "    }\n",
       "</style>\n",
       "<table border=\"1\" class=\"dataframe\">\n",
       "  <thead>\n",
       "    <tr style=\"text-align: right;\">\n",
       "      <th></th>\n",
       "      <th>ticker</th>\n",
       "      <th>date</th>\n",
       "      <th>open</th>\n",
       "      <th>high</th>\n",
       "      <th>low</th>\n",
       "      <th>close</th>\n",
       "      <th>volume</th>\n",
       "      <th>datetime_sp</th>\n",
       "    </tr>\n",
       "  </thead>\n",
       "  <tbody>\n",
       "    <tr>\n",
       "      <th>0</th>\n",
       "      <td>ITUB4.SA</td>\n",
       "      <td>2012-01-02</td>\n",
       "      <td>14.165285</td>\n",
       "      <td>14.177703</td>\n",
       "      <td>13.867242</td>\n",
       "      <td>14.086635</td>\n",
       "      <td>8201763</td>\n",
       "      <td>2012-01-02 04:00:00</td>\n",
       "    </tr>\n",
       "    <tr>\n",
       "      <th>1</th>\n",
       "      <td>ITUB4.SA</td>\n",
       "      <td>2012-01-03</td>\n",
       "      <td>14.107332</td>\n",
       "      <td>14.438490</td>\n",
       "      <td>14.107332</td>\n",
       "      <td>14.438490</td>\n",
       "      <td>15453407</td>\n",
       "      <td>2012-01-03 04:00:00</td>\n",
       "    </tr>\n",
       "  </tbody>\n",
       "</table>\n",
       "</div>"
      ],
      "text/plain": [
       "     ticker        date       open       high        low      close    volume  \\\n",
       "0  ITUB4.SA  2012-01-02  14.165285  14.177703  13.867242  14.086635   8201763   \n",
       "1  ITUB4.SA  2012-01-03  14.107332  14.438490  14.107332  14.438490  15453407   \n",
       "\n",
       "          datetime_sp  \n",
       "0 2012-01-02 04:00:00  \n",
       "1 2012-01-03 04:00:00  "
      ]
     },
     "metadata": {},
     "output_type": "display_data"
    },
    {
     "name": "stdout",
     "output_type": "stream",
     "text": [
      "\n",
      "[02_adequado] petr4_sa_1d.parquet -> exists=True\n",
      " path: G:\\Drives compartilhados\\BOLSA_2026\\a_bolsa2026_gemini\\00_data\\02_adequado\\petr4_sa_1d.parquet\n",
      " rows: 3409 date: 2012-01-02 -> 2025-09-19\n",
      " tz(datetime_sp): None\n",
      " columns: ['ticker', 'date', 'open', 'high', 'low', 'close', 'volume', 'datetime_sp']\n",
      " dtypes: {'ticker': 'object', 'date': 'object', 'open': 'float64', 'high': 'float64', 'low': 'float64', 'close': 'float64', 'volume': 'int64', 'datetime_sp': 'datetime64[ns]'}\n"
     ]
    },
    {
     "data": {
      "application/vnd.microsoft.datawrangler.viewer.v0+json": {
       "columns": [
        {
         "name": "index",
         "rawType": "int64",
         "type": "integer"
        },
        {
         "name": "ticker",
         "rawType": "object",
         "type": "string"
        },
        {
         "name": "date",
         "rawType": "object",
         "type": "string"
        },
        {
         "name": "open",
         "rawType": "float64",
         "type": "float"
        },
        {
         "name": "high",
         "rawType": "float64",
         "type": "float"
        },
        {
         "name": "low",
         "rawType": "float64",
         "type": "float"
        },
        {
         "name": "close",
         "rawType": "float64",
         "type": "float"
        },
        {
         "name": "volume",
         "rawType": "int64",
         "type": "integer"
        },
        {
         "name": "datetime_sp",
         "rawType": "datetime64[ns]",
         "type": "datetime"
        }
       ],
       "ref": "8041d0fe-9ad9-4c54-acf1-8d6edb189815",
       "rows": [
        [
         "0",
         "PETR4.SA",
         "2012-01-02",
         "21.510000228881836",
         "22.1200008392334",
         "21.260000228881836",
         "21.729999542236328",
         "20391300",
         "2012-01-02 04:00:00"
        ],
        [
         "1",
         "PETR4.SA",
         "2012-01-03",
         "21.829999923706055",
         "22.40999984741211",
         "21.809999465942383",
         "22.40999984741211",
         "22940500",
         "2012-01-03 04:00:00"
        ]
       ],
       "shape": {
        "columns": 8,
        "rows": 2
       }
      },
      "text/html": [
       "<div>\n",
       "<style scoped>\n",
       "    .dataframe tbody tr th:only-of-type {\n",
       "        vertical-align: middle;\n",
       "    }\n",
       "\n",
       "    .dataframe tbody tr th {\n",
       "        vertical-align: top;\n",
       "    }\n",
       "\n",
       "    .dataframe thead th {\n",
       "        text-align: right;\n",
       "    }\n",
       "</style>\n",
       "<table border=\"1\" class=\"dataframe\">\n",
       "  <thead>\n",
       "    <tr style=\"text-align: right;\">\n",
       "      <th></th>\n",
       "      <th>ticker</th>\n",
       "      <th>date</th>\n",
       "      <th>open</th>\n",
       "      <th>high</th>\n",
       "      <th>low</th>\n",
       "      <th>close</th>\n",
       "      <th>volume</th>\n",
       "      <th>datetime_sp</th>\n",
       "    </tr>\n",
       "  </thead>\n",
       "  <tbody>\n",
       "    <tr>\n",
       "      <th>0</th>\n",
       "      <td>PETR4.SA</td>\n",
       "      <td>2012-01-02</td>\n",
       "      <td>21.51</td>\n",
       "      <td>22.120001</td>\n",
       "      <td>21.260000</td>\n",
       "      <td>21.73</td>\n",
       "      <td>20391300</td>\n",
       "      <td>2012-01-02 04:00:00</td>\n",
       "    </tr>\n",
       "    <tr>\n",
       "      <th>1</th>\n",
       "      <td>PETR4.SA</td>\n",
       "      <td>2012-01-03</td>\n",
       "      <td>21.83</td>\n",
       "      <td>22.410000</td>\n",
       "      <td>21.809999</td>\n",
       "      <td>22.41</td>\n",
       "      <td>22940500</td>\n",
       "      <td>2012-01-03 04:00:00</td>\n",
       "    </tr>\n",
       "  </tbody>\n",
       "</table>\n",
       "</div>"
      ],
      "text/plain": [
       "     ticker        date   open       high        low  close    volume  \\\n",
       "0  PETR4.SA  2012-01-02  21.51  22.120001  21.260000  21.73  20391300   \n",
       "1  PETR4.SA  2012-01-03  21.83  22.410000  21.809999  22.41  22940500   \n",
       "\n",
       "          datetime_sp  \n",
       "0 2012-01-02 04:00:00  \n",
       "1 2012-01-03 04:00:00  "
      ]
     },
     "metadata": {},
     "output_type": "display_data"
    },
    {
     "name": "stdout",
     "output_type": "stream",
     "text": [
      "\n",
      "[02_adequado] _bvsp_1d.parquet -> exists=True\n",
      " path: G:\\Drives compartilhados\\BOLSA_2026\\a_bolsa2026_gemini\\00_data\\02_adequado\\_bvsp_1d.parquet\n",
      " rows: 3400 date: 2012-01-03 -> 2025-09-19\n",
      " tz(datetime_sp): None\n",
      " columns: ['ticker', 'date', 'open', 'high', 'low', 'close', 'volume', 'datetime_sp']\n",
      " dtypes: {'ticker': 'object', 'date': 'object', 'open': 'float64', 'high': 'float64', 'low': 'float64', 'close': 'float64', 'volume': 'int64', 'datetime_sp': 'datetime64[ns]'}\n"
     ]
    },
    {
     "data": {
      "application/vnd.microsoft.datawrangler.viewer.v0+json": {
       "columns": [
        {
         "name": "index",
         "rawType": "int64",
         "type": "integer"
        },
        {
         "name": "ticker",
         "rawType": "object",
         "type": "string"
        },
        {
         "name": "date",
         "rawType": "object",
         "type": "string"
        },
        {
         "name": "open",
         "rawType": "float64",
         "type": "float"
        },
        {
         "name": "high",
         "rawType": "float64",
         "type": "float"
        },
        {
         "name": "low",
         "rawType": "float64",
         "type": "float"
        },
        {
         "name": "close",
         "rawType": "float64",
         "type": "float"
        },
        {
         "name": "volume",
         "rawType": "int64",
         "type": "integer"
        },
        {
         "name": "datetime_sp",
         "rawType": "datetime64[ns]",
         "type": "datetime"
        }
       ],
       "ref": "1b1964a0-847b-448f-98c7-0b45123221b8",
       "rows": [
        [
         "0",
         "_bvsp",
         "2012-01-03",
         "57836.0",
         "59288.0",
         "57836.0",
         "59265.0",
         "3083000",
         "2012-01-03 04:00:00"
        ],
        [
         "1",
         "_bvsp",
         "2012-01-04",
         "59263.0",
         "59519.0",
         "58558.0",
         "59365.0",
         "2252000",
         "2012-01-04 04:00:00"
        ]
       ],
       "shape": {
        "columns": 8,
        "rows": 2
       }
      },
      "text/html": [
       "<div>\n",
       "<style scoped>\n",
       "    .dataframe tbody tr th:only-of-type {\n",
       "        vertical-align: middle;\n",
       "    }\n",
       "\n",
       "    .dataframe tbody tr th {\n",
       "        vertical-align: top;\n",
       "    }\n",
       "\n",
       "    .dataframe thead th {\n",
       "        text-align: right;\n",
       "    }\n",
       "</style>\n",
       "<table border=\"1\" class=\"dataframe\">\n",
       "  <thead>\n",
       "    <tr style=\"text-align: right;\">\n",
       "      <th></th>\n",
       "      <th>ticker</th>\n",
       "      <th>date</th>\n",
       "      <th>open</th>\n",
       "      <th>high</th>\n",
       "      <th>low</th>\n",
       "      <th>close</th>\n",
       "      <th>volume</th>\n",
       "      <th>datetime_sp</th>\n",
       "    </tr>\n",
       "  </thead>\n",
       "  <tbody>\n",
       "    <tr>\n",
       "      <th>0</th>\n",
       "      <td>_bvsp</td>\n",
       "      <td>2012-01-03</td>\n",
       "      <td>57836.0</td>\n",
       "      <td>59288.0</td>\n",
       "      <td>57836.0</td>\n",
       "      <td>59265.0</td>\n",
       "      <td>3083000</td>\n",
       "      <td>2012-01-03 04:00:00</td>\n",
       "    </tr>\n",
       "    <tr>\n",
       "      <th>1</th>\n",
       "      <td>_bvsp</td>\n",
       "      <td>2012-01-04</td>\n",
       "      <td>59263.0</td>\n",
       "      <td>59519.0</td>\n",
       "      <td>58558.0</td>\n",
       "      <td>59365.0</td>\n",
       "      <td>2252000</td>\n",
       "      <td>2012-01-04 04:00:00</td>\n",
       "    </tr>\n",
       "  </tbody>\n",
       "</table>\n",
       "</div>"
      ],
      "text/plain": [
       "  ticker        date     open     high      low    close   volume  \\\n",
       "0  _bvsp  2012-01-03  57836.0  59288.0  57836.0  59265.0  3083000   \n",
       "1  _bvsp  2012-01-04  59263.0  59519.0  58558.0  59365.0  2252000   \n",
       "\n",
       "          datetime_sp  \n",
       "0 2012-01-03 04:00:00  \n",
       "1 2012-01-04 04:00:00  "
      ]
     },
     "metadata": {},
     "output_type": "display_data"
    },
    {
     "name": "stdout",
     "output_type": "stream",
     "text": [
      "\n",
      "[02_adequado] ewz_1d.parquet -> exists=True\n",
      " path: G:\\Drives compartilhados\\BOLSA_2026\\a_bolsa2026_gemini\\00_data\\02_adequado\\ewz_1d.parquet\n",
      " rows: 3449 date: 2012-01-03 -> 2025-09-19\n",
      " tz(datetime_sp): None\n",
      " columns: ['ticker', 'date', 'open', 'high', 'low', 'close', 'volume', 'datetime_sp']\n",
      " dtypes: {'ticker': 'object', 'date': 'object', 'open': 'float64', 'high': 'float64', 'low': 'float64', 'close': 'float64', 'volume': 'int64', 'datetime_sp': 'datetime64[ns]'}\n"
     ]
    },
    {
     "data": {
      "application/vnd.microsoft.datawrangler.viewer.v0+json": {
       "columns": [
        {
         "name": "index",
         "rawType": "int64",
         "type": "integer"
        },
        {
         "name": "ticker",
         "rawType": "object",
         "type": "string"
        },
        {
         "name": "date",
         "rawType": "object",
         "type": "string"
        },
        {
         "name": "open",
         "rawType": "float64",
         "type": "float"
        },
        {
         "name": "high",
         "rawType": "float64",
         "type": "float"
        },
        {
         "name": "low",
         "rawType": "float64",
         "type": "float"
        },
        {
         "name": "close",
         "rawType": "float64",
         "type": "float"
        },
        {
         "name": "volume",
         "rawType": "int64",
         "type": "integer"
        },
        {
         "name": "datetime_sp",
         "rawType": "datetime64[ns]",
         "type": "datetime"
        }
       ],
       "ref": "7849cf37-ff75-4c68-9987-c381a7e8d226",
       "rows": [
        [
         "0",
         "ewz",
         "2012-01-03",
         "59.099998474121094",
         "60.11000061035156",
         "59.060001373291016",
         "59.70000076293945",
         "20052500",
         "2012-01-03 07:00:00"
        ],
        [
         "1",
         "ewz",
         "2012-01-04",
         "59.58000183105469",
         "60.470001220703125",
         "59.560001373291016",
         "59.91999816894531",
         "11113200",
         "2012-01-04 07:00:00"
        ]
       ],
       "shape": {
        "columns": 8,
        "rows": 2
       }
      },
      "text/html": [
       "<div>\n",
       "<style scoped>\n",
       "    .dataframe tbody tr th:only-of-type {\n",
       "        vertical-align: middle;\n",
       "    }\n",
       "\n",
       "    .dataframe tbody tr th {\n",
       "        vertical-align: top;\n",
       "    }\n",
       "\n",
       "    .dataframe thead th {\n",
       "        text-align: right;\n",
       "    }\n",
       "</style>\n",
       "<table border=\"1\" class=\"dataframe\">\n",
       "  <thead>\n",
       "    <tr style=\"text-align: right;\">\n",
       "      <th></th>\n",
       "      <th>ticker</th>\n",
       "      <th>date</th>\n",
       "      <th>open</th>\n",
       "      <th>high</th>\n",
       "      <th>low</th>\n",
       "      <th>close</th>\n",
       "      <th>volume</th>\n",
       "      <th>datetime_sp</th>\n",
       "    </tr>\n",
       "  </thead>\n",
       "  <tbody>\n",
       "    <tr>\n",
       "      <th>0</th>\n",
       "      <td>ewz</td>\n",
       "      <td>2012-01-03</td>\n",
       "      <td>59.099998</td>\n",
       "      <td>60.110001</td>\n",
       "      <td>59.060001</td>\n",
       "      <td>59.700001</td>\n",
       "      <td>20052500</td>\n",
       "      <td>2012-01-03 07:00:00</td>\n",
       "    </tr>\n",
       "    <tr>\n",
       "      <th>1</th>\n",
       "      <td>ewz</td>\n",
       "      <td>2012-01-04</td>\n",
       "      <td>59.580002</td>\n",
       "      <td>60.470001</td>\n",
       "      <td>59.560001</td>\n",
       "      <td>59.919998</td>\n",
       "      <td>11113200</td>\n",
       "      <td>2012-01-04 07:00:00</td>\n",
       "    </tr>\n",
       "  </tbody>\n",
       "</table>\n",
       "</div>"
      ],
      "text/plain": [
       "  ticker        date       open       high        low      close    volume  \\\n",
       "0    ewz  2012-01-03  59.099998  60.110001  59.060001  59.700001  20052500   \n",
       "1    ewz  2012-01-04  59.580002  60.470001  59.560001  59.919998  11113200   \n",
       "\n",
       "          datetime_sp  \n",
       "0 2012-01-03 07:00:00  \n",
       "1 2012-01-04 07:00:00  "
      ]
     },
     "metadata": {},
     "output_type": "display_data"
    },
    {
     "name": "stdout",
     "output_type": "stream",
     "text": [
      "\n",
      "[02_adequado] _gspc_1d.parquet -> exists=True\n",
      " path: G:\\Drives compartilhados\\BOLSA_2026\\a_bolsa2026_gemini\\00_data\\02_adequado\\_gspc_1d.parquet\n",
      " rows: 3449 date: 2012-01-03 -> 2025-09-19\n",
      " tz(datetime_sp): None\n",
      " columns: ['ticker', 'date', 'open', 'high', 'low', 'close', 'volume', 'datetime_sp']\n",
      " dtypes: {'ticker': 'object', 'date': 'object', 'open': 'float64', 'high': 'float64', 'low': 'float64', 'close': 'float64', 'volume': 'int64', 'datetime_sp': 'datetime64[ns]'}\n"
     ]
    },
    {
     "data": {
      "application/vnd.microsoft.datawrangler.viewer.v0+json": {
       "columns": [
        {
         "name": "index",
         "rawType": "int64",
         "type": "integer"
        },
        {
         "name": "ticker",
         "rawType": "object",
         "type": "string"
        },
        {
         "name": "date",
         "rawType": "object",
         "type": "string"
        },
        {
         "name": "open",
         "rawType": "float64",
         "type": "float"
        },
        {
         "name": "high",
         "rawType": "float64",
         "type": "float"
        },
        {
         "name": "low",
         "rawType": "float64",
         "type": "float"
        },
        {
         "name": "close",
         "rawType": "float64",
         "type": "float"
        },
        {
         "name": "volume",
         "rawType": "int64",
         "type": "integer"
        },
        {
         "name": "datetime_sp",
         "rawType": "datetime64[ns]",
         "type": "datetime"
        }
       ],
       "ref": "d37655b2-c41a-4064-8731-34f8c3b7db69",
       "rows": [
        [
         "0",
         "_gspc",
         "2012-01-03",
         "1258.8599853515625",
         "1284.6199951171875",
         "1258.8599853515625",
         "1277.06005859375",
         "3943710000",
         "2012-01-03 07:00:00"
        ],
        [
         "1",
         "_gspc",
         "2012-01-04",
         "1277.030029296875",
         "1278.72998046875",
         "1268.0999755859375",
         "1277.300048828125",
         "3592580000",
         "2012-01-04 07:00:00"
        ]
       ],
       "shape": {
        "columns": 8,
        "rows": 2
       }
      },
      "text/html": [
       "<div>\n",
       "<style scoped>\n",
       "    .dataframe tbody tr th:only-of-type {\n",
       "        vertical-align: middle;\n",
       "    }\n",
       "\n",
       "    .dataframe tbody tr th {\n",
       "        vertical-align: top;\n",
       "    }\n",
       "\n",
       "    .dataframe thead th {\n",
       "        text-align: right;\n",
       "    }\n",
       "</style>\n",
       "<table border=\"1\" class=\"dataframe\">\n",
       "  <thead>\n",
       "    <tr style=\"text-align: right;\">\n",
       "      <th></th>\n",
       "      <th>ticker</th>\n",
       "      <th>date</th>\n",
       "      <th>open</th>\n",
       "      <th>high</th>\n",
       "      <th>low</th>\n",
       "      <th>close</th>\n",
       "      <th>volume</th>\n",
       "      <th>datetime_sp</th>\n",
       "    </tr>\n",
       "  </thead>\n",
       "  <tbody>\n",
       "    <tr>\n",
       "      <th>0</th>\n",
       "      <td>_gspc</td>\n",
       "      <td>2012-01-03</td>\n",
       "      <td>1258.859985</td>\n",
       "      <td>1284.619995</td>\n",
       "      <td>1258.859985</td>\n",
       "      <td>1277.060059</td>\n",
       "      <td>3943710000</td>\n",
       "      <td>2012-01-03 07:00:00</td>\n",
       "    </tr>\n",
       "    <tr>\n",
       "      <th>1</th>\n",
       "      <td>_gspc</td>\n",
       "      <td>2012-01-04</td>\n",
       "      <td>1277.030029</td>\n",
       "      <td>1278.729980</td>\n",
       "      <td>1268.099976</td>\n",
       "      <td>1277.300049</td>\n",
       "      <td>3592580000</td>\n",
       "      <td>2012-01-04 07:00:00</td>\n",
       "    </tr>\n",
       "  </tbody>\n",
       "</table>\n",
       "</div>"
      ],
      "text/plain": [
       "  ticker        date         open         high          low        close  \\\n",
       "0  _gspc  2012-01-03  1258.859985  1284.619995  1258.859985  1277.060059   \n",
       "1  _gspc  2012-01-04  1277.030029  1278.729980  1268.099976  1277.300049   \n",
       "\n",
       "       volume         datetime_sp  \n",
       "0  3943710000 2012-01-03 07:00:00  \n",
       "1  3592580000 2012-01-04 07:00:00  "
      ]
     },
     "metadata": {},
     "output_type": "display_data"
    },
    {
     "name": "stdout",
     "output_type": "stream",
     "text": [
      "\n"
     ]
    }
   ],
   "source": [
    "# 6) Inspeção de estrutura/detalhes em 01_bruto e 02_adequado (3 ações + 3 indicadores)\n",
    "from pathlib import Path\n",
    "import pandas as pd\n",
    "\n",
    "BASE = Path(r\"G:/Drives compartilhados/BOLSA_2026/a_bolsa2026_gemini/00_data\")\n",
    "SRC_FOLDERS = [\"01_bruto\", \"02_adequado\"]\n",
    "\n",
    "# escolha das séries para amostra\n",
    "STOCKS = [\"ABEV3.SA\", \"ITUB4.SA\", \"PETR4.SA\"]\n",
    "INDICS = [\"_bvsp\", \"ewz\", \"_gspc\"]\n",
    "\n",
    "def fname_for_stock(sym: str) -> str:\n",
    "    return f\"{sym.lower().replace('.', '_')}_1d.parquet\"\n",
    "\n",
    "def fname_for_indicator(db_label: str) -> str:\n",
    "    return f\"{db_label.replace('.', '_').lower()}_1d.parquet\"\n",
    "\n",
    "def summarize_parquet(folder: str, filename: str) -> dict:\n",
    "    p = BASE / folder / filename\n",
    "    if not p.exists():\n",
    "        return {\n",
    "            \"folder\": folder, \"file\": filename, \"exists\": False,\n",
    "            \"rows\": 0, \"date_min\": None, \"date_max\": None,\n",
    "            \"columns\": None, \"dtypes\": None, \"tz_datetime_sp\": None,\n",
    "            \"path\": str(p),\n",
    "        }\n",
    "    df = pd.read_parquet(p)\n",
    "    info = {\n",
    "        \"folder\": folder,\n",
    "        \"file\": filename,\n",
    "        \"exists\": True,\n",
    "        \"rows\": int(df.shape[0]),\n",
    "        \"columns\": list(df.columns),\n",
    "        \"dtypes\": {c: str(df[c].dtype) for c in df.columns},\n",
    "        \"date_min\": str(pd.to_datetime(df[\"date\"]).min().date()) if \"date\" in df.columns and not df.empty else None,\n",
    "        \"date_max\": str(pd.to_datetime(df[\"date\"]).max().date()) if \"date\" in df.columns and not df.empty else None,\n",
    "        \"tz_datetime_sp\": None,\n",
    "        \"path\": str(p),\n",
    "    }\n",
    "    if \"datetime_sp\" in df.columns and not df.empty:\n",
    "        try:\n",
    "            v = df[\"datetime_sp\"].iloc[0]\n",
    "            tz = getattr(getattr(v, \"tz\", None), \"key\", None) or str(getattr(v, \"tz\", None))\n",
    "            info[\"tz_datetime_sp\"] = tz\n",
    "        except Exception:\n",
    "            info[\"tz_datetime_sp\"] = None\n",
    "    return info\n",
    "\n",
    "def pretty_print(info: dict):\n",
    "    print(f\"[{info['folder']}] {info['file']} -> exists={info['exists']}\")\n",
    "    print(\" path:\", info[\"path\"])\n",
    "    if not info[\"exists\"]:\n",
    "        print()\n",
    "        return\n",
    "    print(\" rows:\", info[\"rows\"], \"date:\", info[\"date_min\"], \"->\", info[\"date_max\"])\n",
    "    print(\" tz(datetime_sp):\", info[\"tz_datetime_sp\"])\n",
    "    print(\" columns:\", info[\"columns\"])\n",
    "    print(\" dtypes:\", info[\"dtypes\"])\n",
    "    # amostra rápida\n",
    "    try:\n",
    "        df = pd.read_parquet(info[\"path\"])\n",
    "        display(df.head(2))\n",
    "    except Exception:\n",
    "        pass\n",
    "    print()\n",
    "\n",
    "targets = []\n",
    "for s in STOCKS:\n",
    "    targets.append(fname_for_stock(s))\n",
    "for i in INDICS:\n",
    "    targets.append(fname_for_indicator(i))\n",
    "\n",
    "for folder in SRC_FOLDERS:\n",
    "    print(\"===\", folder, \"===\")\n",
    "    for fn in targets:\n",
    "        pretty_print(summarize_parquet(folder, fn))"
   ]
  }
 ],
 "metadata": {
  "kernelspec": {
   "display_name": ".conda",
   "language": "python",
   "name": "python3"
  },
  "language_info": {
   "codemirror_mode": {
    "name": "ipython",
    "version": 3
   },
   "file_extension": ".py",
   "mimetype": "text/x-python",
   "name": "python",
   "nbconvert_exporter": "python",
   "pygments_lexer": "ipython3",
   "version": "3.11.13"
  }
 },
 "nbformat": 4,
 "nbformat_minor": 5
}
