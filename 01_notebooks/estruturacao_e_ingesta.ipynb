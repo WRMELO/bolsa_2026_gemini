{
 "cells": [
  {
   "cell_type": "markdown",
   "id": "2b66eb30",
   "metadata": {},
   "source": [
    "# Coleta limpa: 24 B3 (.SA) + 7 indicadores (2012-01-01 ↔ 2025-09-20)\n",
    "\n",
    "- Persistência: Parquets individuais por série em `00_data/01_bruto`.\n",
    "- Janela: do mais recente (2025-09-20) até o mais antigo, cortando em 2012-01-01.\n",
    "- Fontes:\n",
    "  - Ações B3: investpy (com fallback yfinance para listagens mais recentes)\n",
    "  - Indicadores/ETF/commodities: yfinance\n"
   ]
  },
  {
   "cell_type": "code",
   "execution_count": 1,
   "id": "728561a7",
   "metadata": {},
   "outputs": [
    {
     "name": "stderr",
     "output_type": "stream",
     "text": [
      "\n",
      "[notice] A new release of pip is available: 25.0.1 -> 25.2\n",
      "[notice] To update, run: python.exe -m pip install --upgrade pip\n"
     ]
    },
    {
     "name": "stdout",
     "output_type": "stream",
     "text": [
      "Note: you may need to restart the kernel to use updated packages.\n"
     ]
    },
    {
     "name": "stderr",
     "output_type": "stream",
     "text": [
      "g:\\Drives compartilhados\\BOLSA_2026\\a_bolsa2026_gemini\\.conda\\Lib\\site-packages\\investpy\\bonds.py:10: UserWarning: pkg_resources is deprecated as an API. See https://setuptools.pypa.io/en/latest/pkg_resources.html. The pkg_resources package is slated for removal as early as 2025-11-30. Refrain from using this package or pin to Setuptools<81.\n",
      "  import pkg_resources\n"
     ]
    },
    {
     "name": "stdout",
     "output_type": "stream",
     "text": [
      "OUT_DIR = G:\\Drives compartilhados\\BOLSA_2026\\a_bolsa2026_gemini\\00_data\\01_bruto\n"
     ]
    }
   ],
   "source": [
    "# 1) Instalação e imports essenciais\n",
    "%pip install --quiet investpy==1.0.8 yfinance==0.2.58 lxml==4.9.3 html5lib==1.1 tqdm>=4.66.0 pyarrow>=14.0.0\n",
    "\n",
    "import os, time\n",
    "from pathlib import Path\n",
    "from datetime import datetime, timedelta\n",
    "import pandas as pd\n",
    "from tqdm import tqdm\n",
    "from zoneinfo import ZoneInfo\n",
    "import investpy, yfinance as yf\n",
    "\n",
    "TZ_SP = ZoneInfo(\"America/Sao_Paulo\")\n",
    "CUT_MAX = datetime(2025, 9, 20, tzinfo=TZ_SP).date()   # mais recente\n",
    "CUT_MIN = datetime(2012, 1, 1, tzinfo=TZ_SP).date()    # mais antigo\n",
    "OUT_DIR = Path(r\"G:/Drives compartilhados/BOLSA_2026/a_bolsa2026_gemini/00_data/01_bruto\")\n",
    "OUT_DIR.mkdir(parents=True, exist_ok=True)\n",
    "print(\"OUT_DIR =\", OUT_DIR)\n"
   ]
  },
  {
   "cell_type": "code",
   "execution_count": 2,
   "id": "6416bd74",
   "metadata": {},
   "outputs": [
    {
     "name": "stdout",
     "output_type": "stream",
     "text": [
      "24 B3 + 7 indicadores\n"
     ]
    }
   ],
   "source": [
    "# 2) Lista dos 24 B3 (.SA) e 7 indicadores\n",
    "TICKERS_B3 = [\n",
    "    \"ABEV3.SA\", \"B3SA3.SA\", \"BBAS3.SA\", \"CSNA3.SA\", \"CPLE6.SA\", \"ELET3.SA\", \"GGBR4.SA\",\n",
    "    \"HAPV3.SA\", \"ITUB4.SA\", \"LREN3.SA\", \"PETR4.SA\", \"PRIO3.SA\", \"PSSA3.SA\", \"RAIL3.SA\",\n",
    "    \"RDOR3.SA\", \"SBSP3.SA\", \"SUZB3.SA\", \"TAEE11.SA\", \"TIMS3.SA\", \"UGPA3.SA\", \"VALE3.SA\",\n",
    "    \"VIVT3.SA\", \"WEGE3.SA\", \"TOTS3.SA\"\n",
    "]\n",
    "INDICATORS = {\n",
    "    \"^BVSP\": \"_bvsp\",\n",
    "    \"EWZ\": \"ewz\",\n",
    "    \"^GSPC\": \"_gspc\",\n",
    "    \"^VIX\": \"_vix\",\n",
    "    \"DX-Y.NYB\": \"dx-y.nyb\",\n",
    "    \"^TNX\": \"_tnx\",\n",
    "    \"BZ=F\": \"bz=f\",\n",
    "}\n",
    "print(len(TICKERS_B3), \"B3 +\", len(INDICATORS), \"indicadores\")"
   ]
  },
  {
   "cell_type": "code",
   "execution_count": 5,
   "id": "f0f0dbb6",
   "metadata": {},
   "outputs": [],
   "source": [
    "# 3) Utilitários de datas/normalização e coletores (investpy + yfinance)\n",
    "\n",
    "def sp_date(d: datetime | str):\n",
    "    if isinstance(d, str):\n",
    "        return datetime.fromisoformat(d).date()\n",
    "    return d.date() if isinstance(d, datetime) else d\n",
    "\n",
    "def clamp_window(min_str=\"2012-01-01\", max_str=\"2025-09-20\"):\n",
    "    dmin = datetime.fromisoformat(min_str).date()\n",
    "    dmax = datetime.fromisoformat(max_str).date()\n",
    "    return dmin, dmax\n",
    "\n",
    "CUT_MIN, CUT_MAX = clamp_window(\"2012-01-01\", \"2025-09-20\")\n",
    "\n",
    "def to_investing_symbol(b3_symbol: str) -> str:\n",
    "    return b3_symbol.upper().replace('.SA','')\n",
    "\n",
    "\n",
    "def _to_dtindex_sp(values) -> pd.DatetimeIndex:\n",
    "    idx = pd.DatetimeIndex(pd.to_datetime(values))\n",
    "    if idx.tz is None:\n",
    "        idx = idx.tz_localize(TZ_SP)\n",
    "    else:\n",
    "        idx = idx.tz_convert(TZ_SP)\n",
    "    return idx\n",
    "\n",
    "\n",
    "def normalize_df(df: pd.DataFrame, ticker_label: str) -> pd.DataFrame:\n",
    "    rename = {\"Date\":\"date\",\"Open\":\"open\",\"High\":\"high\",\"Low\":\"low\",\"Close\":\"close\",\"Adj Close\":\"adj_close\",\"Volume\":\"volume\"}\n",
    "    df = df.rename(columns=rename)\n",
    "    # construir datetime_sp em TZ_SP\n",
    "    if 'date' in df.columns:\n",
    "        dt_idx = _to_dtindex_sp(df['date'])\n",
    "    elif 'Date' in df.columns:\n",
    "        dt_idx = _to_dtindex_sp(df['Date'])\n",
    "    else:\n",
    "        dt_idx = _to_dtindex_sp(df.index)\n",
    "    out = df.reset_index(drop=True)\n",
    "    ts = pd.Series(dt_idx)\n",
    "    out['datetime_sp'] = ts.values\n",
    "    out['date'] = pd.to_datetime(ts).dt.date.astype(str)\n",
    "    out['ticker'] = ticker_label\n",
    "    # recorte da janela\n",
    "    out = out[(out['date'] >= CUT_MIN.strftime('%Y-%m-%d')) & (out['date'] <= CUT_MAX.strftime('%Y-%m-%d'))]\n",
    "    # garantir colunas essenciais\n",
    "    for c in [\"open\",\"high\",\"low\",\"close\",\"volume\"]:\n",
    "        if c not in out.columns:\n",
    "            out[c] = pd.NA\n",
    "    out = out[[\"ticker\",\"date\",\"open\",\"high\",\"low\",\"close\",\"volume\",\"datetime_sp\"]]\n",
    "    out.drop_duplicates(subset=[\"ticker\",\"date\"], inplace=True)\n",
    "    return out\n",
    "\n",
    "\n",
    "def fetch_b3(b3_symbol: str) -> pd.DataFrame:\n",
    "    \"\"\"Tenta investpy; se falhar, cai para yfinance (útil para TIMS3/RDOR3).\"\"\"\n",
    "    sym = to_investing_symbol(b3_symbol)\n",
    "    f_str = CUT_MIN.strftime('%d/%m/%Y'); t_str = CUT_MAX.strftime('%d/%m/%Y')\n",
    "    try:\n",
    "        # tenta via search_quotes\n",
    "        res = investpy.search_quotes(text=sym, products=['stocks'], countries=['brazil'])\n",
    "        qlist = res if isinstance(res, list) else ([res] if res else [])\n",
    "        if qlist:\n",
    "            pick = next((q for q in qlist if getattr(q,'symbol','').upper()==sym.upper()), qlist[0])\n",
    "            df = pick.retrieve_historical_data(from_date=f_str, to_date=t_str, as_json=False, order='descending')\n",
    "            if df is not None and not df.empty:\n",
    "                return normalize_df(df, b3_symbol.upper())\n",
    "        # fallback investpy direto\n",
    "        df = investpy.get_stock_historical_data(stock=sym, country='brazil', from_date=f_str, to_date=t_str, as_json=False, order='descending')\n",
    "        if df is not None and not df.empty:\n",
    "            return normalize_df(df, b3_symbol.upper())\n",
    "    except Exception:\n",
    "        pass\n",
    "    # yfinance fallback\n",
    "    tkr = yf.Ticker(b3_symbol)\n",
    "    df = tkr.history(start=CUT_MIN.strftime('%Y-%m-%d'), end=(CUT_MAX + timedelta(days=1)).strftime('%Y-%m-%d'), interval='1d', auto_adjust=False)\n",
    "    if df is None or df.empty:\n",
    "        raise RuntimeError(f\"Sem dados para {b3_symbol}\")\n",
    "    return normalize_df(df, b3_symbol.upper())\n",
    "\n",
    "\n",
    "def fetch_indicator(yf_symbol: str, db_symbol: str) -> pd.DataFrame:\n",
    "    tkr = yf.Ticker(yf_symbol)\n",
    "    df = tkr.history(start=CUT_MIN.strftime('%Y-%m-%d'), end=(CUT_MAX + timedelta(days=1)).strftime('%Y-%m-%d'), interval='1d', auto_adjust=False)\n",
    "    if df is None or df.empty:\n",
    "        raise RuntimeError(f\"Sem dados para {yf_symbol}\")\n",
    "    return normalize_df(df, db_symbol)\n",
    "\n",
    "\n",
    "def save_parquet(df: pd.DataFrame, out_path: Path):\n",
    "    if df is None or df.empty:\n",
    "        raise ValueError(\"DF vazio.\")\n",
    "    out_path.parent.mkdir(parents=True, exist_ok=True)\n",
    "    df.to_parquet(out_path, index=False)\n",
    "    return out_path"
   ]
  },
  {
   "cell_type": "code",
   "execution_count": 6,
   "id": "bee1eb37",
   "metadata": {},
   "outputs": [
    {
     "name": "stderr",
     "output_type": "stream",
     "text": [
      "B3 .SA: 100%|██████████| 24/24 [00:15<00:00,  1.56it/s]"
     ]
    },
    {
     "name": "stdout",
     "output_type": "stream",
     "text": [
      "B3 OK: 24 Falhas: 0\n"
     ]
    },
    {
     "name": "stderr",
     "output_type": "stream",
     "text": [
      "\n"
     ]
    },
    {
     "data": {
      "text/plain": [
       "([('ABEV3.SA',\n",
       "   3409,\n",
       "   'G:\\\\Drives compartilhados\\\\BOLSA_2026\\\\a_bolsa2026_gemini\\\\00_data\\\\01_bruto\\\\abev3_sa_1d.parquet'),\n",
       "  ('B3SA3.SA',\n",
       "   3409,\n",
       "   'G:\\\\Drives compartilhados\\\\BOLSA_2026\\\\a_bolsa2026_gemini\\\\00_data\\\\01_bruto\\\\b3sa3_sa_1d.parquet'),\n",
       "  ('BBAS3.SA',\n",
       "   3409,\n",
       "   'G:\\\\Drives compartilhados\\\\BOLSA_2026\\\\a_bolsa2026_gemini\\\\00_data\\\\01_bruto\\\\bbas3_sa_1d.parquet'),\n",
       "  ('CSNA3.SA',\n",
       "   3409,\n",
       "   'G:\\\\Drives compartilhados\\\\BOLSA_2026\\\\a_bolsa2026_gemini\\\\00_data\\\\01_bruto\\\\csna3_sa_1d.parquet'),\n",
       "  ('CPLE6.SA',\n",
       "   3408,\n",
       "   'G:\\\\Drives compartilhados\\\\BOLSA_2026\\\\a_bolsa2026_gemini\\\\00_data\\\\01_bruto\\\\cple6_sa_1d.parquet')],\n",
       " [])"
      ]
     },
     "execution_count": 6,
     "metadata": {},
     "output_type": "execute_result"
    }
   ],
   "source": [
    "# 4) Coleta B3 (24 .SA) — do mais recente (20/09/2025) ao mais antigo (>= 01/01/2012)\n",
    "results = []\n",
    "errors = []\n",
    "for tk in tqdm(TICKERS_B3, desc='B3 .SA'):\n",
    "    try:\n",
    "        df = fetch_b3(tk)\n",
    "        out = OUT_DIR / f\"{tk.replace('.','_').lower()}_1d.parquet\"\n",
    "        save_parquet(df, out)\n",
    "        results.append((tk, len(df), str(out)))\n",
    "    except Exception as e:\n",
    "        errors.append((tk, str(e)))\n",
    "        time.sleep(0.5)\n",
    "\n",
    "print('B3 OK:', len(results), 'Falhas:', len(errors))\n",
    "results[:5], errors[:5]"
   ]
  },
  {
   "cell_type": "code",
   "execution_count": 7,
   "id": "d0d4a892",
   "metadata": {},
   "outputs": [
    {
     "name": "stderr",
     "output_type": "stream",
     "text": [
      "Indicadores: 100%|██████████| 7/7 [00:03<00:00,  1.95it/s]"
     ]
    },
    {
     "name": "stdout",
     "output_type": "stream",
     "text": [
      "Indicadores OK: 7 Falhas: 0\n"
     ]
    },
    {
     "name": "stderr",
     "output_type": "stream",
     "text": [
      "\n"
     ]
    },
    {
     "data": {
      "text/plain": [
       "([('^BVSP',\n",
       "   '_bvsp',\n",
       "   3400,\n",
       "   'G:\\\\Drives compartilhados\\\\BOLSA_2026\\\\a_bolsa2026_gemini\\\\00_data\\\\01_bruto\\\\_bvsp_1d.parquet'),\n",
       "  ('EWZ',\n",
       "   'ewz',\n",
       "   3449,\n",
       "   'G:\\\\Drives compartilhados\\\\BOLSA_2026\\\\a_bolsa2026_gemini\\\\00_data\\\\01_bruto\\\\ewz_1d.parquet'),\n",
       "  ('^GSPC',\n",
       "   '_gspc',\n",
       "   3449,\n",
       "   'G:\\\\Drives compartilhados\\\\BOLSA_2026\\\\a_bolsa2026_gemini\\\\00_data\\\\01_bruto\\\\_gspc_1d.parquet'),\n",
       "  ('^VIX',\n",
       "   '_vix',\n",
       "   3449,\n",
       "   'G:\\\\Drives compartilhados\\\\BOLSA_2026\\\\a_bolsa2026_gemini\\\\00_data\\\\01_bruto\\\\_vix_1d.parquet'),\n",
       "  ('DX-Y.NYB',\n",
       "   'dx-y.nyb',\n",
       "   3450,\n",
       "   'G:\\\\Drives compartilhados\\\\BOLSA_2026\\\\a_bolsa2026_gemini\\\\00_data\\\\01_bruto\\\\dx-y_nyb_1d.parquet')],\n",
       " [])"
      ]
     },
     "execution_count": 7,
     "metadata": {},
     "output_type": "execute_result"
    }
   ],
   "source": [
    "# 5) Coleta indicadores/ETF/commodities (7) via yfinance\n",
    "res_i = []\n",
    "err_i = []\n",
    "for yf_sym, db_sym in tqdm(list(INDICATORS.items()), desc='Indicadores'):\n",
    "    try:\n",
    "        df = fetch_indicator(yf_sym, db_sym)\n",
    "        out = OUT_DIR / f\"{db_sym.replace('.','_').lower()}_1d.parquet\"\n",
    "        save_parquet(df, out)\n",
    "        res_i.append((yf_sym, db_sym, len(df), str(out)))\n",
    "    except Exception as e:\n",
    "        err_i.append((yf_sym, str(e)))\n",
    "        time.sleep(0.5)\n",
    "\n",
    "print('Indicadores OK:', len(res_i), 'Falhas:', len(err_i))\n",
    "res_i[:5], err_i[:5]"
   ]
  }
 ],
 "metadata": {
  "kernelspec": {
   "display_name": ".conda",
   "language": "python",
   "name": "python3"
  },
  "language_info": {
   "codemirror_mode": {
    "name": "ipython",
    "version": 3
   },
   "file_extension": ".py",
   "mimetype": "text/x-python",
   "name": "python",
   "nbconvert_exporter": "python",
   "pygments_lexer": "ipython3",
   "version": "3.11.13"
  }
 },
 "nbformat": 4,
 "nbformat_minor": 5
}
