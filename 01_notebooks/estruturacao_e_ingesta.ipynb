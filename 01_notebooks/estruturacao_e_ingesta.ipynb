{
 "cells": [
  {
   "cell_type": "markdown",
   "id": "2b66eb30",
   "metadata": {},
   "source": [
    "# Coleta limpa: 24 B3 (.SA) + 7 indicadores (2012-01-01 ↔ 2025-09-20)\n",
    "\n",
    "- Persistência: Parquets individuais por série em `00_data/01_bruto`.\n",
    "- Janela: do mais recente (2025-09-20) até o mais antigo, cortando em 2012-01-01.\n",
    "- Fontes:\n",
    "  - Ações B3: investpy (com fallback yfinance para listagens mais recentes)\n",
    "  - Indicadores/ETF/commodities: yfinance\n"
   ]
  },
  {
   "cell_type": "code",
   "execution_count": null,
   "id": "728561a7",
   "metadata": {},
   "outputs": [
    {
     "name": "stderr",
     "output_type": "stream",
     "text": [
      "\n",
      "[notice] A new release of pip is available: 25.0.1 -> 25.2\n",
      "[notice] To update, run: python.exe -m pip install --upgrade pip\n"
     ]
    },
    {
     "name": "stdout",
     "output_type": "stream",
     "text": [
      "Note: you may need to restart the kernel to use updated packages.\n"
     ]
    },
    {
     "name": "stderr",
     "output_type": "stream",
     "text": [
      "g:\\Drives compartilhados\\BOLSA_2026\\a_bolsa2026_gemini\\.conda\\Lib\\site-packages\\investpy\\bonds.py:10: UserWarning: pkg_resources is deprecated as an API. See https://setuptools.pypa.io/en/latest/pkg_resources.html. The pkg_resources package is slated for removal as early as 2025-11-30. Refrain from using this package or pin to Setuptools<81.\n",
      "  import pkg_resources\n"
     ]
    },
    {
     "name": "stdout",
     "output_type": "stream",
     "text": [
      "OUT_DIR = G:\\Drives compartilhados\\BOLSA_2026\\a_bolsa2026_gemini\\00_data\\01_bruto\n"
     ]
    }
   ],
   "source": [
    "# 1) Instalação e imports essenciais\n",
    "%pip install --quiet investpy==1.0.8 yfinance==0.2.58 lxml==4.9.3 html5lib==1.1 tqdm>=4.66.0 pyarrow>=14.0.0 minio>=7.2.7\n",
    "\n",
    "import os, time\n",
    "from pathlib import Path\n",
    "from datetime import datetime, timedelta\n",
    "import pandas as pd\n",
    "from tqdm import tqdm\n",
    "from zoneinfo import ZoneInfo\n",
    "import investpy, yfinance as yf\n",
    "\n",
    "TZ_SP = ZoneInfo(\"America/Sao_Paulo\")\n",
    "CUT_MAX = datetime(2025, 9, 20, tzinfo=TZ_SP).date()   # mais recente\n",
    "CUT_MIN = datetime(2012, 1, 1, tzinfo=TZ_SP).date()    # mais antigo\n",
    "OUT_DIR = Path(r\"G:/Drives compartilhados/BOLSA_2026/a_bolsa2026_gemini/00_data/01_bruto\")\n",
    "OUT_DIR.mkdir(parents=True, exist_ok=True)\n",
    "print(\"OUT_DIR =\", OUT_DIR)\n"
   ]
  },
  {
   "cell_type": "code",
   "execution_count": 2,
   "id": "6416bd74",
   "metadata": {},
   "outputs": [
    {
     "name": "stdout",
     "output_type": "stream",
     "text": [
      "24 B3 + 7 indicadores\n"
     ]
    }
   ],
   "source": [
    "# 2) Lista dos 24 B3 (.SA) e 7 indicadores\n",
    "TICKERS_B3 = [\n",
    "    \"ABEV3.SA\", \"B3SA3.SA\", \"BBAS3.SA\", \"CSNA3.SA\", \"CPLE6.SA\", \"ELET3.SA\", \"GGBR4.SA\",\n",
    "    \"HAPV3.SA\", \"ITUB4.SA\", \"LREN3.SA\", \"PETR4.SA\", \"PRIO3.SA\", \"PSSA3.SA\", \"RAIL3.SA\",\n",
    "    \"RDOR3.SA\", \"SBSP3.SA\", \"SUZB3.SA\", \"TAEE11.SA\", \"TIMS3.SA\", \"UGPA3.SA\", \"VALE3.SA\",\n",
    "    \"VIVT3.SA\", \"WEGE3.SA\", \"TOTS3.SA\"\n",
    "]\n",
    "INDICATORS = {\n",
    "    \"^BVSP\": \"_bvsp\",\n",
    "    \"EWZ\": \"ewz\",\n",
    "    \"^GSPC\": \"_gspc\",\n",
    "    \"^VIX\": \"_vix\",\n",
    "    \"DX-Y.NYB\": \"dx-y.nyb\",\n",
    "    \"^TNX\": \"_tnx\",\n",
    "    \"BZ=F\": \"bz=f\",\n",
    "}\n",
    "print(len(TICKERS_B3), \"B3 +\", len(INDICATORS), \"indicadores\")"
   ]
  },
  {
   "cell_type": "code",
   "execution_count": 5,
   "id": "f0f0dbb6",
   "metadata": {},
   "outputs": [],
   "source": [
    "# 3) Utilitários de datas/normalização e coletores (investpy + yfinance)\n",
    "\n",
    "def sp_date(d: datetime | str):\n",
    "    if isinstance(d, str):\n",
    "        return datetime.fromisoformat(d).date()\n",
    "    return d.date() if isinstance(d, datetime) else d\n",
    "\n",
    "def clamp_window(min_str=\"2012-01-01\", max_str=\"2025-09-20\"):\n",
    "    dmin = datetime.fromisoformat(min_str).date()\n",
    "    dmax = datetime.fromisoformat(max_str).date()\n",
    "    return dmin, dmax\n",
    "\n",
    "CUT_MIN, CUT_MAX = clamp_window(\"2012-01-01\", \"2025-09-20\")\n",
    "\n",
    "def to_investing_symbol(b3_symbol: str) -> str:\n",
    "    return b3_symbol.upper().replace('.SA','')\n",
    "\n",
    "\n",
    "def _to_dtindex_sp(values) -> pd.DatetimeIndex:\n",
    "    idx = pd.DatetimeIndex(pd.to_datetime(values))\n",
    "    if idx.tz is None:\n",
    "        idx = idx.tz_localize(TZ_SP)\n",
    "    else:\n",
    "        idx = idx.tz_convert(TZ_SP)\n",
    "    return idx\n",
    "\n",
    "\n",
    "def normalize_df(df: pd.DataFrame, ticker_label: str) -> pd.DataFrame:\n",
    "    rename = {\"Date\":\"date\",\"Open\":\"open\",\"High\":\"high\",\"Low\":\"low\",\"Close\":\"close\",\"Adj Close\":\"adj_close\",\"Volume\":\"volume\"}\n",
    "    df = df.rename(columns=rename)\n",
    "    # construir datetime_sp em TZ_SP\n",
    "    if 'date' in df.columns:\n",
    "        dt_idx = _to_dtindex_sp(df['date'])\n",
    "    elif 'Date' in df.columns:\n",
    "        dt_idx = _to_dtindex_sp(df['Date'])\n",
    "    else:\n",
    "        dt_idx = _to_dtindex_sp(df.index)\n",
    "    out = df.reset_index(drop=True)\n",
    "    ts = pd.Series(dt_idx)\n",
    "    out['datetime_sp'] = ts.values\n",
    "    out['date'] = pd.to_datetime(ts).dt.date.astype(str)\n",
    "    out['ticker'] = ticker_label\n",
    "    # recorte da janela\n",
    "    out = out[(out['date'] >= CUT_MIN.strftime('%Y-%m-%d')) & (out['date'] <= CUT_MAX.strftime('%Y-%m-%d'))]\n",
    "    # garantir colunas essenciais\n",
    "    for c in [\"open\",\"high\",\"low\",\"close\",\"volume\"]:\n",
    "        if c not in out.columns:\n",
    "            out[c] = pd.NA\n",
    "    out = out[[\"ticker\",\"date\",\"open\",\"high\",\"low\",\"close\",\"volume\",\"datetime_sp\"]]\n",
    "    out.drop_duplicates(subset=[\"ticker\",\"date\"], inplace=True)\n",
    "    return out\n",
    "\n",
    "\n",
    "def fetch_b3(b3_symbol: str) -> pd.DataFrame:\n",
    "    \"\"\"Tenta investpy; se falhar, cai para yfinance (útil para TIMS3/RDOR3).\"\"\"\n",
    "    sym = to_investing_symbol(b3_symbol)\n",
    "    f_str = CUT_MIN.strftime('%d/%m/%Y'); t_str = CUT_MAX.strftime('%d/%m/%Y')\n",
    "    try:\n",
    "        # tenta via search_quotes\n",
    "        res = investpy.search_quotes(text=sym, products=['stocks'], countries=['brazil'])\n",
    "        qlist = res if isinstance(res, list) else ([res] if res else [])\n",
    "        if qlist:\n",
    "            pick = next((q for q in qlist if getattr(q,'symbol','').upper()==sym.upper()), qlist[0])\n",
    "            df = pick.retrieve_historical_data(from_date=f_str, to_date=t_str, as_json=False, order='descending')\n",
    "            if df is not None and not df.empty:\n",
    "                return normalize_df(df, b3_symbol.upper())\n",
    "        # fallback investpy direto\n",
    "        df = investpy.get_stock_historical_data(stock=sym, country='brazil', from_date=f_str, to_date=t_str, as_json=False, order='descending')\n",
    "        if df is not None and not df.empty:\n",
    "            return normalize_df(df, b3_symbol.upper())\n",
    "    except Exception:\n",
    "        pass\n",
    "    # yfinance fallback\n",
    "    tkr = yf.Ticker(b3_symbol)\n",
    "    df = tkr.history(start=CUT_MIN.strftime('%Y-%m-%d'), end=(CUT_MAX + timedelta(days=1)).strftime('%Y-%m-%d'), interval='1d', auto_adjust=False)\n",
    "    if df is None or df.empty:\n",
    "        raise RuntimeError(f\"Sem dados para {b3_symbol}\")\n",
    "    return normalize_df(df, b3_symbol.upper())\n",
    "\n",
    "\n",
    "def fetch_indicator(yf_symbol: str, db_symbol: str) -> pd.DataFrame:\n",
    "    tkr = yf.Ticker(yf_symbol)\n",
    "    df = tkr.history(start=CUT_MIN.strftime('%Y-%m-%d'), end=(CUT_MAX + timedelta(days=1)).strftime('%Y-%m-%d'), interval='1d', auto_adjust=False)\n",
    "    if df is None or df.empty:\n",
    "        raise RuntimeError(f\"Sem dados para {yf_symbol}\")\n",
    "    return normalize_df(df, db_symbol)\n",
    "\n",
    "\n",
    "def save_parquet(df: pd.DataFrame, out_path: Path):\n",
    "    if df is None or df.empty:\n",
    "        raise ValueError(\"DF vazio.\")\n",
    "    out_path.parent.mkdir(parents=True, exist_ok=True)\n",
    "    df.to_parquet(out_path, index=False)\n",
    "    return out_path"
   ]
  },
  {
   "cell_type": "code",
   "execution_count": 6,
   "id": "bee1eb37",
   "metadata": {},
   "outputs": [
    {
     "name": "stderr",
     "output_type": "stream",
     "text": [
      "B3 .SA: 100%|██████████| 24/24 [00:15<00:00,  1.56it/s]"
     ]
    },
    {
     "name": "stdout",
     "output_type": "stream",
     "text": [
      "B3 OK: 24 Falhas: 0\n"
     ]
    },
    {
     "name": "stderr",
     "output_type": "stream",
     "text": [
      "\n"
     ]
    },
    {
     "data": {
      "text/plain": [
       "([('ABEV3.SA',\n",
       "   3409,\n",
       "   'G:\\\\Drives compartilhados\\\\BOLSA_2026\\\\a_bolsa2026_gemini\\\\00_data\\\\01_bruto\\\\abev3_sa_1d.parquet'),\n",
       "  ('B3SA3.SA',\n",
       "   3409,\n",
       "   'G:\\\\Drives compartilhados\\\\BOLSA_2026\\\\a_bolsa2026_gemini\\\\00_data\\\\01_bruto\\\\b3sa3_sa_1d.parquet'),\n",
       "  ('BBAS3.SA',\n",
       "   3409,\n",
       "   'G:\\\\Drives compartilhados\\\\BOLSA_2026\\\\a_bolsa2026_gemini\\\\00_data\\\\01_bruto\\\\bbas3_sa_1d.parquet'),\n",
       "  ('CSNA3.SA',\n",
       "   3409,\n",
       "   'G:\\\\Drives compartilhados\\\\BOLSA_2026\\\\a_bolsa2026_gemini\\\\00_data\\\\01_bruto\\\\csna3_sa_1d.parquet'),\n",
       "  ('CPLE6.SA',\n",
       "   3408,\n",
       "   'G:\\\\Drives compartilhados\\\\BOLSA_2026\\\\a_bolsa2026_gemini\\\\00_data\\\\01_bruto\\\\cple6_sa_1d.parquet')],\n",
       " [])"
      ]
     },
     "execution_count": 6,
     "metadata": {},
     "output_type": "execute_result"
    }
   ],
   "source": [
    "# 4) Coleta B3 (24 .SA) — do mais recente (20/09/2025) ao mais antigo (>= 01/01/2012)\n",
    "results = []\n",
    "errors = []\n",
    "for tk in tqdm(TICKERS_B3, desc='B3 .SA'):\n",
    "    try:\n",
    "        df = fetch_b3(tk)\n",
    "        out = OUT_DIR / f\"{tk.replace('.','_').lower()}_1d.parquet\"\n",
    "        save_parquet(df, out)\n",
    "        results.append((tk, len(df), str(out)))\n",
    "    except Exception as e:\n",
    "        errors.append((tk, str(e)))\n",
    "        time.sleep(0.5)\n",
    "\n",
    "print('B3 OK:', len(results), 'Falhas:', len(errors))\n",
    "results[:5], errors[:5]"
   ]
  },
  {
   "cell_type": "code",
   "execution_count": 7,
   "id": "d0d4a892",
   "metadata": {},
   "outputs": [
    {
     "name": "stderr",
     "output_type": "stream",
     "text": [
      "Indicadores: 100%|██████████| 7/7 [00:03<00:00,  1.95it/s]"
     ]
    },
    {
     "name": "stdout",
     "output_type": "stream",
     "text": [
      "Indicadores OK: 7 Falhas: 0\n"
     ]
    },
    {
     "name": "stderr",
     "output_type": "stream",
     "text": [
      "\n"
     ]
    },
    {
     "data": {
      "text/plain": [
       "([('^BVSP',\n",
       "   '_bvsp',\n",
       "   3400,\n",
       "   'G:\\\\Drives compartilhados\\\\BOLSA_2026\\\\a_bolsa2026_gemini\\\\00_data\\\\01_bruto\\\\_bvsp_1d.parquet'),\n",
       "  ('EWZ',\n",
       "   'ewz',\n",
       "   3449,\n",
       "   'G:\\\\Drives compartilhados\\\\BOLSA_2026\\\\a_bolsa2026_gemini\\\\00_data\\\\01_bruto\\\\ewz_1d.parquet'),\n",
       "  ('^GSPC',\n",
       "   '_gspc',\n",
       "   3449,\n",
       "   'G:\\\\Drives compartilhados\\\\BOLSA_2026\\\\a_bolsa2026_gemini\\\\00_data\\\\01_bruto\\\\_gspc_1d.parquet'),\n",
       "  ('^VIX',\n",
       "   '_vix',\n",
       "   3449,\n",
       "   'G:\\\\Drives compartilhados\\\\BOLSA_2026\\\\a_bolsa2026_gemini\\\\00_data\\\\01_bruto\\\\_vix_1d.parquet'),\n",
       "  ('DX-Y.NYB',\n",
       "   'dx-y.nyb',\n",
       "   3450,\n",
       "   'G:\\\\Drives compartilhados\\\\BOLSA_2026\\\\a_bolsa2026_gemini\\\\00_data\\\\01_bruto\\\\dx-y_nyb_1d.parquet')],\n",
       " [])"
      ]
     },
     "execution_count": 7,
     "metadata": {},
     "output_type": "execute_result"
    }
   ],
   "source": [
    "# 5) Coleta indicadores/ETF/commodities (7) via yfinance\n",
    "res_i = []\n",
    "err_i = []\n",
    "for yf_sym, db_sym in tqdm(list(INDICATORS.items()), desc='Indicadores'):\n",
    "    try:\n",
    "        df = fetch_indicator(yf_sym, db_sym)\n",
    "        out = OUT_DIR / f\"{db_sym.replace('.','_').lower()}_1d.parquet\"\n",
    "        save_parquet(df, out)\n",
    "        res_i.append((yf_sym, db_sym, len(df), str(out)))\n",
    "    except Exception as e:\n",
    "        err_i.append((yf_sym, str(e)))\n",
    "        time.sleep(0.5)\n",
    "\n",
    "print('Indicadores OK:', len(res_i), 'Falhas:', len(err_i))\n",
    "res_i[:5], err_i[:5]"
   ]
  },
  {
   "cell_type": "code",
   "execution_count": 8,
   "id": "ff13e0f3",
   "metadata": {},
   "outputs": [
    {
     "name": "stdout",
     "output_type": "stream",
     "text": [
      "=== 01_bruto ===\n",
      "[01_bruto] abev3_sa_1d.parquet -> exists=True\n",
      " path: G:\\Drives compartilhados\\BOLSA_2026\\a_bolsa2026_gemini\\00_data\\01_bruto\\abev3_sa_1d.parquet\n",
      " rows: 3414 date: 2012-01-02 -> 2025-09-26\n",
      " tz(datetime_sp): None\n",
      " columns: ['ticker', 'date', 'open', 'high', 'low', 'close', 'volume', 'datetime_sp']\n",
      " dtypes: {'ticker': 'object', 'date': 'object', 'open': 'float64', 'high': 'float64', 'low': 'float64', 'close': 'float64', 'volume': 'int64', 'datetime_sp': 'datetime64[ns]'}\n"
     ]
    },
    {
     "data": {
      "application/vnd.microsoft.datawrangler.viewer.v0+json": {
       "columns": [
        {
         "name": "index",
         "rawType": "int64",
         "type": "integer"
        },
        {
         "name": "ticker",
         "rawType": "object",
         "type": "string"
        },
        {
         "name": "date",
         "rawType": "object",
         "type": "string"
        },
        {
         "name": "open",
         "rawType": "float64",
         "type": "float"
        },
        {
         "name": "high",
         "rawType": "float64",
         "type": "float"
        },
        {
         "name": "low",
         "rawType": "float64",
         "type": "float"
        },
        {
         "name": "close",
         "rawType": "float64",
         "type": "float"
        },
        {
         "name": "volume",
         "rawType": "int64",
         "type": "integer"
        },
        {
         "name": "datetime_sp",
         "rawType": "datetime64[ns]",
         "type": "datetime"
        }
       ],
       "ref": "a7168923-5b58-49b8-a433-11bb3c0c445c",
       "rows": [
        [
         "0",
         "ABEV3.SA",
         "2012-01-02",
         "10.890462875366211",
         "10.980400085449219",
         "10.746562004089355",
         "10.872474670410156",
         "119582",
         "2012-01-02 02:00:00"
        ],
        [
         "1",
         "ABEV3.SA",
         "2012-01-03",
         "10.892460823059082",
         "10.946423530578613",
         "10.65462589263916",
         "10.748560905456543",
         "2099952",
         "2012-01-03 02:00:00"
        ]
       ],
       "shape": {
        "columns": 8,
        "rows": 2
       }
      },
      "text/html": [
       "<div>\n",
       "<style scoped>\n",
       "    .dataframe tbody tr th:only-of-type {\n",
       "        vertical-align: middle;\n",
       "    }\n",
       "\n",
       "    .dataframe tbody tr th {\n",
       "        vertical-align: top;\n",
       "    }\n",
       "\n",
       "    .dataframe thead th {\n",
       "        text-align: right;\n",
       "    }\n",
       "</style>\n",
       "<table border=\"1\" class=\"dataframe\">\n",
       "  <thead>\n",
       "    <tr style=\"text-align: right;\">\n",
       "      <th></th>\n",
       "      <th>ticker</th>\n",
       "      <th>date</th>\n",
       "      <th>open</th>\n",
       "      <th>high</th>\n",
       "      <th>low</th>\n",
       "      <th>close</th>\n",
       "      <th>volume</th>\n",
       "      <th>datetime_sp</th>\n",
       "    </tr>\n",
       "  </thead>\n",
       "  <tbody>\n",
       "    <tr>\n",
       "      <th>0</th>\n",
       "      <td>ABEV3.SA</td>\n",
       "      <td>2012-01-02</td>\n",
       "      <td>10.890463</td>\n",
       "      <td>10.980400</td>\n",
       "      <td>10.746562</td>\n",
       "      <td>10.872475</td>\n",
       "      <td>119582</td>\n",
       "      <td>2012-01-02 02:00:00</td>\n",
       "    </tr>\n",
       "    <tr>\n",
       "      <th>1</th>\n",
       "      <td>ABEV3.SA</td>\n",
       "      <td>2012-01-03</td>\n",
       "      <td>10.892461</td>\n",
       "      <td>10.946424</td>\n",
       "      <td>10.654626</td>\n",
       "      <td>10.748561</td>\n",
       "      <td>2099952</td>\n",
       "      <td>2012-01-03 02:00:00</td>\n",
       "    </tr>\n",
       "  </tbody>\n",
       "</table>\n",
       "</div>"
      ],
      "text/plain": [
       "     ticker        date       open       high        low      close   volume  \\\n",
       "0  ABEV3.SA  2012-01-02  10.890463  10.980400  10.746562  10.872475   119582   \n",
       "1  ABEV3.SA  2012-01-03  10.892461  10.946424  10.654626  10.748561  2099952   \n",
       "\n",
       "          datetime_sp  \n",
       "0 2012-01-02 02:00:00  \n",
       "1 2012-01-03 02:00:00  "
      ]
     },
     "metadata": {},
     "output_type": "display_data"
    },
    {
     "name": "stdout",
     "output_type": "stream",
     "text": [
      "\n",
      "[01_bruto] itub4_sa_1d.parquet -> exists=True\n",
      " path: G:\\Drives compartilhados\\BOLSA_2026\\a_bolsa2026_gemini\\00_data\\01_bruto\\itub4_sa_1d.parquet\n",
      " rows: 3415 date: 2012-01-02 -> 2025-09-29\n",
      " tz(datetime_sp): None\n",
      " columns: ['ticker', 'date', 'open', 'high', 'low', 'close', 'volume', 'datetime_sp']\n",
      " dtypes: {'ticker': 'object', 'date': 'object', 'open': 'float64', 'high': 'float64', 'low': 'float64', 'close': 'float64', 'volume': 'int64', 'datetime_sp': 'datetime64[ns]'}\n"
     ]
    },
    {
     "data": {
      "application/vnd.microsoft.datawrangler.viewer.v0+json": {
       "columns": [
        {
         "name": "index",
         "rawType": "int64",
         "type": "integer"
        },
        {
         "name": "ticker",
         "rawType": "object",
         "type": "string"
        },
        {
         "name": "date",
         "rawType": "object",
         "type": "string"
        },
        {
         "name": "open",
         "rawType": "float64",
         "type": "float"
        },
        {
         "name": "high",
         "rawType": "float64",
         "type": "float"
        },
        {
         "name": "low",
         "rawType": "float64",
         "type": "float"
        },
        {
         "name": "close",
         "rawType": "float64",
         "type": "float"
        },
        {
         "name": "volume",
         "rawType": "int64",
         "type": "integer"
        },
        {
         "name": "datetime_sp",
         "rawType": "datetime64[ns]",
         "type": "datetime"
        }
       ],
       "ref": "6c973700-c773-4d14-b079-df9be66059d1",
       "rows": [
        [
         "0",
         "ITUB4.SA",
         "2012-01-02",
         "14.165285110473633",
         "14.177702903747559",
         "13.867241859436035",
         "14.086634635925293",
         "8201763",
         "2012-01-02 02:00:00"
        ],
        [
         "1",
         "ITUB4.SA",
         "2012-01-03",
         "14.107332229614258",
         "14.43848991394043",
         "14.107332229614258",
         "14.43848991394043",
         "15453407",
         "2012-01-03 02:00:00"
        ]
       ],
       "shape": {
        "columns": 8,
        "rows": 2
       }
      },
      "text/html": [
       "<div>\n",
       "<style scoped>\n",
       "    .dataframe tbody tr th:only-of-type {\n",
       "        vertical-align: middle;\n",
       "    }\n",
       "\n",
       "    .dataframe tbody tr th {\n",
       "        vertical-align: top;\n",
       "    }\n",
       "\n",
       "    .dataframe thead th {\n",
       "        text-align: right;\n",
       "    }\n",
       "</style>\n",
       "<table border=\"1\" class=\"dataframe\">\n",
       "  <thead>\n",
       "    <tr style=\"text-align: right;\">\n",
       "      <th></th>\n",
       "      <th>ticker</th>\n",
       "      <th>date</th>\n",
       "      <th>open</th>\n",
       "      <th>high</th>\n",
       "      <th>low</th>\n",
       "      <th>close</th>\n",
       "      <th>volume</th>\n",
       "      <th>datetime_sp</th>\n",
       "    </tr>\n",
       "  </thead>\n",
       "  <tbody>\n",
       "    <tr>\n",
       "      <th>0</th>\n",
       "      <td>ITUB4.SA</td>\n",
       "      <td>2012-01-02</td>\n",
       "      <td>14.165285</td>\n",
       "      <td>14.177703</td>\n",
       "      <td>13.867242</td>\n",
       "      <td>14.086635</td>\n",
       "      <td>8201763</td>\n",
       "      <td>2012-01-02 02:00:00</td>\n",
       "    </tr>\n",
       "    <tr>\n",
       "      <th>1</th>\n",
       "      <td>ITUB4.SA</td>\n",
       "      <td>2012-01-03</td>\n",
       "      <td>14.107332</td>\n",
       "      <td>14.438490</td>\n",
       "      <td>14.107332</td>\n",
       "      <td>14.438490</td>\n",
       "      <td>15453407</td>\n",
       "      <td>2012-01-03 02:00:00</td>\n",
       "    </tr>\n",
       "  </tbody>\n",
       "</table>\n",
       "</div>"
      ],
      "text/plain": [
       "     ticker        date       open       high        low      close    volume  \\\n",
       "0  ITUB4.SA  2012-01-02  14.165285  14.177703  13.867242  14.086635   8201763   \n",
       "1  ITUB4.SA  2012-01-03  14.107332  14.438490  14.107332  14.438490  15453407   \n",
       "\n",
       "          datetime_sp  \n",
       "0 2012-01-02 02:00:00  \n",
       "1 2012-01-03 02:00:00  "
      ]
     },
     "metadata": {},
     "output_type": "display_data"
    },
    {
     "name": "stdout",
     "output_type": "stream",
     "text": [
      "\n",
      "[01_bruto] petr4_sa_1d.parquet -> exists=True\n",
      " path: G:\\Drives compartilhados\\BOLSA_2026\\a_bolsa2026_gemini\\00_data\\01_bruto\\petr4_sa_1d.parquet\n",
      " rows: 3415 date: 2012-01-02 -> 2025-09-29\n",
      " tz(datetime_sp): None\n",
      " columns: ['ticker', 'date', 'open', 'high', 'low', 'close', 'volume', 'datetime_sp']\n",
      " dtypes: {'ticker': 'object', 'date': 'object', 'open': 'float64', 'high': 'float64', 'low': 'float64', 'close': 'float64', 'volume': 'int64', 'datetime_sp': 'datetime64[ns]'}\n"
     ]
    },
    {
     "data": {
      "application/vnd.microsoft.datawrangler.viewer.v0+json": {
       "columns": [
        {
         "name": "index",
         "rawType": "int64",
         "type": "integer"
        },
        {
         "name": "ticker",
         "rawType": "object",
         "type": "string"
        },
        {
         "name": "date",
         "rawType": "object",
         "type": "string"
        },
        {
         "name": "open",
         "rawType": "float64",
         "type": "float"
        },
        {
         "name": "high",
         "rawType": "float64",
         "type": "float"
        },
        {
         "name": "low",
         "rawType": "float64",
         "type": "float"
        },
        {
         "name": "close",
         "rawType": "float64",
         "type": "float"
        },
        {
         "name": "volume",
         "rawType": "int64",
         "type": "integer"
        },
        {
         "name": "datetime_sp",
         "rawType": "datetime64[ns]",
         "type": "datetime"
        }
       ],
       "ref": "8f25011d-f1db-49e7-8bc3-85967928da9c",
       "rows": [
        [
         "0",
         "PETR4.SA",
         "2012-01-02",
         "21.510000228881836",
         "22.1200008392334",
         "21.260000228881836",
         "21.729999542236328",
         "20391300",
         "2012-01-02 02:00:00"
        ],
        [
         "1",
         "PETR4.SA",
         "2012-01-03",
         "21.829999923706055",
         "22.40999984741211",
         "21.809999465942383",
         "22.40999984741211",
         "22940500",
         "2012-01-03 02:00:00"
        ]
       ],
       "shape": {
        "columns": 8,
        "rows": 2
       }
      },
      "text/html": [
       "<div>\n",
       "<style scoped>\n",
       "    .dataframe tbody tr th:only-of-type {\n",
       "        vertical-align: middle;\n",
       "    }\n",
       "\n",
       "    .dataframe tbody tr th {\n",
       "        vertical-align: top;\n",
       "    }\n",
       "\n",
       "    .dataframe thead th {\n",
       "        text-align: right;\n",
       "    }\n",
       "</style>\n",
       "<table border=\"1\" class=\"dataframe\">\n",
       "  <thead>\n",
       "    <tr style=\"text-align: right;\">\n",
       "      <th></th>\n",
       "      <th>ticker</th>\n",
       "      <th>date</th>\n",
       "      <th>open</th>\n",
       "      <th>high</th>\n",
       "      <th>low</th>\n",
       "      <th>close</th>\n",
       "      <th>volume</th>\n",
       "      <th>datetime_sp</th>\n",
       "    </tr>\n",
       "  </thead>\n",
       "  <tbody>\n",
       "    <tr>\n",
       "      <th>0</th>\n",
       "      <td>PETR4.SA</td>\n",
       "      <td>2012-01-02</td>\n",
       "      <td>21.51</td>\n",
       "      <td>22.120001</td>\n",
       "      <td>21.260000</td>\n",
       "      <td>21.73</td>\n",
       "      <td>20391300</td>\n",
       "      <td>2012-01-02 02:00:00</td>\n",
       "    </tr>\n",
       "    <tr>\n",
       "      <th>1</th>\n",
       "      <td>PETR4.SA</td>\n",
       "      <td>2012-01-03</td>\n",
       "      <td>21.83</td>\n",
       "      <td>22.410000</td>\n",
       "      <td>21.809999</td>\n",
       "      <td>22.41</td>\n",
       "      <td>22940500</td>\n",
       "      <td>2012-01-03 02:00:00</td>\n",
       "    </tr>\n",
       "  </tbody>\n",
       "</table>\n",
       "</div>"
      ],
      "text/plain": [
       "     ticker        date   open       high        low  close    volume  \\\n",
       "0  PETR4.SA  2012-01-02  21.51  22.120001  21.260000  21.73  20391300   \n",
       "1  PETR4.SA  2012-01-03  21.83  22.410000  21.809999  22.41  22940500   \n",
       "\n",
       "          datetime_sp  \n",
       "0 2012-01-02 02:00:00  \n",
       "1 2012-01-03 02:00:00  "
      ]
     },
     "metadata": {},
     "output_type": "display_data"
    },
    {
     "name": "stdout",
     "output_type": "stream",
     "text": [
      "\n",
      "[01_bruto] _bvsp_1d.parquet -> exists=True\n",
      " path: G:\\Drives compartilhados\\BOLSA_2026\\a_bolsa2026_gemini\\00_data\\01_bruto\\_bvsp_1d.parquet\n",
      " rows: 3407 date: 2012-01-03 -> 2025-09-30\n",
      " tz(datetime_sp): None\n",
      " columns: ['ticker', 'date', 'open', 'high', 'low', 'close', 'volume', 'datetime_sp']\n",
      " dtypes: {'ticker': 'object', 'date': 'object', 'open': 'float64', 'high': 'float64', 'low': 'float64', 'close': 'float64', 'volume': 'int64', 'datetime_sp': 'datetime64[ns]'}\n"
     ]
    },
    {
     "data": {
      "application/vnd.microsoft.datawrangler.viewer.v0+json": {
       "columns": [
        {
         "name": "index",
         "rawType": "int64",
         "type": "integer"
        },
        {
         "name": "ticker",
         "rawType": "object",
         "type": "string"
        },
        {
         "name": "date",
         "rawType": "object",
         "type": "string"
        },
        {
         "name": "open",
         "rawType": "float64",
         "type": "float"
        },
        {
         "name": "high",
         "rawType": "float64",
         "type": "float"
        },
        {
         "name": "low",
         "rawType": "float64",
         "type": "float"
        },
        {
         "name": "close",
         "rawType": "float64",
         "type": "float"
        },
        {
         "name": "volume",
         "rawType": "int64",
         "type": "integer"
        },
        {
         "name": "datetime_sp",
         "rawType": "datetime64[ns]",
         "type": "datetime"
        }
       ],
       "ref": "1037b902-5c63-4688-9f39-225ef9581908",
       "rows": [
        [
         "0",
         "_bvsp",
         "2012-01-03",
         "57836.0",
         "59288.0",
         "57836.0",
         "59265.0",
         "3083000",
         "2012-01-03 02:00:00"
        ],
        [
         "1",
         "_bvsp",
         "2012-01-04",
         "59263.0",
         "59519.0",
         "58558.0",
         "59365.0",
         "2252000",
         "2012-01-04 02:00:00"
        ]
       ],
       "shape": {
        "columns": 8,
        "rows": 2
       }
      },
      "text/html": [
       "<div>\n",
       "<style scoped>\n",
       "    .dataframe tbody tr th:only-of-type {\n",
       "        vertical-align: middle;\n",
       "    }\n",
       "\n",
       "    .dataframe tbody tr th {\n",
       "        vertical-align: top;\n",
       "    }\n",
       "\n",
       "    .dataframe thead th {\n",
       "        text-align: right;\n",
       "    }\n",
       "</style>\n",
       "<table border=\"1\" class=\"dataframe\">\n",
       "  <thead>\n",
       "    <tr style=\"text-align: right;\">\n",
       "      <th></th>\n",
       "      <th>ticker</th>\n",
       "      <th>date</th>\n",
       "      <th>open</th>\n",
       "      <th>high</th>\n",
       "      <th>low</th>\n",
       "      <th>close</th>\n",
       "      <th>volume</th>\n",
       "      <th>datetime_sp</th>\n",
       "    </tr>\n",
       "  </thead>\n",
       "  <tbody>\n",
       "    <tr>\n",
       "      <th>0</th>\n",
       "      <td>_bvsp</td>\n",
       "      <td>2012-01-03</td>\n",
       "      <td>57836.0</td>\n",
       "      <td>59288.0</td>\n",
       "      <td>57836.0</td>\n",
       "      <td>59265.0</td>\n",
       "      <td>3083000</td>\n",
       "      <td>2012-01-03 02:00:00</td>\n",
       "    </tr>\n",
       "    <tr>\n",
       "      <th>1</th>\n",
       "      <td>_bvsp</td>\n",
       "      <td>2012-01-04</td>\n",
       "      <td>59263.0</td>\n",
       "      <td>59519.0</td>\n",
       "      <td>58558.0</td>\n",
       "      <td>59365.0</td>\n",
       "      <td>2252000</td>\n",
       "      <td>2012-01-04 02:00:00</td>\n",
       "    </tr>\n",
       "  </tbody>\n",
       "</table>\n",
       "</div>"
      ],
      "text/plain": [
       "  ticker        date     open     high      low    close   volume  \\\n",
       "0  _bvsp  2012-01-03  57836.0  59288.0  57836.0  59265.0  3083000   \n",
       "1  _bvsp  2012-01-04  59263.0  59519.0  58558.0  59365.0  2252000   \n",
       "\n",
       "          datetime_sp  \n",
       "0 2012-01-03 02:00:00  \n",
       "1 2012-01-04 02:00:00  "
      ]
     },
     "metadata": {},
     "output_type": "display_data"
    },
    {
     "name": "stdout",
     "output_type": "stream",
     "text": [
      "\n",
      "[01_bruto] ewz_1d.parquet -> exists=True\n",
      " path: G:\\Drives compartilhados\\BOLSA_2026\\a_bolsa2026_gemini\\00_data\\01_bruto\\ewz_1d.parquet\n",
      " rows: 3456 date: 2012-01-03 -> 2025-09-30\n",
      " tz(datetime_sp): None\n",
      " columns: ['ticker', 'date', 'open', 'high', 'low', 'close', 'volume', 'datetime_sp']\n",
      " dtypes: {'ticker': 'object', 'date': 'object', 'open': 'float64', 'high': 'float64', 'low': 'float64', 'close': 'float64', 'volume': 'int64', 'datetime_sp': 'datetime64[ns]'}\n"
     ]
    },
    {
     "data": {
      "application/vnd.microsoft.datawrangler.viewer.v0+json": {
       "columns": [
        {
         "name": "index",
         "rawType": "int64",
         "type": "integer"
        },
        {
         "name": "ticker",
         "rawType": "object",
         "type": "string"
        },
        {
         "name": "date",
         "rawType": "object",
         "type": "string"
        },
        {
         "name": "open",
         "rawType": "float64",
         "type": "float"
        },
        {
         "name": "high",
         "rawType": "float64",
         "type": "float"
        },
        {
         "name": "low",
         "rawType": "float64",
         "type": "float"
        },
        {
         "name": "close",
         "rawType": "float64",
         "type": "float"
        },
        {
         "name": "volume",
         "rawType": "int64",
         "type": "integer"
        },
        {
         "name": "datetime_sp",
         "rawType": "datetime64[ns]",
         "type": "datetime"
        }
       ],
       "ref": "34428c3b-6821-499d-aef9-9fe10125a39b",
       "rows": [
        [
         "0",
         "ewz",
         "2012-01-03",
         "59.099998474121094",
         "60.11000061035156",
         "59.060001373291016",
         "59.70000076293945",
         "20052500",
         "2012-01-03 05:00:00"
        ],
        [
         "1",
         "ewz",
         "2012-01-04",
         "59.58000183105469",
         "60.470001220703125",
         "59.560001373291016",
         "59.91999816894531",
         "11113200",
         "2012-01-04 05:00:00"
        ]
       ],
       "shape": {
        "columns": 8,
        "rows": 2
       }
      },
      "text/html": [
       "<div>\n",
       "<style scoped>\n",
       "    .dataframe tbody tr th:only-of-type {\n",
       "        vertical-align: middle;\n",
       "    }\n",
       "\n",
       "    .dataframe tbody tr th {\n",
       "        vertical-align: top;\n",
       "    }\n",
       "\n",
       "    .dataframe thead th {\n",
       "        text-align: right;\n",
       "    }\n",
       "</style>\n",
       "<table border=\"1\" class=\"dataframe\">\n",
       "  <thead>\n",
       "    <tr style=\"text-align: right;\">\n",
       "      <th></th>\n",
       "      <th>ticker</th>\n",
       "      <th>date</th>\n",
       "      <th>open</th>\n",
       "      <th>high</th>\n",
       "      <th>low</th>\n",
       "      <th>close</th>\n",
       "      <th>volume</th>\n",
       "      <th>datetime_sp</th>\n",
       "    </tr>\n",
       "  </thead>\n",
       "  <tbody>\n",
       "    <tr>\n",
       "      <th>0</th>\n",
       "      <td>ewz</td>\n",
       "      <td>2012-01-03</td>\n",
       "      <td>59.099998</td>\n",
       "      <td>60.110001</td>\n",
       "      <td>59.060001</td>\n",
       "      <td>59.700001</td>\n",
       "      <td>20052500</td>\n",
       "      <td>2012-01-03 05:00:00</td>\n",
       "    </tr>\n",
       "    <tr>\n",
       "      <th>1</th>\n",
       "      <td>ewz</td>\n",
       "      <td>2012-01-04</td>\n",
       "      <td>59.580002</td>\n",
       "      <td>60.470001</td>\n",
       "      <td>59.560001</td>\n",
       "      <td>59.919998</td>\n",
       "      <td>11113200</td>\n",
       "      <td>2012-01-04 05:00:00</td>\n",
       "    </tr>\n",
       "  </tbody>\n",
       "</table>\n",
       "</div>"
      ],
      "text/plain": [
       "  ticker        date       open       high        low      close    volume  \\\n",
       "0    ewz  2012-01-03  59.099998  60.110001  59.060001  59.700001  20052500   \n",
       "1    ewz  2012-01-04  59.580002  60.470001  59.560001  59.919998  11113200   \n",
       "\n",
       "          datetime_sp  \n",
       "0 2012-01-03 05:00:00  \n",
       "1 2012-01-04 05:00:00  "
      ]
     },
     "metadata": {},
     "output_type": "display_data"
    },
    {
     "name": "stdout",
     "output_type": "stream",
     "text": [
      "\n",
      "[01_bruto] _gspc_1d.parquet -> exists=True\n",
      " path: G:\\Drives compartilhados\\BOLSA_2026\\a_bolsa2026_gemini\\00_data\\01_bruto\\_gspc_1d.parquet\n",
      " rows: 3456 date: 2012-01-03 -> 2025-09-30\n",
      " tz(datetime_sp): None\n",
      " columns: ['ticker', 'date', 'open', 'high', 'low', 'close', 'volume', 'datetime_sp']\n",
      " dtypes: {'ticker': 'object', 'date': 'object', 'open': 'float64', 'high': 'float64', 'low': 'float64', 'close': 'float64', 'volume': 'int64', 'datetime_sp': 'datetime64[ns]'}\n"
     ]
    },
    {
     "data": {
      "application/vnd.microsoft.datawrangler.viewer.v0+json": {
       "columns": [
        {
         "name": "index",
         "rawType": "int64",
         "type": "integer"
        },
        {
         "name": "ticker",
         "rawType": "object",
         "type": "string"
        },
        {
         "name": "date",
         "rawType": "object",
         "type": "string"
        },
        {
         "name": "open",
         "rawType": "float64",
         "type": "float"
        },
        {
         "name": "high",
         "rawType": "float64",
         "type": "float"
        },
        {
         "name": "low",
         "rawType": "float64",
         "type": "float"
        },
        {
         "name": "close",
         "rawType": "float64",
         "type": "float"
        },
        {
         "name": "volume",
         "rawType": "int64",
         "type": "integer"
        },
        {
         "name": "datetime_sp",
         "rawType": "datetime64[ns]",
         "type": "datetime"
        }
       ],
       "ref": "56f99730-45fe-4a5e-aa88-e540f9c77035",
       "rows": [
        [
         "0",
         "_gspc",
         "2012-01-03",
         "1258.8599853515625",
         "1284.6199951171875",
         "1258.8599853515625",
         "1277.06005859375",
         "3943710000",
         "2012-01-03 05:00:00"
        ],
        [
         "1",
         "_gspc",
         "2012-01-04",
         "1277.030029296875",
         "1278.72998046875",
         "1268.0999755859375",
         "1277.300048828125",
         "3592580000",
         "2012-01-04 05:00:00"
        ]
       ],
       "shape": {
        "columns": 8,
        "rows": 2
       }
      },
      "text/html": [
       "<div>\n",
       "<style scoped>\n",
       "    .dataframe tbody tr th:only-of-type {\n",
       "        vertical-align: middle;\n",
       "    }\n",
       "\n",
       "    .dataframe tbody tr th {\n",
       "        vertical-align: top;\n",
       "    }\n",
       "\n",
       "    .dataframe thead th {\n",
       "        text-align: right;\n",
       "    }\n",
       "</style>\n",
       "<table border=\"1\" class=\"dataframe\">\n",
       "  <thead>\n",
       "    <tr style=\"text-align: right;\">\n",
       "      <th></th>\n",
       "      <th>ticker</th>\n",
       "      <th>date</th>\n",
       "      <th>open</th>\n",
       "      <th>high</th>\n",
       "      <th>low</th>\n",
       "      <th>close</th>\n",
       "      <th>volume</th>\n",
       "      <th>datetime_sp</th>\n",
       "    </tr>\n",
       "  </thead>\n",
       "  <tbody>\n",
       "    <tr>\n",
       "      <th>0</th>\n",
       "      <td>_gspc</td>\n",
       "      <td>2012-01-03</td>\n",
       "      <td>1258.859985</td>\n",
       "      <td>1284.619995</td>\n",
       "      <td>1258.859985</td>\n",
       "      <td>1277.060059</td>\n",
       "      <td>3943710000</td>\n",
       "      <td>2012-01-03 05:00:00</td>\n",
       "    </tr>\n",
       "    <tr>\n",
       "      <th>1</th>\n",
       "      <td>_gspc</td>\n",
       "      <td>2012-01-04</td>\n",
       "      <td>1277.030029</td>\n",
       "      <td>1278.729980</td>\n",
       "      <td>1268.099976</td>\n",
       "      <td>1277.300049</td>\n",
       "      <td>3592580000</td>\n",
       "      <td>2012-01-04 05:00:00</td>\n",
       "    </tr>\n",
       "  </tbody>\n",
       "</table>\n",
       "</div>"
      ],
      "text/plain": [
       "  ticker        date         open         high          low        close  \\\n",
       "0  _gspc  2012-01-03  1258.859985  1284.619995  1258.859985  1277.060059   \n",
       "1  _gspc  2012-01-04  1277.030029  1278.729980  1268.099976  1277.300049   \n",
       "\n",
       "       volume         datetime_sp  \n",
       "0  3943710000 2012-01-03 05:00:00  \n",
       "1  3592580000 2012-01-04 05:00:00  "
      ]
     },
     "metadata": {},
     "output_type": "display_data"
    },
    {
     "name": "stdout",
     "output_type": "stream",
     "text": [
      "\n",
      "=== 02_adequado ===\n",
      "[02_adequado] abev3_sa_1d.parquet -> exists=True\n",
      " path: G:\\Drives compartilhados\\BOLSA_2026\\a_bolsa2026_gemini\\00_data\\02_adequado\\abev3_sa_1d.parquet\n",
      " rows: 3409 date: 2012-01-02 -> 2025-09-19\n",
      " tz(datetime_sp): None\n",
      " columns: ['ticker', 'date', 'open', 'high', 'low', 'close', 'volume', 'datetime_sp']\n",
      " dtypes: {'ticker': 'object', 'date': 'object', 'open': 'float64', 'high': 'float64', 'low': 'float64', 'close': 'float64', 'volume': 'int64', 'datetime_sp': 'datetime64[ns]'}\n"
     ]
    },
    {
     "data": {
      "application/vnd.microsoft.datawrangler.viewer.v0+json": {
       "columns": [
        {
         "name": "index",
         "rawType": "int64",
         "type": "integer"
        },
        {
         "name": "ticker",
         "rawType": "object",
         "type": "string"
        },
        {
         "name": "date",
         "rawType": "object",
         "type": "string"
        },
        {
         "name": "open",
         "rawType": "float64",
         "type": "float"
        },
        {
         "name": "high",
         "rawType": "float64",
         "type": "float"
        },
        {
         "name": "low",
         "rawType": "float64",
         "type": "float"
        },
        {
         "name": "close",
         "rawType": "float64",
         "type": "float"
        },
        {
         "name": "volume",
         "rawType": "int64",
         "type": "integer"
        },
        {
         "name": "datetime_sp",
         "rawType": "datetime64[ns]",
         "type": "datetime"
        }
       ],
       "ref": "fed0e913-8fed-4cef-ac63-745117030dd9",
       "rows": [
        [
         "0",
         "ABEV3.SA",
         "2012-01-02",
         "10.890462875366211",
         "10.980400085449219",
         "10.746562004089355",
         "10.872474670410156",
         "119582",
         "2012-01-02 04:00:00"
        ],
        [
         "1",
         "ABEV3.SA",
         "2012-01-03",
         "10.892460823059082",
         "10.946423530578613",
         "10.65462589263916",
         "10.748560905456543",
         "2099952",
         "2012-01-03 04:00:00"
        ]
       ],
       "shape": {
        "columns": 8,
        "rows": 2
       }
      },
      "text/html": [
       "<div>\n",
       "<style scoped>\n",
       "    .dataframe tbody tr th:only-of-type {\n",
       "        vertical-align: middle;\n",
       "    }\n",
       "\n",
       "    .dataframe tbody tr th {\n",
       "        vertical-align: top;\n",
       "    }\n",
       "\n",
       "    .dataframe thead th {\n",
       "        text-align: right;\n",
       "    }\n",
       "</style>\n",
       "<table border=\"1\" class=\"dataframe\">\n",
       "  <thead>\n",
       "    <tr style=\"text-align: right;\">\n",
       "      <th></th>\n",
       "      <th>ticker</th>\n",
       "      <th>date</th>\n",
       "      <th>open</th>\n",
       "      <th>high</th>\n",
       "      <th>low</th>\n",
       "      <th>close</th>\n",
       "      <th>volume</th>\n",
       "      <th>datetime_sp</th>\n",
       "    </tr>\n",
       "  </thead>\n",
       "  <tbody>\n",
       "    <tr>\n",
       "      <th>0</th>\n",
       "      <td>ABEV3.SA</td>\n",
       "      <td>2012-01-02</td>\n",
       "      <td>10.890463</td>\n",
       "      <td>10.980400</td>\n",
       "      <td>10.746562</td>\n",
       "      <td>10.872475</td>\n",
       "      <td>119582</td>\n",
       "      <td>2012-01-02 04:00:00</td>\n",
       "    </tr>\n",
       "    <tr>\n",
       "      <th>1</th>\n",
       "      <td>ABEV3.SA</td>\n",
       "      <td>2012-01-03</td>\n",
       "      <td>10.892461</td>\n",
       "      <td>10.946424</td>\n",
       "      <td>10.654626</td>\n",
       "      <td>10.748561</td>\n",
       "      <td>2099952</td>\n",
       "      <td>2012-01-03 04:00:00</td>\n",
       "    </tr>\n",
       "  </tbody>\n",
       "</table>\n",
       "</div>"
      ],
      "text/plain": [
       "     ticker        date       open       high        low      close   volume  \\\n",
       "0  ABEV3.SA  2012-01-02  10.890463  10.980400  10.746562  10.872475   119582   \n",
       "1  ABEV3.SA  2012-01-03  10.892461  10.946424  10.654626  10.748561  2099952   \n",
       "\n",
       "          datetime_sp  \n",
       "0 2012-01-02 04:00:00  \n",
       "1 2012-01-03 04:00:00  "
      ]
     },
     "metadata": {},
     "output_type": "display_data"
    },
    {
     "name": "stdout",
     "output_type": "stream",
     "text": [
      "\n",
      "[02_adequado] itub4_sa_1d.parquet -> exists=True\n",
      " path: G:\\Drives compartilhados\\BOLSA_2026\\a_bolsa2026_gemini\\00_data\\02_adequado\\itub4_sa_1d.parquet\n",
      " rows: 3409 date: 2012-01-02 -> 2025-09-19\n",
      " tz(datetime_sp): None\n",
      " columns: ['ticker', 'date', 'open', 'high', 'low', 'close', 'volume', 'datetime_sp']\n",
      " dtypes: {'ticker': 'object', 'date': 'object', 'open': 'float64', 'high': 'float64', 'low': 'float64', 'close': 'float64', 'volume': 'int64', 'datetime_sp': 'datetime64[ns]'}\n"
     ]
    },
    {
     "data": {
      "application/vnd.microsoft.datawrangler.viewer.v0+json": {
       "columns": [
        {
         "name": "index",
         "rawType": "int64",
         "type": "integer"
        },
        {
         "name": "ticker",
         "rawType": "object",
         "type": "string"
        },
        {
         "name": "date",
         "rawType": "object",
         "type": "string"
        },
        {
         "name": "open",
         "rawType": "float64",
         "type": "float"
        },
        {
         "name": "high",
         "rawType": "float64",
         "type": "float"
        },
        {
         "name": "low",
         "rawType": "float64",
         "type": "float"
        },
        {
         "name": "close",
         "rawType": "float64",
         "type": "float"
        },
        {
         "name": "volume",
         "rawType": "int64",
         "type": "integer"
        },
        {
         "name": "datetime_sp",
         "rawType": "datetime64[ns]",
         "type": "datetime"
        }
       ],
       "ref": "aea2176f-aee8-4427-b18a-9bc973a07a16",
       "rows": [
        [
         "0",
         "ITUB4.SA",
         "2012-01-02",
         "14.165285110473633",
         "14.177702903747559",
         "13.867241859436035",
         "14.086634635925293",
         "8201763",
         "2012-01-02 04:00:00"
        ],
        [
         "1",
         "ITUB4.SA",
         "2012-01-03",
         "14.107332229614258",
         "14.43848991394043",
         "14.107332229614258",
         "14.43848991394043",
         "15453407",
         "2012-01-03 04:00:00"
        ]
       ],
       "shape": {
        "columns": 8,
        "rows": 2
       }
      },
      "text/html": [
       "<div>\n",
       "<style scoped>\n",
       "    .dataframe tbody tr th:only-of-type {\n",
       "        vertical-align: middle;\n",
       "    }\n",
       "\n",
       "    .dataframe tbody tr th {\n",
       "        vertical-align: top;\n",
       "    }\n",
       "\n",
       "    .dataframe thead th {\n",
       "        text-align: right;\n",
       "    }\n",
       "</style>\n",
       "<table border=\"1\" class=\"dataframe\">\n",
       "  <thead>\n",
       "    <tr style=\"text-align: right;\">\n",
       "      <th></th>\n",
       "      <th>ticker</th>\n",
       "      <th>date</th>\n",
       "      <th>open</th>\n",
       "      <th>high</th>\n",
       "      <th>low</th>\n",
       "      <th>close</th>\n",
       "      <th>volume</th>\n",
       "      <th>datetime_sp</th>\n",
       "    </tr>\n",
       "  </thead>\n",
       "  <tbody>\n",
       "    <tr>\n",
       "      <th>0</th>\n",
       "      <td>ITUB4.SA</td>\n",
       "      <td>2012-01-02</td>\n",
       "      <td>14.165285</td>\n",
       "      <td>14.177703</td>\n",
       "      <td>13.867242</td>\n",
       "      <td>14.086635</td>\n",
       "      <td>8201763</td>\n",
       "      <td>2012-01-02 04:00:00</td>\n",
       "    </tr>\n",
       "    <tr>\n",
       "      <th>1</th>\n",
       "      <td>ITUB4.SA</td>\n",
       "      <td>2012-01-03</td>\n",
       "      <td>14.107332</td>\n",
       "      <td>14.438490</td>\n",
       "      <td>14.107332</td>\n",
       "      <td>14.438490</td>\n",
       "      <td>15453407</td>\n",
       "      <td>2012-01-03 04:00:00</td>\n",
       "    </tr>\n",
       "  </tbody>\n",
       "</table>\n",
       "</div>"
      ],
      "text/plain": [
       "     ticker        date       open       high        low      close    volume  \\\n",
       "0  ITUB4.SA  2012-01-02  14.165285  14.177703  13.867242  14.086635   8201763   \n",
       "1  ITUB4.SA  2012-01-03  14.107332  14.438490  14.107332  14.438490  15453407   \n",
       "\n",
       "          datetime_sp  \n",
       "0 2012-01-02 04:00:00  \n",
       "1 2012-01-03 04:00:00  "
      ]
     },
     "metadata": {},
     "output_type": "display_data"
    },
    {
     "name": "stdout",
     "output_type": "stream",
     "text": [
      "\n",
      "[02_adequado] petr4_sa_1d.parquet -> exists=True\n",
      " path: G:\\Drives compartilhados\\BOLSA_2026\\a_bolsa2026_gemini\\00_data\\02_adequado\\petr4_sa_1d.parquet\n",
      " rows: 3409 date: 2012-01-02 -> 2025-09-19\n",
      " tz(datetime_sp): None\n",
      " columns: ['ticker', 'date', 'open', 'high', 'low', 'close', 'volume', 'datetime_sp']\n",
      " dtypes: {'ticker': 'object', 'date': 'object', 'open': 'float64', 'high': 'float64', 'low': 'float64', 'close': 'float64', 'volume': 'int64', 'datetime_sp': 'datetime64[ns]'}\n"
     ]
    },
    {
     "data": {
      "application/vnd.microsoft.datawrangler.viewer.v0+json": {
       "columns": [
        {
         "name": "index",
         "rawType": "int64",
         "type": "integer"
        },
        {
         "name": "ticker",
         "rawType": "object",
         "type": "string"
        },
        {
         "name": "date",
         "rawType": "object",
         "type": "string"
        },
        {
         "name": "open",
         "rawType": "float64",
         "type": "float"
        },
        {
         "name": "high",
         "rawType": "float64",
         "type": "float"
        },
        {
         "name": "low",
         "rawType": "float64",
         "type": "float"
        },
        {
         "name": "close",
         "rawType": "float64",
         "type": "float"
        },
        {
         "name": "volume",
         "rawType": "int64",
         "type": "integer"
        },
        {
         "name": "datetime_sp",
         "rawType": "datetime64[ns]",
         "type": "datetime"
        }
       ],
       "ref": "8041d0fe-9ad9-4c54-acf1-8d6edb189815",
       "rows": [
        [
         "0",
         "PETR4.SA",
         "2012-01-02",
         "21.510000228881836",
         "22.1200008392334",
         "21.260000228881836",
         "21.729999542236328",
         "20391300",
         "2012-01-02 04:00:00"
        ],
        [
         "1",
         "PETR4.SA",
         "2012-01-03",
         "21.829999923706055",
         "22.40999984741211",
         "21.809999465942383",
         "22.40999984741211",
         "22940500",
         "2012-01-03 04:00:00"
        ]
       ],
       "shape": {
        "columns": 8,
        "rows": 2
       }
      },
      "text/html": [
       "<div>\n",
       "<style scoped>\n",
       "    .dataframe tbody tr th:only-of-type {\n",
       "        vertical-align: middle;\n",
       "    }\n",
       "\n",
       "    .dataframe tbody tr th {\n",
       "        vertical-align: top;\n",
       "    }\n",
       "\n",
       "    .dataframe thead th {\n",
       "        text-align: right;\n",
       "    }\n",
       "</style>\n",
       "<table border=\"1\" class=\"dataframe\">\n",
       "  <thead>\n",
       "    <tr style=\"text-align: right;\">\n",
       "      <th></th>\n",
       "      <th>ticker</th>\n",
       "      <th>date</th>\n",
       "      <th>open</th>\n",
       "      <th>high</th>\n",
       "      <th>low</th>\n",
       "      <th>close</th>\n",
       "      <th>volume</th>\n",
       "      <th>datetime_sp</th>\n",
       "    </tr>\n",
       "  </thead>\n",
       "  <tbody>\n",
       "    <tr>\n",
       "      <th>0</th>\n",
       "      <td>PETR4.SA</td>\n",
       "      <td>2012-01-02</td>\n",
       "      <td>21.51</td>\n",
       "      <td>22.120001</td>\n",
       "      <td>21.260000</td>\n",
       "      <td>21.73</td>\n",
       "      <td>20391300</td>\n",
       "      <td>2012-01-02 04:00:00</td>\n",
       "    </tr>\n",
       "    <tr>\n",
       "      <th>1</th>\n",
       "      <td>PETR4.SA</td>\n",
       "      <td>2012-01-03</td>\n",
       "      <td>21.83</td>\n",
       "      <td>22.410000</td>\n",
       "      <td>21.809999</td>\n",
       "      <td>22.41</td>\n",
       "      <td>22940500</td>\n",
       "      <td>2012-01-03 04:00:00</td>\n",
       "    </tr>\n",
       "  </tbody>\n",
       "</table>\n",
       "</div>"
      ],
      "text/plain": [
       "     ticker        date   open       high        low  close    volume  \\\n",
       "0  PETR4.SA  2012-01-02  21.51  22.120001  21.260000  21.73  20391300   \n",
       "1  PETR4.SA  2012-01-03  21.83  22.410000  21.809999  22.41  22940500   \n",
       "\n",
       "          datetime_sp  \n",
       "0 2012-01-02 04:00:00  \n",
       "1 2012-01-03 04:00:00  "
      ]
     },
     "metadata": {},
     "output_type": "display_data"
    },
    {
     "name": "stdout",
     "output_type": "stream",
     "text": [
      "\n",
      "[02_adequado] _bvsp_1d.parquet -> exists=True\n",
      " path: G:\\Drives compartilhados\\BOLSA_2026\\a_bolsa2026_gemini\\00_data\\02_adequado\\_bvsp_1d.parquet\n",
      " rows: 3400 date: 2012-01-03 -> 2025-09-19\n",
      " tz(datetime_sp): None\n",
      " columns: ['ticker', 'date', 'open', 'high', 'low', 'close', 'volume', 'datetime_sp']\n",
      " dtypes: {'ticker': 'object', 'date': 'object', 'open': 'float64', 'high': 'float64', 'low': 'float64', 'close': 'float64', 'volume': 'int64', 'datetime_sp': 'datetime64[ns]'}\n"
     ]
    },
    {
     "data": {
      "application/vnd.microsoft.datawrangler.viewer.v0+json": {
       "columns": [
        {
         "name": "index",
         "rawType": "int64",
         "type": "integer"
        },
        {
         "name": "ticker",
         "rawType": "object",
         "type": "string"
        },
        {
         "name": "date",
         "rawType": "object",
         "type": "string"
        },
        {
         "name": "open",
         "rawType": "float64",
         "type": "float"
        },
        {
         "name": "high",
         "rawType": "float64",
         "type": "float"
        },
        {
         "name": "low",
         "rawType": "float64",
         "type": "float"
        },
        {
         "name": "close",
         "rawType": "float64",
         "type": "float"
        },
        {
         "name": "volume",
         "rawType": "int64",
         "type": "integer"
        },
        {
         "name": "datetime_sp",
         "rawType": "datetime64[ns]",
         "type": "datetime"
        }
       ],
       "ref": "1b1964a0-847b-448f-98c7-0b45123221b8",
       "rows": [
        [
         "0",
         "_bvsp",
         "2012-01-03",
         "57836.0",
         "59288.0",
         "57836.0",
         "59265.0",
         "3083000",
         "2012-01-03 04:00:00"
        ],
        [
         "1",
         "_bvsp",
         "2012-01-04",
         "59263.0",
         "59519.0",
         "58558.0",
         "59365.0",
         "2252000",
         "2012-01-04 04:00:00"
        ]
       ],
       "shape": {
        "columns": 8,
        "rows": 2
       }
      },
      "text/html": [
       "<div>\n",
       "<style scoped>\n",
       "    .dataframe tbody tr th:only-of-type {\n",
       "        vertical-align: middle;\n",
       "    }\n",
       "\n",
       "    .dataframe tbody tr th {\n",
       "        vertical-align: top;\n",
       "    }\n",
       "\n",
       "    .dataframe thead th {\n",
       "        text-align: right;\n",
       "    }\n",
       "</style>\n",
       "<table border=\"1\" class=\"dataframe\">\n",
       "  <thead>\n",
       "    <tr style=\"text-align: right;\">\n",
       "      <th></th>\n",
       "      <th>ticker</th>\n",
       "      <th>date</th>\n",
       "      <th>open</th>\n",
       "      <th>high</th>\n",
       "      <th>low</th>\n",
       "      <th>close</th>\n",
       "      <th>volume</th>\n",
       "      <th>datetime_sp</th>\n",
       "    </tr>\n",
       "  </thead>\n",
       "  <tbody>\n",
       "    <tr>\n",
       "      <th>0</th>\n",
       "      <td>_bvsp</td>\n",
       "      <td>2012-01-03</td>\n",
       "      <td>57836.0</td>\n",
       "      <td>59288.0</td>\n",
       "      <td>57836.0</td>\n",
       "      <td>59265.0</td>\n",
       "      <td>3083000</td>\n",
       "      <td>2012-01-03 04:00:00</td>\n",
       "    </tr>\n",
       "    <tr>\n",
       "      <th>1</th>\n",
       "      <td>_bvsp</td>\n",
       "      <td>2012-01-04</td>\n",
       "      <td>59263.0</td>\n",
       "      <td>59519.0</td>\n",
       "      <td>58558.0</td>\n",
       "      <td>59365.0</td>\n",
       "      <td>2252000</td>\n",
       "      <td>2012-01-04 04:00:00</td>\n",
       "    </tr>\n",
       "  </tbody>\n",
       "</table>\n",
       "</div>"
      ],
      "text/plain": [
       "  ticker        date     open     high      low    close   volume  \\\n",
       "0  _bvsp  2012-01-03  57836.0  59288.0  57836.0  59265.0  3083000   \n",
       "1  _bvsp  2012-01-04  59263.0  59519.0  58558.0  59365.0  2252000   \n",
       "\n",
       "          datetime_sp  \n",
       "0 2012-01-03 04:00:00  \n",
       "1 2012-01-04 04:00:00  "
      ]
     },
     "metadata": {},
     "output_type": "display_data"
    },
    {
     "name": "stdout",
     "output_type": "stream",
     "text": [
      "\n",
      "[02_adequado] ewz_1d.parquet -> exists=True\n",
      " path: G:\\Drives compartilhados\\BOLSA_2026\\a_bolsa2026_gemini\\00_data\\02_adequado\\ewz_1d.parquet\n",
      " rows: 3449 date: 2012-01-03 -> 2025-09-19\n",
      " tz(datetime_sp): None\n",
      " columns: ['ticker', 'date', 'open', 'high', 'low', 'close', 'volume', 'datetime_sp']\n",
      " dtypes: {'ticker': 'object', 'date': 'object', 'open': 'float64', 'high': 'float64', 'low': 'float64', 'close': 'float64', 'volume': 'int64', 'datetime_sp': 'datetime64[ns]'}\n"
     ]
    },
    {
     "data": {
      "application/vnd.microsoft.datawrangler.viewer.v0+json": {
       "columns": [
        {
         "name": "index",
         "rawType": "int64",
         "type": "integer"
        },
        {
         "name": "ticker",
         "rawType": "object",
         "type": "string"
        },
        {
         "name": "date",
         "rawType": "object",
         "type": "string"
        },
        {
         "name": "open",
         "rawType": "float64",
         "type": "float"
        },
        {
         "name": "high",
         "rawType": "float64",
         "type": "float"
        },
        {
         "name": "low",
         "rawType": "float64",
         "type": "float"
        },
        {
         "name": "close",
         "rawType": "float64",
         "type": "float"
        },
        {
         "name": "volume",
         "rawType": "int64",
         "type": "integer"
        },
        {
         "name": "datetime_sp",
         "rawType": "datetime64[ns]",
         "type": "datetime"
        }
       ],
       "ref": "7849cf37-ff75-4c68-9987-c381a7e8d226",
       "rows": [
        [
         "0",
         "ewz",
         "2012-01-03",
         "59.099998474121094",
         "60.11000061035156",
         "59.060001373291016",
         "59.70000076293945",
         "20052500",
         "2012-01-03 07:00:00"
        ],
        [
         "1",
         "ewz",
         "2012-01-04",
         "59.58000183105469",
         "60.470001220703125",
         "59.560001373291016",
         "59.91999816894531",
         "11113200",
         "2012-01-04 07:00:00"
        ]
       ],
       "shape": {
        "columns": 8,
        "rows": 2
       }
      },
      "text/html": [
       "<div>\n",
       "<style scoped>\n",
       "    .dataframe tbody tr th:only-of-type {\n",
       "        vertical-align: middle;\n",
       "    }\n",
       "\n",
       "    .dataframe tbody tr th {\n",
       "        vertical-align: top;\n",
       "    }\n",
       "\n",
       "    .dataframe thead th {\n",
       "        text-align: right;\n",
       "    }\n",
       "</style>\n",
       "<table border=\"1\" class=\"dataframe\">\n",
       "  <thead>\n",
       "    <tr style=\"text-align: right;\">\n",
       "      <th></th>\n",
       "      <th>ticker</th>\n",
       "      <th>date</th>\n",
       "      <th>open</th>\n",
       "      <th>high</th>\n",
       "      <th>low</th>\n",
       "      <th>close</th>\n",
       "      <th>volume</th>\n",
       "      <th>datetime_sp</th>\n",
       "    </tr>\n",
       "  </thead>\n",
       "  <tbody>\n",
       "    <tr>\n",
       "      <th>0</th>\n",
       "      <td>ewz</td>\n",
       "      <td>2012-01-03</td>\n",
       "      <td>59.099998</td>\n",
       "      <td>60.110001</td>\n",
       "      <td>59.060001</td>\n",
       "      <td>59.700001</td>\n",
       "      <td>20052500</td>\n",
       "      <td>2012-01-03 07:00:00</td>\n",
       "    </tr>\n",
       "    <tr>\n",
       "      <th>1</th>\n",
       "      <td>ewz</td>\n",
       "      <td>2012-01-04</td>\n",
       "      <td>59.580002</td>\n",
       "      <td>60.470001</td>\n",
       "      <td>59.560001</td>\n",
       "      <td>59.919998</td>\n",
       "      <td>11113200</td>\n",
       "      <td>2012-01-04 07:00:00</td>\n",
       "    </tr>\n",
       "  </tbody>\n",
       "</table>\n",
       "</div>"
      ],
      "text/plain": [
       "  ticker        date       open       high        low      close    volume  \\\n",
       "0    ewz  2012-01-03  59.099998  60.110001  59.060001  59.700001  20052500   \n",
       "1    ewz  2012-01-04  59.580002  60.470001  59.560001  59.919998  11113200   \n",
       "\n",
       "          datetime_sp  \n",
       "0 2012-01-03 07:00:00  \n",
       "1 2012-01-04 07:00:00  "
      ]
     },
     "metadata": {},
     "output_type": "display_data"
    },
    {
     "name": "stdout",
     "output_type": "stream",
     "text": [
      "\n",
      "[02_adequado] _gspc_1d.parquet -> exists=True\n",
      " path: G:\\Drives compartilhados\\BOLSA_2026\\a_bolsa2026_gemini\\00_data\\02_adequado\\_gspc_1d.parquet\n",
      " rows: 3449 date: 2012-01-03 -> 2025-09-19\n",
      " tz(datetime_sp): None\n",
      " columns: ['ticker', 'date', 'open', 'high', 'low', 'close', 'volume', 'datetime_sp']\n",
      " dtypes: {'ticker': 'object', 'date': 'object', 'open': 'float64', 'high': 'float64', 'low': 'float64', 'close': 'float64', 'volume': 'int64', 'datetime_sp': 'datetime64[ns]'}\n"
     ]
    },
    {
     "data": {
      "application/vnd.microsoft.datawrangler.viewer.v0+json": {
       "columns": [
        {
         "name": "index",
         "rawType": "int64",
         "type": "integer"
        },
        {
         "name": "ticker",
         "rawType": "object",
         "type": "string"
        },
        {
         "name": "date",
         "rawType": "object",
         "type": "string"
        },
        {
         "name": "open",
         "rawType": "float64",
         "type": "float"
        },
        {
         "name": "high",
         "rawType": "float64",
         "type": "float"
        },
        {
         "name": "low",
         "rawType": "float64",
         "type": "float"
        },
        {
         "name": "close",
         "rawType": "float64",
         "type": "float"
        },
        {
         "name": "volume",
         "rawType": "int64",
         "type": "integer"
        },
        {
         "name": "datetime_sp",
         "rawType": "datetime64[ns]",
         "type": "datetime"
        }
       ],
       "ref": "d37655b2-c41a-4064-8731-34f8c3b7db69",
       "rows": [
        [
         "0",
         "_gspc",
         "2012-01-03",
         "1258.8599853515625",
         "1284.6199951171875",
         "1258.8599853515625",
         "1277.06005859375",
         "3943710000",
         "2012-01-03 07:00:00"
        ],
        [
         "1",
         "_gspc",
         "2012-01-04",
         "1277.030029296875",
         "1278.72998046875",
         "1268.0999755859375",
         "1277.300048828125",
         "3592580000",
         "2012-01-04 07:00:00"
        ]
       ],
       "shape": {
        "columns": 8,
        "rows": 2
       }
      },
      "text/html": [
       "<div>\n",
       "<style scoped>\n",
       "    .dataframe tbody tr th:only-of-type {\n",
       "        vertical-align: middle;\n",
       "    }\n",
       "\n",
       "    .dataframe tbody tr th {\n",
       "        vertical-align: top;\n",
       "    }\n",
       "\n",
       "    .dataframe thead th {\n",
       "        text-align: right;\n",
       "    }\n",
       "</style>\n",
       "<table border=\"1\" class=\"dataframe\">\n",
       "  <thead>\n",
       "    <tr style=\"text-align: right;\">\n",
       "      <th></th>\n",
       "      <th>ticker</th>\n",
       "      <th>date</th>\n",
       "      <th>open</th>\n",
       "      <th>high</th>\n",
       "      <th>low</th>\n",
       "      <th>close</th>\n",
       "      <th>volume</th>\n",
       "      <th>datetime_sp</th>\n",
       "    </tr>\n",
       "  </thead>\n",
       "  <tbody>\n",
       "    <tr>\n",
       "      <th>0</th>\n",
       "      <td>_gspc</td>\n",
       "      <td>2012-01-03</td>\n",
       "      <td>1258.859985</td>\n",
       "      <td>1284.619995</td>\n",
       "      <td>1258.859985</td>\n",
       "      <td>1277.060059</td>\n",
       "      <td>3943710000</td>\n",
       "      <td>2012-01-03 07:00:00</td>\n",
       "    </tr>\n",
       "    <tr>\n",
       "      <th>1</th>\n",
       "      <td>_gspc</td>\n",
       "      <td>2012-01-04</td>\n",
       "      <td>1277.030029</td>\n",
       "      <td>1278.729980</td>\n",
       "      <td>1268.099976</td>\n",
       "      <td>1277.300049</td>\n",
       "      <td>3592580000</td>\n",
       "      <td>2012-01-04 07:00:00</td>\n",
       "    </tr>\n",
       "  </tbody>\n",
       "</table>\n",
       "</div>"
      ],
      "text/plain": [
       "  ticker        date         open         high          low        close  \\\n",
       "0  _gspc  2012-01-03  1258.859985  1284.619995  1258.859985  1277.060059   \n",
       "1  _gspc  2012-01-04  1277.030029  1278.729980  1268.099976  1277.300049   \n",
       "\n",
       "       volume         datetime_sp  \n",
       "0  3943710000 2012-01-03 07:00:00  \n",
       "1  3592580000 2012-01-04 07:00:00  "
      ]
     },
     "metadata": {},
     "output_type": "display_data"
    },
    {
     "name": "stdout",
     "output_type": "stream",
     "text": [
      "\n"
     ]
    }
   ],
   "source": [
    "# 6) Inspeção de estrutura/detalhes em 01_bruto e 02_adequado (3 ações + 3 indicadores)\n",
    "from pathlib import Path\n",
    "import pandas as pd\n",
    "\n",
    "BASE = Path(r\"G:/Drives compartilhados/BOLSA_2026/a_bolsa2026_gemini/00_data\")\n",
    "SRC_FOLDERS = [\"01_bruto\", \"02_adequado\"]\n",
    "\n",
    "# escolha das séries para amostra\n",
    "STOCKS = [\"ABEV3.SA\", \"ITUB4.SA\", \"PETR4.SA\"]\n",
    "INDICS = [\"_bvsp\", \"ewz\", \"_gspc\"]\n",
    "\n",
    "def fname_for_stock(sym: str) -> str:\n",
    "    return f\"{sym.lower().replace('.', '_')}_1d.parquet\"\n",
    "\n",
    "def fname_for_indicator(db_label: str) -> str:\n",
    "    return f\"{db_label.replace('.', '_').lower()}_1d.parquet\"\n",
    "\n",
    "def summarize_parquet(folder: str, filename: str) -> dict:\n",
    "    p = BASE / folder / filename\n",
    "    if not p.exists():\n",
    "        return {\n",
    "            \"folder\": folder, \"file\": filename, \"exists\": False,\n",
    "            \"rows\": 0, \"date_min\": None, \"date_max\": None,\n",
    "            \"columns\": None, \"dtypes\": None, \"tz_datetime_sp\": None,\n",
    "            \"path\": str(p),\n",
    "        }\n",
    "    df = pd.read_parquet(p)\n",
    "    info = {\n",
    "        \"folder\": folder,\n",
    "        \"file\": filename,\n",
    "        \"exists\": True,\n",
    "        \"rows\": int(df.shape[0]),\n",
    "        \"columns\": list(df.columns),\n",
    "        \"dtypes\": {c: str(df[c].dtype) for c in df.columns},\n",
    "        \"date_min\": str(pd.to_datetime(df[\"date\"]).min().date()) if \"date\" in df.columns and not df.empty else None,\n",
    "        \"date_max\": str(pd.to_datetime(df[\"date\"]).max().date()) if \"date\" in df.columns and not df.empty else None,\n",
    "        \"tz_datetime_sp\": None,\n",
    "        \"path\": str(p),\n",
    "    }\n",
    "    if \"datetime_sp\" in df.columns and not df.empty:\n",
    "        try:\n",
    "            v = df[\"datetime_sp\"].iloc[0]\n",
    "            tz = getattr(getattr(v, \"tz\", None), \"key\", None) or str(getattr(v, \"tz\", None))\n",
    "            info[\"tz_datetime_sp\"] = tz\n",
    "        except Exception:\n",
    "            info[\"tz_datetime_sp\"] = None\n",
    "    return info\n",
    "\n",
    "def pretty_print(info: dict):\n",
    "    print(f\"[{info['folder']}] {info['file']} -> exists={info['exists']}\")\n",
    "    print(\" path:\", info[\"path\"])\n",
    "    if not info[\"exists\"]:\n",
    "        print()\n",
    "        return\n",
    "    print(\" rows:\", info[\"rows\"], \"date:\", info[\"date_min\"], \"->\", info[\"date_max\"])\n",
    "    print(\" tz(datetime_sp):\", info[\"tz_datetime_sp\"])\n",
    "    print(\" columns:\", info[\"columns\"])\n",
    "    print(\" dtypes:\", info[\"dtypes\"])\n",
    "    # amostra rápida\n",
    "    try:\n",
    "        df = pd.read_parquet(info[\"path\"])\n",
    "        display(df.head(2))\n",
    "    except Exception:\n",
    "        pass\n",
    "    print()\n",
    "\n",
    "targets = []\n",
    "for s in STOCKS:\n",
    "    targets.append(fname_for_stock(s))\n",
    "for i in INDICS:\n",
    "    targets.append(fname_for_indicator(i))\n",
    "\n",
    "for folder in SRC_FOLDERS:\n",
    "    print(\"===\", folder, \"===\")\n",
    "    for fn in targets:\n",
    "        pretty_print(summarize_parquet(folder, fn))"
   ]
  },
  {
   "cell_type": "markdown",
   "id": "db33334e",
   "metadata": {},
   "source": [
    "## Validação leve — 02_adequado\n",
    "\n",
    "> Varrer `00_data/02_adequado`, checar duplicatas por (ticker, date), resumir linhas e intervalo de datas, e salvar um mini-manifesto CSV na própria pasta."
   ]
  },
  {
   "cell_type": "code",
   "execution_count": 18,
   "id": "6b0035c3",
   "metadata": {},
   "outputs": [
    {
     "name": "stdout",
     "output_type": "stream",
     "text": [
      "Manifesto salvo em: G:\\Drives compartilhados\\BOLSA_2026\\a_bolsa2026_gemini\\00_data\\02_adequado\\manifest_02_adequado.csv\n",
      "Arquivos: 31 Linhas totais: 101298\n"
     ]
    },
    {
     "data": {
      "application/vnd.microsoft.datawrangler.viewer.v0+json": {
       "columns": [
        {
         "name": "index",
         "rawType": "int64",
         "type": "integer"
        },
        {
         "name": "file",
         "rawType": "object",
         "type": "string"
        },
        {
         "name": "path",
         "rawType": "object",
         "type": "string"
        },
        {
         "name": "ticker",
         "rawType": "object",
         "type": "string"
        },
        {
         "name": "rows",
         "rawType": "int64",
         "type": "integer"
        },
        {
         "name": "date_min",
         "rawType": "object",
         "type": "string"
        },
        {
         "name": "date_max",
         "rawType": "object",
         "type": "string"
        },
        {
         "name": "has_datetime_sp",
         "rawType": "bool",
         "type": "boolean"
        },
        {
         "name": "dup_count",
         "rawType": "int64",
         "type": "integer"
        }
       ],
       "ref": "578cafbc-38ed-4994-9749-4ee57e4383ab",
       "rows": [
        [
         "0",
         "abev3_sa_1d.parquet",
         "G:\\Drives compartilhados\\BOLSA_2026\\a_bolsa2026_gemini\\00_data\\02_adequado\\abev3_sa_1d.parquet",
         "ABEV3.SA",
         "3409",
         "2012-01-02",
         "2025-09-19",
         "True",
         "0"
        ],
        [
         "1",
         "b3sa3_sa_1d.parquet",
         "G:\\Drives compartilhados\\BOLSA_2026\\a_bolsa2026_gemini\\00_data\\02_adequado\\b3sa3_sa_1d.parquet",
         "B3SA3.SA",
         "3409",
         "2012-01-02",
         "2025-09-19",
         "True",
         "0"
        ],
        [
         "2",
         "bbas3_sa_1d.parquet",
         "G:\\Drives compartilhados\\BOLSA_2026\\a_bolsa2026_gemini\\00_data\\02_adequado\\bbas3_sa_1d.parquet",
         "BBAS3.SA",
         "3409",
         "2012-01-02",
         "2025-09-19",
         "True",
         "0"
        ],
        [
         "3",
         "cple6_sa_1d.parquet",
         "G:\\Drives compartilhados\\BOLSA_2026\\a_bolsa2026_gemini\\00_data\\02_adequado\\cple6_sa_1d.parquet",
         "CPLE6.SA",
         "3408",
         "2012-01-02",
         "2025-09-19",
         "True",
         "0"
        ],
        [
         "4",
         "csna3_sa_1d.parquet",
         "G:\\Drives compartilhados\\BOLSA_2026\\a_bolsa2026_gemini\\00_data\\02_adequado\\csna3_sa_1d.parquet",
         "CSNA3.SA",
         "3409",
         "2012-01-02",
         "2025-09-19",
         "True",
         "0"
        ],
        [
         "5",
         "elet3_sa_1d.parquet",
         "G:\\Drives compartilhados\\BOLSA_2026\\a_bolsa2026_gemini\\00_data\\02_adequado\\elet3_sa_1d.parquet",
         "ELET3.SA",
         "3409",
         "2012-01-02",
         "2025-09-19",
         "True",
         "0"
        ],
        [
         "6",
         "ggbr4_sa_1d.parquet",
         "G:\\Drives compartilhados\\BOLSA_2026\\a_bolsa2026_gemini\\00_data\\02_adequado\\ggbr4_sa_1d.parquet",
         "GGBR4.SA",
         "3409",
         "2012-01-02",
         "2025-09-19",
         "True",
         "0"
        ],
        [
         "7",
         "hapv3_sa_1d.parquet",
         "G:\\Drives compartilhados\\BOLSA_2026\\a_bolsa2026_gemini\\00_data\\02_adequado\\hapv3_sa_1d.parquet",
         "HAPV3.SA",
         "1840",
         "2018-04-26",
         "2025-09-19",
         "True",
         "0"
        ],
        [
         "8",
         "itub4_sa_1d.parquet",
         "G:\\Drives compartilhados\\BOLSA_2026\\a_bolsa2026_gemini\\00_data\\02_adequado\\itub4_sa_1d.parquet",
         "ITUB4.SA",
         "3409",
         "2012-01-02",
         "2025-09-19",
         "True",
         "0"
        ],
        [
         "9",
         "lren3_sa_1d.parquet",
         "G:\\Drives compartilhados\\BOLSA_2026\\a_bolsa2026_gemini\\00_data\\02_adequado\\lren3_sa_1d.parquet",
         "LREN3.SA",
         "3409",
         "2012-01-02",
         "2025-09-19",
         "True",
         "0"
        ]
       ],
       "shape": {
        "columns": 8,
        "rows": 10
       }
      },
      "text/html": [
       "<div>\n",
       "<style scoped>\n",
       "    .dataframe tbody tr th:only-of-type {\n",
       "        vertical-align: middle;\n",
       "    }\n",
       "\n",
       "    .dataframe tbody tr th {\n",
       "        vertical-align: top;\n",
       "    }\n",
       "\n",
       "    .dataframe thead th {\n",
       "        text-align: right;\n",
       "    }\n",
       "</style>\n",
       "<table border=\"1\" class=\"dataframe\">\n",
       "  <thead>\n",
       "    <tr style=\"text-align: right;\">\n",
       "      <th></th>\n",
       "      <th>file</th>\n",
       "      <th>path</th>\n",
       "      <th>ticker</th>\n",
       "      <th>rows</th>\n",
       "      <th>date_min</th>\n",
       "      <th>date_max</th>\n",
       "      <th>has_datetime_sp</th>\n",
       "      <th>dup_count</th>\n",
       "    </tr>\n",
       "  </thead>\n",
       "  <tbody>\n",
       "    <tr>\n",
       "      <th>0</th>\n",
       "      <td>abev3_sa_1d.parquet</td>\n",
       "      <td>G:\\Drives compartilhados\\BOLSA_2026\\a_bolsa202...</td>\n",
       "      <td>ABEV3.SA</td>\n",
       "      <td>3409</td>\n",
       "      <td>2012-01-02</td>\n",
       "      <td>2025-09-19</td>\n",
       "      <td>True</td>\n",
       "      <td>0</td>\n",
       "    </tr>\n",
       "    <tr>\n",
       "      <th>1</th>\n",
       "      <td>b3sa3_sa_1d.parquet</td>\n",
       "      <td>G:\\Drives compartilhados\\BOLSA_2026\\a_bolsa202...</td>\n",
       "      <td>B3SA3.SA</td>\n",
       "      <td>3409</td>\n",
       "      <td>2012-01-02</td>\n",
       "      <td>2025-09-19</td>\n",
       "      <td>True</td>\n",
       "      <td>0</td>\n",
       "    </tr>\n",
       "    <tr>\n",
       "      <th>2</th>\n",
       "      <td>bbas3_sa_1d.parquet</td>\n",
       "      <td>G:\\Drives compartilhados\\BOLSA_2026\\a_bolsa202...</td>\n",
       "      <td>BBAS3.SA</td>\n",
       "      <td>3409</td>\n",
       "      <td>2012-01-02</td>\n",
       "      <td>2025-09-19</td>\n",
       "      <td>True</td>\n",
       "      <td>0</td>\n",
       "    </tr>\n",
       "    <tr>\n",
       "      <th>3</th>\n",
       "      <td>cple6_sa_1d.parquet</td>\n",
       "      <td>G:\\Drives compartilhados\\BOLSA_2026\\a_bolsa202...</td>\n",
       "      <td>CPLE6.SA</td>\n",
       "      <td>3408</td>\n",
       "      <td>2012-01-02</td>\n",
       "      <td>2025-09-19</td>\n",
       "      <td>True</td>\n",
       "      <td>0</td>\n",
       "    </tr>\n",
       "    <tr>\n",
       "      <th>4</th>\n",
       "      <td>csna3_sa_1d.parquet</td>\n",
       "      <td>G:\\Drives compartilhados\\BOLSA_2026\\a_bolsa202...</td>\n",
       "      <td>CSNA3.SA</td>\n",
       "      <td>3409</td>\n",
       "      <td>2012-01-02</td>\n",
       "      <td>2025-09-19</td>\n",
       "      <td>True</td>\n",
       "      <td>0</td>\n",
       "    </tr>\n",
       "    <tr>\n",
       "      <th>5</th>\n",
       "      <td>elet3_sa_1d.parquet</td>\n",
       "      <td>G:\\Drives compartilhados\\BOLSA_2026\\a_bolsa202...</td>\n",
       "      <td>ELET3.SA</td>\n",
       "      <td>3409</td>\n",
       "      <td>2012-01-02</td>\n",
       "      <td>2025-09-19</td>\n",
       "      <td>True</td>\n",
       "      <td>0</td>\n",
       "    </tr>\n",
       "    <tr>\n",
       "      <th>6</th>\n",
       "      <td>ggbr4_sa_1d.parquet</td>\n",
       "      <td>G:\\Drives compartilhados\\BOLSA_2026\\a_bolsa202...</td>\n",
       "      <td>GGBR4.SA</td>\n",
       "      <td>3409</td>\n",
       "      <td>2012-01-02</td>\n",
       "      <td>2025-09-19</td>\n",
       "      <td>True</td>\n",
       "      <td>0</td>\n",
       "    </tr>\n",
       "    <tr>\n",
       "      <th>7</th>\n",
       "      <td>hapv3_sa_1d.parquet</td>\n",
       "      <td>G:\\Drives compartilhados\\BOLSA_2026\\a_bolsa202...</td>\n",
       "      <td>HAPV3.SA</td>\n",
       "      <td>1840</td>\n",
       "      <td>2018-04-26</td>\n",
       "      <td>2025-09-19</td>\n",
       "      <td>True</td>\n",
       "      <td>0</td>\n",
       "    </tr>\n",
       "    <tr>\n",
       "      <th>8</th>\n",
       "      <td>itub4_sa_1d.parquet</td>\n",
       "      <td>G:\\Drives compartilhados\\BOLSA_2026\\a_bolsa202...</td>\n",
       "      <td>ITUB4.SA</td>\n",
       "      <td>3409</td>\n",
       "      <td>2012-01-02</td>\n",
       "      <td>2025-09-19</td>\n",
       "      <td>True</td>\n",
       "      <td>0</td>\n",
       "    </tr>\n",
       "    <tr>\n",
       "      <th>9</th>\n",
       "      <td>lren3_sa_1d.parquet</td>\n",
       "      <td>G:\\Drives compartilhados\\BOLSA_2026\\a_bolsa202...</td>\n",
       "      <td>LREN3.SA</td>\n",
       "      <td>3409</td>\n",
       "      <td>2012-01-02</td>\n",
       "      <td>2025-09-19</td>\n",
       "      <td>True</td>\n",
       "      <td>0</td>\n",
       "    </tr>\n",
       "  </tbody>\n",
       "</table>\n",
       "</div>"
      ],
      "text/plain": [
       "                  file                                               path  \\\n",
       "0  abev3_sa_1d.parquet  G:\\Drives compartilhados\\BOLSA_2026\\a_bolsa202...   \n",
       "1  b3sa3_sa_1d.parquet  G:\\Drives compartilhados\\BOLSA_2026\\a_bolsa202...   \n",
       "2  bbas3_sa_1d.parquet  G:\\Drives compartilhados\\BOLSA_2026\\a_bolsa202...   \n",
       "3  cple6_sa_1d.parquet  G:\\Drives compartilhados\\BOLSA_2026\\a_bolsa202...   \n",
       "4  csna3_sa_1d.parquet  G:\\Drives compartilhados\\BOLSA_2026\\a_bolsa202...   \n",
       "5  elet3_sa_1d.parquet  G:\\Drives compartilhados\\BOLSA_2026\\a_bolsa202...   \n",
       "6  ggbr4_sa_1d.parquet  G:\\Drives compartilhados\\BOLSA_2026\\a_bolsa202...   \n",
       "7  hapv3_sa_1d.parquet  G:\\Drives compartilhados\\BOLSA_2026\\a_bolsa202...   \n",
       "8  itub4_sa_1d.parquet  G:\\Drives compartilhados\\BOLSA_2026\\a_bolsa202...   \n",
       "9  lren3_sa_1d.parquet  G:\\Drives compartilhados\\BOLSA_2026\\a_bolsa202...   \n",
       "\n",
       "     ticker  rows    date_min    date_max  has_datetime_sp  dup_count  \n",
       "0  ABEV3.SA  3409  2012-01-02  2025-09-19             True          0  \n",
       "1  B3SA3.SA  3409  2012-01-02  2025-09-19             True          0  \n",
       "2  BBAS3.SA  3409  2012-01-02  2025-09-19             True          0  \n",
       "3  CPLE6.SA  3408  2012-01-02  2025-09-19             True          0  \n",
       "4  CSNA3.SA  3409  2012-01-02  2025-09-19             True          0  \n",
       "5  ELET3.SA  3409  2012-01-02  2025-09-19             True          0  \n",
       "6  GGBR4.SA  3409  2012-01-02  2025-09-19             True          0  \n",
       "7  HAPV3.SA  1840  2018-04-26  2025-09-19             True          0  \n",
       "8  ITUB4.SA  3409  2012-01-02  2025-09-19             True          0  \n",
       "9  LREN3.SA  3409  2012-01-02  2025-09-19             True          0  "
      ]
     },
     "metadata": {},
     "output_type": "display_data"
    },
    {
     "name": "stdout",
     "output_type": "stream",
     "text": [
      "Sem problemas detectados.\n"
     ]
    }
   ],
   "source": [
    "# Validação leve de 02_adequado: manifesto e duplicatas\n",
    "from pathlib import Path\n",
    "import pandas as pd\n",
    "\n",
    "BASE = Path(r\"G:/Drives compartilhados/BOLSA_2026/a_bolsa2026_gemini/00_data/02_adequado\")\n",
    "OUT_MAN = BASE / \"manifest_02_adequado.csv\"\n",
    "\n",
    "rows = []\n",
    "problems = []\n",
    "\n",
    "for p in sorted(BASE.glob(\"*.parquet\")):\n",
    "    try:\n",
    "        df = pd.read_parquet(p)\n",
    "        # normalizar colunas esperadas\n",
    "        ren = {\"Date\":\"date\",\"Open\":\"open\",\"High\":\"high\",\"Low\":\"low\",\"Close\":\"close\",\"Adj Close\":\"adj_close\",\"Volume\":\"volume\"}\n",
    "        df = df.rename(columns=ren)\n",
    "        if \"datetime_sp\" in df.columns:\n",
    "            s = pd.to_datetime(df[\"datetime_sp\"], errors=\"coerce\")\n",
    "            df[\"date\"] = pd.to_datetime(df.get(\"date\", s), errors=\"coerce\").dt.date.astype(str)\n",
    "        else:\n",
    "            df[\"date\"] = pd.to_datetime(df.get(\"date\"), errors=\"coerce\").dt.date.astype(str)\n",
    "        if \"ticker\" not in df.columns or df[\"ticker\"].isna().any():\n",
    "            # inferir do nome do arquivo\n",
    "            name = p.name\n",
    "            if name.endswith(\"_1d.parquet\"):\n",
    "                tk = name[:-len(\"_1d.parquet\")].replace(\"_sa\",\" \").replace(\"_\",\" \").strip().replace(\" \", \"\").upper()\n",
    "            else:\n",
    "                tk = name.upper()\n",
    "            df[\"ticker\"] = tk\n",
    "        # checar duplicatas\n",
    "        dup = int(df.duplicated(subset=[\"ticker\",\"date\"], keep=False).sum()) if not df.empty else 0\n",
    "        if dup > 0:\n",
    "            problems.append(f\"[DUP] {p.name} duplicatas={dup}\")\n",
    "        # resumo\n",
    "        rows.append({\n",
    "            \"file\": p.name,\n",
    "            \"path\": str(p),\n",
    "            \"ticker\": str(df[\"ticker\"].iloc[0]) if not df.empty else None,\n",
    "            \"rows\": int(df.shape[0]),\n",
    "            \"date_min\": None if df.empty else str(pd.to_datetime(df[\"date\"]).min().date()),\n",
    "            \"date_max\": None if df.empty else str(pd.to_datetime(df[\"date\"]).max().date()),\n",
    "            \"has_datetime_sp\": \"datetime_sp\" in df.columns,\n",
    "            \"dup_count\": dup,\n",
    "        })\n",
    "    except Exception as e:\n",
    "        problems.append(f\"[ERRO] {p.name}: {e}\")\n",
    "\n",
    "mf = pd.DataFrame(rows).sort_values([\"ticker\"]).reset_index(drop=True)\n",
    "mf.to_csv(OUT_MAN, index=False)\n",
    "print(\"Manifesto salvo em:\", OUT_MAN)\n",
    "print(\"Arquivos:\", len(mf), \"Linhas totais:\", int(mf[\"rows\"].sum()) if not mf.empty else 0)\n",
    "if not mf.empty:\n",
    "    display(mf.head(10))\n",
    "if problems:\n",
    "    print(\"Problemas:\")\n",
    "    for x in problems[:100]:\n",
    "        print(\" \", x)\n",
    "else:\n",
    "    print(\"Sem problemas detectados.\")"
   ]
  },
  {
   "cell_type": "markdown",
   "id": "e6bf00ac",
   "metadata": {},
   "source": [
    "## Painéis wide 1D (curado) → MinIO\n",
    "\n",
    "> Gera matrizes diárias (linhas = datas, colunas = 31 tickers) para métricas selecionadas a partir de `00_data/02_adequado` e salva em `00_data/minio_panels_stage`. Se variáveis `MINIO_*` estiverem definidas, faz upload para um bucket MinIO."
   ]
  },
  {
   "cell_type": "markdown",
   "id": "02fee412",
   "metadata": {},
   "source": [
    "## Silver: panel_close (SSOT)\n",
    "\n",
    "> Consolida todos os painéis de fechamento diário em uma única tabela ampla (`date` + colunas=tickers) e salva em `00_data/02_curado/panel_close.parquet`.\n",
    "\n",
    "> Preferência de fonte:\n",
    "- Se existirem CSVs por ano em `00_data/minio_panels_stage/panel_close_Y*.csv`, iremos concatenar todos (fonte: stage_csv).\n",
    "- Caso contrário, geramos o painel a partir de `00_data/02_adequado` por pivot (fonte: from_02_adequado).\n",
    "\n",
    "> Também gravamos um manifesto JSON com metadados (linhas, colunas, intervalo de datas, tickers, origem)."
   ]
  },
  {
   "cell_type": "markdown",
   "id": "6214d014",
   "metadata": {},
   "source": [
    "## Silver: panel_volume (SSOT)\n",
    "\n",
    "> Consolida os painéis de volume diário em uma única tabela ampla (`date` + colunas=tickers) e salva em `00_data/02_curado/panel_volume.parquet`.\n",
    "\n",
    "> Preferência de fonte:\n",
    "- Se existirem CSVs por ano em `00_data/minio_panels_stage/panel_volume_Y*.csv`, concatenamos todos (fonte: stage_csv).\n",
    "- Caso contrário, geramos o painel a partir de `00_data/02_adequado` por pivot (fonte: from_02_adequado).\n",
    "\n",
    "> Também gravamos um manifesto JSON (linhas, colunas, intervalo de datas, tickers, origem)."
   ]
  },
  {
   "cell_type": "code",
   "execution_count": 23,
   "id": "46e8cd6b",
   "metadata": {},
   "outputs": [
    {
     "name": "stdout",
     "output_type": "stream",
     "text": [
      "Silver panel_volume salvo em: G:\\Drives compartilhados\\BOLSA_2026\\a_bolsa2026_gemini\\00_data\\02_curado\\panel_volume.parquet\n",
      "Manifesto: G:\\Drives compartilhados\\BOLSA_2026\\a_bolsa2026_gemini\\00_data\\02_curado\\panel_volume_manifest.json\n",
      "Linhas: 3539 Colunas: 32\n"
     ]
    }
   ],
   "source": [
    "# Construir e materializar o Silver SSOT: panel_volume.parquet\n",
    "from pathlib import Path\n",
    "import json\n",
    "import pandas as pd\n",
    "\n",
    "BASE_ADEQ = Path(r\"G:/Drives compartilhados/BOLSA_2026/a_bolsa2026_gemini/00_data/02_adequado\")\n",
    "STAGE = Path(r\"G:/Drives compartilhados/BOLSA_2026/a_bolsa2026_gemini/00_data/minio_panels_stage\")\n",
    "CURADO = Path(r\"G:/Drives compartilhados/BOLSA_2026/a_bolsa2026_gemini/00_data/02_curado\")\n",
    "CURADO.mkdir(parents=True, exist_ok=True)\n",
    "\n",
    "out_parquet = CURADO / \"panel_volume.parquet\"\n",
    "out_manifest = CURADO / \"panel_volume_manifest.json\"\n",
    "\n",
    "# 1) Se houver CSVs por ano em STAGE, concatenar\n",
    "csvs = sorted(STAGE.glob(\"panel_volume_Y*.csv\"))\n",
    "source = None\n",
    "if csvs:\n",
    "    pieces = []\n",
    "    for p in csvs:\n",
    "        df = pd.read_csv(p, parse_dates=[0])\n",
    "        if df.columns[0].lower() in (\"date\", \"data\"):\n",
    "            df = df.rename(columns={df.columns[0]: \"date\"})\n",
    "        else:\n",
    "            df = df.rename(columns={df.columns[0]: \"date\"})\n",
    "        pieces.append(df)\n",
    "    panel = pd.concat(pieces, ignore_index=True)\n",
    "    panel[\"date\"] = pd.to_datetime(panel[\"date\"]).dt.normalize()\n",
    "    panel = panel.drop_duplicates(subset=[\"date\"]).sort_values(\"date\").reset_index(drop=True)\n",
    "    source = \"stage_csv\"\n",
    "else:\n",
    "    # 2) Caso contrário, construir a partir de 02_adequado\n",
    "    files = sorted(BASE_ADEQ.glob(\"*.parquet\"))\n",
    "    if not files:\n",
    "        raise FileNotFoundError(\"Sem arquivos em 02_adequado para construir o painel de volume.\")\n",
    "    all_rows = []\n",
    "    for p in files:\n",
    "        df = pd.read_parquet(p)\n",
    "        ren = {\"Date\":\"date\",\"Open\":\"open\",\"High\":\"high\",\"Low\":\"low\",\"Close\":\"close\",\"Adj Close\":\"adj_close\",\"Volume\":\"volume\"}\n",
    "        df = df.rename(columns=ren)\n",
    "        # ticker\n",
    "        if \"ticker\" not in df.columns or df[\"ticker\"].isna().any():\n",
    "            name = p.name\n",
    "            if name.endswith(\"_1d.parquet\"):\n",
    "                tk = name[:-len(\"_1d.parquet\")].replace(\"_sa\",\" \").replace(\"_\",\" \").strip().replace(\" \", \"\").upper()\n",
    "            else:\n",
    "                tk = name.upper()\n",
    "            df[\"ticker\"] = tk\n",
    "        # date -> datetime64[ns]\n",
    "        if \"datetime_sp\" in df.columns:\n",
    "            s = pd.to_datetime(df[\"datetime_sp\"], errors=\"coerce\")\n",
    "            df[\"date\"] = pd.to_datetime(df.get(\"date\", s), errors=\"coerce\").dt.normalize()\n",
    "        else:\n",
    "            df[\"date\"] = pd.to_datetime(df.get(\"date\"), errors=\"coerce\").dt.normalize()\n",
    "        keep = [\"ticker\",\"date\",\"volume\"]\n",
    "        for c in keep:\n",
    "            if c not in df.columns:\n",
    "                df[c] = pd.NA\n",
    "        all_rows.append(df[keep])\n",
    "    tidy = pd.concat(all_rows, ignore_index=True)\n",
    "    tidy = tidy.drop_duplicates(subset=[\"ticker\",\"date\"]).sort_values([\"date\",\"ticker\"]) \n",
    "    panel = tidy.pivot(index=\"date\", columns=\"ticker\", values=\"volume\").sort_index().reset_index()\n",
    "    source = \"from_02_adequado\"\n",
    "\n",
    "# Escrever Parquet\n",
    "panel.to_parquet(out_parquet, index=False, engine=\"pyarrow\", compression=\"snappy\")\n",
    "\n",
    "# Manifesto\n",
    "meta = {\n",
    "    \"path\": str(out_parquet),\n",
    "    \"rows\": int(panel.shape[0]),\n",
    "    \"cols\": int(panel.shape[1]),\n",
    "    \"date_min\": None if panel.empty else str(pd.to_datetime(panel[\"date\"]).min().date()),\n",
    "    \"date_max\": None if panel.empty else str(pd.to_datetime(panel[\"date\"]).max().date()),\n",
    "    \"tickers\": [] if panel.empty else [c for c in panel.columns if c != \"date\"],\n",
    "    \"source\": source,\n",
    "}\n",
    "with open(out_manifest, \"w\", encoding=\"utf-8\") as f:\n",
    "    json.dump(meta, f, ensure_ascii=False, indent=2)\n",
    "\n",
    "print(\"Silver panel_volume salvo em:\", out_parquet)\n",
    "print(\"Manifesto:\", out_manifest)\n",
    "print(\"Linhas:\", meta[\"rows\"], \"Colunas:\", meta[\"cols\"])"
   ]
  },
  {
   "cell_type": "code",
   "execution_count": null,
   "id": "59dbbda6",
   "metadata": {},
   "outputs": [
    {
     "name": "stdout",
     "output_type": "stream",
     "text": [
      "Silver panel_close salvo em: G:\\Drives compartilhados\\BOLSA_2026\\a_bolsa2026_gemini\\00_data\\02_curado\\panel_close.parquet\n",
      "Manifesto: G:\\Drives compartilhados\\BOLSA_2026\\a_bolsa2026_gemini\\00_data\\02_curado\\panel_close_manifest.json\n",
      "Linhas: 3539 Colunas: 32\n"
     ]
    }
   ],
   "source": [
    "# Construir e materializar o Silver SSOT: panel_close.parquet\n",
    "from pathlib import Path\n",
    "import json\n",
    "import pandas as pd\n",
    "\n",
    "BASE_ADEQ = Path(r\"G:/Drives compartilhados/BOLSA_2026/a_bolsa2026_gemini/00_data/02_adequado\")\n",
    "STAGE = Path(r\"G:/Drives compartilhados/BOLSA_2026/a_bolsa2026_gemini/00_data/minio_panels_stage\")\n",
    "CURADO = Path(r\"G:/Drives compartilhados/BOLSA_2026/a_bolsa2026_gemini/00_data/02_curado\")\n",
    "CURADO.mkdir(parents=True, exist_ok=True)\n",
    "\n",
    "out_parquet = CURADO / \"panel_close.parquet\"\n",
    "out_manifest = CURADO / \"panel_close_manifest.json\"\n",
    "\n",
    "# 1) Se houver CSVs por ano em STAGE, concatenar\n",
    "csvs = sorted(STAGE.glob(\"panel_close_Y*.csv\"))\n",
    "source = None\n",
    "if csvs:\n",
    "    pieces = []\n",
    "    for p in csvs:\n",
    "        df = pd.read_csv(p, parse_dates=[0])\n",
    "        # primeira coluna é data (index ou coluna)\n",
    "        if df.columns[0].lower() in (\"date\", \"data\"):\n",
    "            df = df.rename(columns={df.columns[0]: \"date\"})\n",
    "        else:\n",
    "            df = df.rename(columns={df.columns[0]: \"date\"})\n",
    "        pieces.append(df)\n",
    "    panel = pd.concat(pieces, ignore_index=True)\n",
    "    panel[\"date\"] = pd.to_datetime(panel[\"date\"]).dt.normalize()  # datetime64[ns], meia-noite\n",
    "    panel = panel.drop_duplicates(subset=[\"date\"]).sort_values(\"date\").reset_index(drop=True)\n",
    "    source = \"stage_csv\"\n",
    "else:\n",
    "    # 2) Caso contrário, construir a partir de 02_adequado\n",
    "    files = sorted(BASE_ADEQ.glob(\"*.parquet\"))\n",
    "    if not files:\n",
    "        raise FileNotFoundError(\"Sem arquivos em 02_adequado para construir o painel.\")\n",
    "    all_rows = []\n",
    "    for p in files:\n",
    "        df = pd.read_parquet(p)\n",
    "        ren = {\"Date\":\"date\",\"Open\":\"open\",\"High\":\"high\",\"Low\":\"low\",\"Close\":\"close\",\"Adj Close\":\"adj_close\",\"Volume\":\"volume\"}\n",
    "        df = df.rename(columns=ren)\n",
    "        # ticker\n",
    "        if \"ticker\" not in df.columns or df[\"ticker\"].isna().any():\n",
    "            name = p.name\n",
    "            if name.endswith(\"_1d.parquet\"):\n",
    "                tk = name[:-len(\"_1d.parquet\")].replace(\"_sa\",\" \").replace(\"_\",\" \").strip().replace(\" \", \"\").upper()\n",
    "            else:\n",
    "                tk = name.upper()\n",
    "            df[\"ticker\"] = tk\n",
    "        # date -> datetime64[ns]\n",
    "        if \"datetime_sp\" in df.columns:\n",
    "            s = pd.to_datetime(df[\"datetime_sp\"], errors=\"coerce\")\n",
    "            df[\"date\"] = pd.to_datetime(df.get(\"date\", s), errors=\"coerce\").dt.normalize()\n",
    "        else:\n",
    "            df[\"date\"] = pd.to_datetime(df.get(\"date\"), errors=\"coerce\").dt.normalize()\n",
    "        keep = [\"ticker\",\"date\",\"close\"]\n",
    "        for c in keep:\n",
    "            if c not in df.columns:\n",
    "                df[c] = pd.NA\n",
    "        all_rows.append(df[keep])\n",
    "    tidy = pd.concat(all_rows, ignore_index=True)\n",
    "    tidy = tidy.drop_duplicates(subset=[\"ticker\",\"date\"]).sort_values([\"date\",\"ticker\"]) \n",
    "    panel = tidy.pivot(index=\"date\", columns=\"ticker\", values=\"close\").sort_index().reset_index()  # date + wide\n",
    "    source = \"from_02_adequado\"\n",
    "\n",
    "# Escrever Parquet (colunas= date + tickers) com pyarrow/snappy\n",
    "panel.to_parquet(out_parquet, index=False, engine=\"pyarrow\", compression=\"snappy\")\n",
    "\n",
    "# Manifesto\n",
    "meta = {\n",
    "    \"path\": str(out_parquet),\n",
    "    \"rows\": int(panel.shape[0]),\n",
    "    \"cols\": int(panel.shape[1]),\n",
    "    \"date_min\": None if panel.empty else str(pd.to_datetime(panel[\"date\"]).min().date()),\n",
    "    \"date_max\": None if panel.empty else str(pd.to_datetime(panel[\"date\"]).max().date()),\n",
    "    \"tickers\": [] if panel.empty else [c for c in panel.columns if c != \"date\"],\n",
    "    \"source\": source,\n",
    "}\n",
    "with open(out_manifest, \"w\", encoding=\"utf-8\") as f:\n",
    "    json.dump(meta, f, ensure_ascii=False, indent=2)\n",
    "\n",
    "print(\"Silver panel_close salvo em:\", out_parquet)\n",
    "print(\"Manifesto:\", out_manifest)\n",
    "print(\"Linhas:\", meta[\"rows\"], \"Colunas:\", meta[\"cols\"])"
   ]
  },
  {
   "cell_type": "markdown",
   "id": "3299b84d",
   "metadata": {},
   "source": [
    "### Verificação dos SSOT (close/volume)\n",
    "\n",
    "> Para cada ticker: primeira/última data com valor e contagem de NaNs; além de resumo global por arquivo."
   ]
  },
  {
   "cell_type": "code",
   "execution_count": 26,
   "id": "6eca8e02",
   "metadata": {},
   "outputs": [
    {
     "name": "stdout",
     "output_type": "stream",
     "text": [
      "Datas SSOT (globais): 2012-01-02 → 2025-10-01\n",
      "Tickers: 31 | Linhas totais: 3547\n",
      "Datas SSOT (globais): 2012-01-02 → 2025-10-01\n",
      "Tickers: 31 | Linhas totais: 3547\n",
      "\n",
      "Close — primeiras linhas:\n"
     ]
    },
    {
     "data": {
      "application/vnd.microsoft.datawrangler.viewer.v0+json": {
       "columns": [
        {
         "name": "index",
         "rawType": "int64",
         "type": "integer"
        },
        {
         "name": "ticker",
         "rawType": "object",
         "type": "string"
        },
        {
         "name": "date_first_non_null",
         "rawType": "object",
         "type": "string"
        },
        {
         "name": "date_last_non_null",
         "rawType": "object",
         "type": "string"
        },
        {
         "name": "nan_count",
         "rawType": "int64",
         "type": "integer"
        },
        {
         "name": "total_rows",
         "rawType": "int64",
         "type": "integer"
        },
        {
         "name": "coverage_pct",
         "rawType": "float64",
         "type": "float"
        }
       ],
       "ref": "8d210b49-e45c-43b3-aa40-1bff05a2f8c5",
       "rows": [
        [
         "0",
         "ABEV3.SA",
         "2012-01-02",
         "2025-10-01",
         "132",
         "3547",
         "96.28"
        ],
        [
         "1",
         "B3SA3.SA",
         "2012-01-02",
         "2025-10-01",
         "131",
         "3547",
         "96.31"
        ],
        [
         "2",
         "BBAS3.SA",
         "2012-01-02",
         "2025-10-01",
         "131",
         "3547",
         "96.31"
        ],
        [
         "3",
         "CPLE6.SA",
         "2012-01-02",
         "2025-10-01",
         "133",
         "3547",
         "96.25"
        ],
        [
         "4",
         "CSNA3.SA",
         "2012-01-02",
         "2025-10-01",
         "132",
         "3547",
         "96.28"
        ],
        [
         "5",
         "ELET3.SA",
         "2012-01-02",
         "2025-10-01",
         "132",
         "3547",
         "96.28"
        ],
        [
         "6",
         "GGBR4.SA",
         "2012-01-02",
         "2025-10-01",
         "132",
         "3547",
         "96.28"
        ],
        [
         "7",
         "HAPV3.SA",
         "2018-04-26",
         "2025-10-01",
         "1701",
         "3547",
         "52.04"
        ],
        [
         "8",
         "ITUB4.SA",
         "2012-01-02",
         "2025-10-01",
         "131",
         "3547",
         "96.31"
        ],
        [
         "9",
         "LREN3.SA",
         "2012-01-02",
         "2025-10-01",
         "131",
         "3547",
         "96.31"
        ]
       ],
       "shape": {
        "columns": 6,
        "rows": 10
       }
      },
      "text/html": [
       "<div>\n",
       "<style scoped>\n",
       "    .dataframe tbody tr th:only-of-type {\n",
       "        vertical-align: middle;\n",
       "    }\n",
       "\n",
       "    .dataframe tbody tr th {\n",
       "        vertical-align: top;\n",
       "    }\n",
       "\n",
       "    .dataframe thead th {\n",
       "        text-align: right;\n",
       "    }\n",
       "</style>\n",
       "<table border=\"1\" class=\"dataframe\">\n",
       "  <thead>\n",
       "    <tr style=\"text-align: right;\">\n",
       "      <th></th>\n",
       "      <th>ticker</th>\n",
       "      <th>date_first_non_null</th>\n",
       "      <th>date_last_non_null</th>\n",
       "      <th>nan_count</th>\n",
       "      <th>total_rows</th>\n",
       "      <th>coverage_pct</th>\n",
       "    </tr>\n",
       "  </thead>\n",
       "  <tbody>\n",
       "    <tr>\n",
       "      <th>0</th>\n",
       "      <td>ABEV3.SA</td>\n",
       "      <td>2012-01-02</td>\n",
       "      <td>2025-10-01</td>\n",
       "      <td>132</td>\n",
       "      <td>3547</td>\n",
       "      <td>96.28</td>\n",
       "    </tr>\n",
       "    <tr>\n",
       "      <th>1</th>\n",
       "      <td>B3SA3.SA</td>\n",
       "      <td>2012-01-02</td>\n",
       "      <td>2025-10-01</td>\n",
       "      <td>131</td>\n",
       "      <td>3547</td>\n",
       "      <td>96.31</td>\n",
       "    </tr>\n",
       "    <tr>\n",
       "      <th>2</th>\n",
       "      <td>BBAS3.SA</td>\n",
       "      <td>2012-01-02</td>\n",
       "      <td>2025-10-01</td>\n",
       "      <td>131</td>\n",
       "      <td>3547</td>\n",
       "      <td>96.31</td>\n",
       "    </tr>\n",
       "    <tr>\n",
       "      <th>3</th>\n",
       "      <td>CPLE6.SA</td>\n",
       "      <td>2012-01-02</td>\n",
       "      <td>2025-10-01</td>\n",
       "      <td>133</td>\n",
       "      <td>3547</td>\n",
       "      <td>96.25</td>\n",
       "    </tr>\n",
       "    <tr>\n",
       "      <th>4</th>\n",
       "      <td>CSNA3.SA</td>\n",
       "      <td>2012-01-02</td>\n",
       "      <td>2025-10-01</td>\n",
       "      <td>132</td>\n",
       "      <td>3547</td>\n",
       "      <td>96.28</td>\n",
       "    </tr>\n",
       "    <tr>\n",
       "      <th>5</th>\n",
       "      <td>ELET3.SA</td>\n",
       "      <td>2012-01-02</td>\n",
       "      <td>2025-10-01</td>\n",
       "      <td>132</td>\n",
       "      <td>3547</td>\n",
       "      <td>96.28</td>\n",
       "    </tr>\n",
       "    <tr>\n",
       "      <th>6</th>\n",
       "      <td>GGBR4.SA</td>\n",
       "      <td>2012-01-02</td>\n",
       "      <td>2025-10-01</td>\n",
       "      <td>132</td>\n",
       "      <td>3547</td>\n",
       "      <td>96.28</td>\n",
       "    </tr>\n",
       "    <tr>\n",
       "      <th>7</th>\n",
       "      <td>HAPV3.SA</td>\n",
       "      <td>2018-04-26</td>\n",
       "      <td>2025-10-01</td>\n",
       "      <td>1701</td>\n",
       "      <td>3547</td>\n",
       "      <td>52.04</td>\n",
       "    </tr>\n",
       "    <tr>\n",
       "      <th>8</th>\n",
       "      <td>ITUB4.SA</td>\n",
       "      <td>2012-01-02</td>\n",
       "      <td>2025-10-01</td>\n",
       "      <td>131</td>\n",
       "      <td>3547</td>\n",
       "      <td>96.31</td>\n",
       "    </tr>\n",
       "    <tr>\n",
       "      <th>9</th>\n",
       "      <td>LREN3.SA</td>\n",
       "      <td>2012-01-02</td>\n",
       "      <td>2025-10-01</td>\n",
       "      <td>131</td>\n",
       "      <td>3547</td>\n",
       "      <td>96.31</td>\n",
       "    </tr>\n",
       "  </tbody>\n",
       "</table>\n",
       "</div>"
      ],
      "text/plain": [
       "     ticker date_first_non_null date_last_non_null  nan_count  total_rows  \\\n",
       "0  ABEV3.SA          2012-01-02         2025-10-01        132        3547   \n",
       "1  B3SA3.SA          2012-01-02         2025-10-01        131        3547   \n",
       "2  BBAS3.SA          2012-01-02         2025-10-01        131        3547   \n",
       "3  CPLE6.SA          2012-01-02         2025-10-01        133        3547   \n",
       "4  CSNA3.SA          2012-01-02         2025-10-01        132        3547   \n",
       "5  ELET3.SA          2012-01-02         2025-10-01        132        3547   \n",
       "6  GGBR4.SA          2012-01-02         2025-10-01        132        3547   \n",
       "7  HAPV3.SA          2018-04-26         2025-10-01       1701        3547   \n",
       "8  ITUB4.SA          2012-01-02         2025-10-01        131        3547   \n",
       "9  LREN3.SA          2012-01-02         2025-10-01        131        3547   \n",
       "\n",
       "   coverage_pct  \n",
       "0         96.28  \n",
       "1         96.31  \n",
       "2         96.31  \n",
       "3         96.25  \n",
       "4         96.28  \n",
       "5         96.28  \n",
       "6         96.28  \n",
       "7         52.04  \n",
       "8         96.31  \n",
       "9         96.31  "
      ]
     },
     "metadata": {},
     "output_type": "display_data"
    },
    {
     "name": "stdout",
     "output_type": "stream",
     "text": [
      "\n",
      "Volume — primeiras linhas:\n"
     ]
    },
    {
     "data": {
      "application/vnd.microsoft.datawrangler.viewer.v0+json": {
       "columns": [
        {
         "name": "index",
         "rawType": "int64",
         "type": "integer"
        },
        {
         "name": "ticker",
         "rawType": "object",
         "type": "string"
        },
        {
         "name": "date_first_non_null",
         "rawType": "object",
         "type": "string"
        },
        {
         "name": "date_last_non_null",
         "rawType": "object",
         "type": "string"
        },
        {
         "name": "nan_count",
         "rawType": "int64",
         "type": "integer"
        },
        {
         "name": "total_rows",
         "rawType": "int64",
         "type": "integer"
        },
        {
         "name": "coverage_pct",
         "rawType": "float64",
         "type": "float"
        }
       ],
       "ref": "ea959e5f-7c0c-445d-b3f2-47bb3808ad4f",
       "rows": [
        [
         "0",
         "ABEV3.SA",
         "2012-01-02",
         "2025-10-01",
         "132",
         "3547",
         "96.28"
        ],
        [
         "1",
         "B3SA3.SA",
         "2012-01-02",
         "2025-10-01",
         "131",
         "3547",
         "96.31"
        ],
        [
         "2",
         "BBAS3.SA",
         "2012-01-02",
         "2025-10-01",
         "131",
         "3547",
         "96.31"
        ],
        [
         "3",
         "CPLE6.SA",
         "2012-01-02",
         "2025-10-01",
         "133",
         "3547",
         "96.25"
        ],
        [
         "4",
         "CSNA3.SA",
         "2012-01-02",
         "2025-10-01",
         "132",
         "3547",
         "96.28"
        ],
        [
         "5",
         "ELET3.SA",
         "2012-01-02",
         "2025-10-01",
         "132",
         "3547",
         "96.28"
        ],
        [
         "6",
         "GGBR4.SA",
         "2012-01-02",
         "2025-10-01",
         "132",
         "3547",
         "96.28"
        ],
        [
         "7",
         "HAPV3.SA",
         "2018-04-26",
         "2025-10-01",
         "1701",
         "3547",
         "52.04"
        ],
        [
         "8",
         "ITUB4.SA",
         "2012-01-02",
         "2025-10-01",
         "131",
         "3547",
         "96.31"
        ],
        [
         "9",
         "LREN3.SA",
         "2012-01-02",
         "2025-10-01",
         "131",
         "3547",
         "96.31"
        ]
       ],
       "shape": {
        "columns": 6,
        "rows": 10
       }
      },
      "text/html": [
       "<div>\n",
       "<style scoped>\n",
       "    .dataframe tbody tr th:only-of-type {\n",
       "        vertical-align: middle;\n",
       "    }\n",
       "\n",
       "    .dataframe tbody tr th {\n",
       "        vertical-align: top;\n",
       "    }\n",
       "\n",
       "    .dataframe thead th {\n",
       "        text-align: right;\n",
       "    }\n",
       "</style>\n",
       "<table border=\"1\" class=\"dataframe\">\n",
       "  <thead>\n",
       "    <tr style=\"text-align: right;\">\n",
       "      <th></th>\n",
       "      <th>ticker</th>\n",
       "      <th>date_first_non_null</th>\n",
       "      <th>date_last_non_null</th>\n",
       "      <th>nan_count</th>\n",
       "      <th>total_rows</th>\n",
       "      <th>coverage_pct</th>\n",
       "    </tr>\n",
       "  </thead>\n",
       "  <tbody>\n",
       "    <tr>\n",
       "      <th>0</th>\n",
       "      <td>ABEV3.SA</td>\n",
       "      <td>2012-01-02</td>\n",
       "      <td>2025-10-01</td>\n",
       "      <td>132</td>\n",
       "      <td>3547</td>\n",
       "      <td>96.28</td>\n",
       "    </tr>\n",
       "    <tr>\n",
       "      <th>1</th>\n",
       "      <td>B3SA3.SA</td>\n",
       "      <td>2012-01-02</td>\n",
       "      <td>2025-10-01</td>\n",
       "      <td>131</td>\n",
       "      <td>3547</td>\n",
       "      <td>96.31</td>\n",
       "    </tr>\n",
       "    <tr>\n",
       "      <th>2</th>\n",
       "      <td>BBAS3.SA</td>\n",
       "      <td>2012-01-02</td>\n",
       "      <td>2025-10-01</td>\n",
       "      <td>131</td>\n",
       "      <td>3547</td>\n",
       "      <td>96.31</td>\n",
       "    </tr>\n",
       "    <tr>\n",
       "      <th>3</th>\n",
       "      <td>CPLE6.SA</td>\n",
       "      <td>2012-01-02</td>\n",
       "      <td>2025-10-01</td>\n",
       "      <td>133</td>\n",
       "      <td>3547</td>\n",
       "      <td>96.25</td>\n",
       "    </tr>\n",
       "    <tr>\n",
       "      <th>4</th>\n",
       "      <td>CSNA3.SA</td>\n",
       "      <td>2012-01-02</td>\n",
       "      <td>2025-10-01</td>\n",
       "      <td>132</td>\n",
       "      <td>3547</td>\n",
       "      <td>96.28</td>\n",
       "    </tr>\n",
       "    <tr>\n",
       "      <th>5</th>\n",
       "      <td>ELET3.SA</td>\n",
       "      <td>2012-01-02</td>\n",
       "      <td>2025-10-01</td>\n",
       "      <td>132</td>\n",
       "      <td>3547</td>\n",
       "      <td>96.28</td>\n",
       "    </tr>\n",
       "    <tr>\n",
       "      <th>6</th>\n",
       "      <td>GGBR4.SA</td>\n",
       "      <td>2012-01-02</td>\n",
       "      <td>2025-10-01</td>\n",
       "      <td>132</td>\n",
       "      <td>3547</td>\n",
       "      <td>96.28</td>\n",
       "    </tr>\n",
       "    <tr>\n",
       "      <th>7</th>\n",
       "      <td>HAPV3.SA</td>\n",
       "      <td>2018-04-26</td>\n",
       "      <td>2025-10-01</td>\n",
       "      <td>1701</td>\n",
       "      <td>3547</td>\n",
       "      <td>52.04</td>\n",
       "    </tr>\n",
       "    <tr>\n",
       "      <th>8</th>\n",
       "      <td>ITUB4.SA</td>\n",
       "      <td>2012-01-02</td>\n",
       "      <td>2025-10-01</td>\n",
       "      <td>131</td>\n",
       "      <td>3547</td>\n",
       "      <td>96.31</td>\n",
       "    </tr>\n",
       "    <tr>\n",
       "      <th>9</th>\n",
       "      <td>LREN3.SA</td>\n",
       "      <td>2012-01-02</td>\n",
       "      <td>2025-10-01</td>\n",
       "      <td>131</td>\n",
       "      <td>3547</td>\n",
       "      <td>96.31</td>\n",
       "    </tr>\n",
       "  </tbody>\n",
       "</table>\n",
       "</div>"
      ],
      "text/plain": [
       "     ticker date_first_non_null date_last_non_null  nan_count  total_rows  \\\n",
       "0  ABEV3.SA          2012-01-02         2025-10-01        132        3547   \n",
       "1  B3SA3.SA          2012-01-02         2025-10-01        131        3547   \n",
       "2  BBAS3.SA          2012-01-02         2025-10-01        131        3547   \n",
       "3  CPLE6.SA          2012-01-02         2025-10-01        133        3547   \n",
       "4  CSNA3.SA          2012-01-02         2025-10-01        132        3547   \n",
       "5  ELET3.SA          2012-01-02         2025-10-01        132        3547   \n",
       "6  GGBR4.SA          2012-01-02         2025-10-01        132        3547   \n",
       "7  HAPV3.SA          2018-04-26         2025-10-01       1701        3547   \n",
       "8  ITUB4.SA          2012-01-02         2025-10-01        131        3547   \n",
       "9  LREN3.SA          2012-01-02         2025-10-01        131        3547   \n",
       "\n",
       "   coverage_pct  \n",
       "0         96.28  \n",
       "1         96.31  \n",
       "2         96.31  \n",
       "3         96.25  \n",
       "4         96.28  \n",
       "5         96.28  \n",
       "6         96.28  \n",
       "7         52.04  \n",
       "8         96.31  \n",
       "9         96.31  "
      ]
     },
     "metadata": {},
     "output_type": "display_data"
    }
   ],
   "source": [
    "from pathlib import Path\n",
    "import pandas as pd\n",
    "\n",
    "def summarize_ssot(parquet_path: str | Path) -> pd.DataFrame:\n",
    "    p = Path(parquet_path)\n",
    "    if not p.exists():\n",
    "        raise FileNotFoundError(f\"Arquivo não encontrado: {p}\")\n",
    "    df = pd.read_parquet(p)\n",
    "    if \"date\" not in df.columns:\n",
    "        raise ValueError(\"Coluna 'date' não encontrada no SSOT.\")\n",
    "    df[\"date\"] = pd.to_datetime(df[\"date\"], errors=\"coerce\")\n",
    "    df = df.sort_values(\"date\").reset_index(drop=True)\n",
    "\n",
    "    tickers = [c for c in df.columns if c != \"date\"]\n",
    "    total_rows = len(df)\n",
    "\n",
    "    rows = []\n",
    "    for tk in sorted(tickers):\n",
    "        s = df[tk]\n",
    "        non_null_mask = ~s.isna()\n",
    "        if non_null_mask.any():\n",
    "            first_date = df.loc[non_null_mask, \"date\"].iloc[0].date()\n",
    "            last_date  = df.loc[non_null_mask, \"date\"].iloc[-1].date()\n",
    "        else:\n",
    "            first_date = None\n",
    "            last_date  = None\n",
    "        nan_count = int(s.isna().sum())\n",
    "        coverage = 0.0 if total_rows == 0 else 100.0 * (total_rows - nan_count) / total_rows\n",
    "        rows.append({\n",
    "            \"ticker\": tk,\n",
    "            \"date_first_non_null\": None if first_date is None else str(first_date),\n",
    "            \"date_last_non_null\":  None if last_date  is None else str(last_date),\n",
    "            \"nan_count\": nan_count,\n",
    "            \"total_rows\": total_rows,\n",
    "            \"coverage_pct\": round(coverage, 2),\n",
    "        })\n",
    "\n",
    "    out = pd.DataFrame(rows).sort_values(\"ticker\").reset_index(drop=True)\n",
    "    print(\"Datas SSOT (globais):\", str(df[\"date\"].min().date()), \"→\", str(df[\"date\"].max().date()))\n",
    "    print(\"Tickers:\", len(tickers), \"| Linhas totais:\", total_rows)\n",
    "    return out\n",
    "\n",
    "BASE = Path(r\"G:/Drives compartilhados/BOLSA_2026/a_bolsa2026_gemini/00_data/02_curado\")\n",
    "summary_close = summarize_ssot(BASE / \"panel_close.parquet\")\n",
    "summary_volume = summarize_ssot(BASE / \"panel_volume.parquet\")\n",
    "\n",
    "print(\"\\nClose — primeiras linhas:\")\n",
    "display(summary_close.head(10))\n",
    "\n",
    "print(\"\\nVolume — primeiras linhas:\")\n",
    "display(summary_volume.head(10))"
   ]
  }
 ],
 "metadata": {
  "kernelspec": {
   "display_name": ".conda",
   "language": "python",
   "name": "python3"
  },
  "language_info": {
   "codemirror_mode": {
    "name": "ipython",
    "version": 3
   },
   "file_extension": ".py",
   "mimetype": "text/x-python",
   "name": "python",
   "nbconvert_exporter": "python",
   "pygments_lexer": "ipython3",
   "version": "3.11.13"
  }
 },
 "nbformat": 4,
 "nbformat_minor": 5
}
